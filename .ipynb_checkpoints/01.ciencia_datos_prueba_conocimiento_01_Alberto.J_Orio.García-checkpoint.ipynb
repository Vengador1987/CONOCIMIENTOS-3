{
 "cells": [
  {
   "cell_type": "markdown",
   "id": "b327cbaa",
   "metadata": {},
   "source": [
    "## Prueba de Conocimientos Ciencia de Datos 01\n",
    "\n",
    "En este notebook puedes utilizar todas las librerias con las que hemos trabajado."
   ]
  },
  {
   "cell_type": "code",
   "execution_count": 1,
   "id": "b9b55356-99a1-4277-a28e-a65bd05bd9ac",
   "metadata": {},
   "outputs": [],
   "source": [
    "import requests \n",
    "\n",
    "from bs4 import BeautifulSoup\n",
    "\n",
    "from selenium import webdriver\n",
    "\n",
    "from time import sleep\n",
    "\n",
    "import helium\n",
    "\n",
    "import pandas as pd\n",
    "import numpy as np"
   ]
  },
  {
   "cell_type": "markdown",
   "id": "dc998db4",
   "metadata": {},
   "source": [
    "### Ejercicio 1:\n",
    "\n",
    "_**url** = https://www.20minutos.es/_\n",
    "\n",
    "Vamos a hacer Web Scraping de las primeras 3 paginas de las categorias de noticias: **Ciencia**, **Deporte**, **Gente**, **Economía**, **Madrid** y **Opinión**.\n",
    "\n",
    "Y de cada noticia/articulo vamos a obtener:\n",
    "\n",
    "- **Titulo**\n",
    "- **Hora**\n",
    "- **Fecha**\n",
    "- **Autor**\n",
    "- **Texto completo**\n",
    "- **Categoria (columna objetivo)**\n",
    "\n",
    "**Sustituir con NaN's en el caso de que no se pueda extraer alguno de esos datos anteriores.**\n",
    "\n",
    "Genera un DataFrame con esta información y guardalo en el archivo **`20minutos_1.csv`**."
   ]
  },
  {
   "cell_type": "code",
   "execution_count": 2,
   "id": "0ee42b78",
   "metadata": {},
   "outputs": [],
   "source": [
    "# Driver de Chrome.\n",
    "chrome_driver = \"chromedriver.exe\""
   ]
  },
  {
   "cell_type": "code",
   "execution_count": 3,
   "id": "75b1d362",
   "metadata": {},
   "outputs": [],
   "source": [
    "browser = webdriver.Chrome(executable_path = chrome_driver) # Abre el navegador.\n",
    "\n",
    "browser.get(\"https://www.20minutos.es/\") # Entra en 20minutos.\n",
    "\n",
    "browser.maximize_window() # Maximiza la ventana del navegador."
   ]
  },
  {
   "cell_type": "code",
   "execution_count": 4,
   "id": "ec0d81b7",
   "metadata": {},
   "outputs": [],
   "source": [
    "# Para aceptar las cookies.\n",
    "browser.find_element_by_id(\"didomi-notice-agree-button\").click()\n",
    "sleep(3)"
   ]
  },
  {
   "cell_type": "code",
   "execution_count": 5,
   "id": "b1c9bbf0",
   "metadata": {},
   "outputs": [],
   "source": [
    "# Para acceder a categorías. \n",
    "browser.find_element_by_css_selector(\"#ui-header-land > div.section-menu > nav > ul > li.primary-more.link.current.no-expandable.last\").click()\n",
    "sleep(3)"
   ]
  },
  {
   "cell_type": "code",
   "execution_count": 6,
   "id": "d8d78b70",
   "metadata": {},
   "outputs": [],
   "source": [
    "# Para entrar en la categoría \"Ciencia\".\n",
    "browser.find_element_by_link_text(\"Ciencia\").click()\n",
    "sleep(3)"
   ]
  },
  {
   "cell_type": "code",
   "execution_count": 7,
   "id": "7678e6c3",
   "metadata": {},
   "outputs": [],
   "source": [
    "#Extraemos el html y lo pasamos a objeto bs4\n",
    "soup = BeautifulSoup(browser.page_source, \"html.parser\")"
   ]
  },
  {
   "cell_type": "code",
   "execution_count": 8,
   "id": "8aeaa319-0f0c-48ec-acbd-980b86a616dc",
   "metadata": {},
   "outputs": [],
   "source": [
    "# Función para obtener una lista de enlaces.\n",
    "def noticiasCategoria(url_original, categoría, número_páginas):\n",
    "    lista_urls = []\n",
    "    \n",
    "    # Para recorrer las páginas.\n",
    "    for i in range(1, número_páginas + 1):\n",
    "        \n",
    "        url = f\"{url_original}{categoría}/{i}/\"\n",
    "        print(url)\n",
    "        \n",
    "        # EL response con Helium.\n",
    "        browser = helium.start_chrome(url, headless = True)\n",
    "        sleep(5)\n",
    "        \n",
    "        soup = BeautifulSoup(browser.page_source, \"html.parser\")\n",
    "        \n",
    "        # Para recorrer las noticias.\n",
    "        for bs in soup.find_all(\"div\", class_ = \"media-content\"):\n",
    "\n",
    "            # De esta forma se accede al enlace.\n",
    "            enlace = bs.find(\"a\")[\"href\"]\n",
    "\n",
    "            # Para incluir en la lista, solo cuando el enlace incluye el string \"noticia\", o la categoría se encuentr en \n",
    "            # el enlace, además de no tener el string \"imagenes\".\n",
    "            if ((\"noticia\" in enlace) or (categoría in enlace)) and (\"/imagenes/\" not in enlace):\n",
    "                lista_urls.append(enlace)\n",
    "    \n",
    "    return lista_urls"
   ]
  },
  {
   "cell_type": "code",
   "execution_count": 9,
   "id": "66cb255f-8f2e-487b-9f2b-794ff2d0a989",
   "metadata": {},
   "outputs": [
    {
     "name": "stdout",
     "output_type": "stream",
     "text": [
      "https://www.20minutos.es/ciencia/1/\n",
      "https://www.20minutos.es/ciencia/2/\n",
      "https://www.20minutos.es/ciencia/3/\n"
     ]
    },
    {
     "data": {
      "text/plain": [
       "88"
      ]
     },
     "execution_count": 9,
     "metadata": {},
     "output_type": "execute_result"
    }
   ],
   "source": [
    "# Con esto, se extraen las noticias de las 3 primeras páginas, y con el len del final, se comprueba su número.\n",
    "resultado = noticiasCategoria(\"https://www.20minutos.es/\", \"ciencia\", 3)\n",
    "len(resultado)"
   ]
  },
  {
   "cell_type": "code",
   "execution_count": 10,
   "id": "cb5715ef-6766-4ce4-8db7-8b9e1b71a7b8",
   "metadata": {},
   "outputs": [
    {
     "name": "stdout",
     "output_type": "stream",
     "text": [
      "https://www.20minutos.es/ciencia/1/\n",
      "https://www.20minutos.es/ciencia/2/\n",
      "https://www.20minutos.es/ciencia/3/\n",
      "https://www.20minutos.es/deportes/1/\n",
      "https://www.20minutos.es/deportes/2/\n",
      "https://www.20minutos.es/deportes/3/\n",
      "https://www.20minutos.es/gente/1/\n",
      "https://www.20minutos.es/gente/2/\n",
      "https://www.20minutos.es/gente/3/\n",
      "https://www.20minutos.es/economia/1/\n",
      "https://www.20minutos.es/economia/2/\n",
      "https://www.20minutos.es/economia/3/\n",
      "https://www.20minutos.es/madrid/1/\n",
      "https://www.20minutos.es/madrid/2/\n",
      "https://www.20minutos.es/madrid/3/\n",
      "https://www.20minutos.es/opinion/1/\n",
      "https://www.20minutos.es/opinion/2/\n",
      "https://www.20minutos.es/opinion/3/\n",
      "Wall time: 4min 53s\n"
     ]
    }
   ],
   "source": [
    "%%time\n",
    "\n",
    "# Con este código, lo mismo de antes, pero para todas las categorías que pide el ejercicio.\n",
    "\n",
    "categorias = [\"ciencia\", \"deportes\", \"gente\", \"economia\", \"madrid\", \"opinion\"]\n",
    "\n",
    "dict_enlaces = {}\n",
    "\n",
    "numero_paginas = 3\n",
    "\n",
    "for categoria in categorias:\n",
    "    \n",
    "    dict_enlaces[categoria] = noticiasCategoria(\"https://www.20minutos.es/\", categoria, numero_paginas)"
   ]
  },
  {
   "cell_type": "code",
   "execution_count": 16,
   "id": "fadc4c6d-9c3b-4837-87a2-c0bf4d38fcdf",
   "metadata": {},
   "outputs": [
    {
     "data": {
      "text/html": [
       "<div>\n",
       "<style scoped>\n",
       "    .dataframe tbody tr th:only-of-type {\n",
       "        vertical-align: middle;\n",
       "    }\n",
       "\n",
       "    .dataframe tbody tr th {\n",
       "        vertical-align: top;\n",
       "    }\n",
       "\n",
       "    .dataframe thead th {\n",
       "        text-align: right;\n",
       "    }\n",
       "</style>\n",
       "<table border=\"1\" class=\"dataframe\">\n",
       "  <thead>\n",
       "    <tr style=\"text-align: right;\">\n",
       "      <th></th>\n",
       "      <th>Categoría</th>\n",
       "      <th>Enlace</th>\n",
       "    </tr>\n",
       "  </thead>\n",
       "  <tbody>\n",
       "    <tr>\n",
       "      <th>0</th>\n",
       "      <td>ciencia</td>\n",
       "      <td>[https://www.20minutos.es/noticia/4978880/0/qu...</td>\n",
       "    </tr>\n",
       "    <tr>\n",
       "      <th>1</th>\n",
       "      <td>deportes</td>\n",
       "      <td>[https://www.20minutos.es/deportes/noticia/497...</td>\n",
       "    </tr>\n",
       "    <tr>\n",
       "      <th>2</th>\n",
       "      <td>gente</td>\n",
       "      <td>[https://www.20minutos.es/noticia/4978917/0/mu...</td>\n",
       "    </tr>\n",
       "    <tr>\n",
       "      <th>3</th>\n",
       "      <td>economia</td>\n",
       "      <td>[https://www.20minutos.es/noticia/4978961/0/la...</td>\n",
       "    </tr>\n",
       "    <tr>\n",
       "      <th>4</th>\n",
       "      <td>madrid</td>\n",
       "      <td>[https://www.20minutos.es/noticia/4978651/0/el...</td>\n",
       "    </tr>\n",
       "    <tr>\n",
       "      <th>5</th>\n",
       "      <td>opinion</td>\n",
       "      <td>[https://www.20minutos.es/opinion/helena-resan...</td>\n",
       "    </tr>\n",
       "  </tbody>\n",
       "</table>\n",
       "</div>"
      ],
      "text/plain": [
       "  Categoría                                             Enlace\n",
       "0   ciencia  [https://www.20minutos.es/noticia/4978880/0/qu...\n",
       "1  deportes  [https://www.20minutos.es/deportes/noticia/497...\n",
       "2     gente  [https://www.20minutos.es/noticia/4978917/0/mu...\n",
       "3  economia  [https://www.20minutos.es/noticia/4978961/0/la...\n",
       "4    madrid  [https://www.20minutos.es/noticia/4978651/0/el...\n",
       "5   opinion  [https://www.20minutos.es/opinion/helena-resan..."
      ]
     },
     "execution_count": 16,
     "metadata": {},
     "output_type": "execute_result"
    }
   ],
   "source": [
    "# Para guardar la información extraida en forma de DataFrame.\n",
    "df = pd.DataFrame(dict_enlaces.items(), columns = [\"Categoría\", \"Enlace\"])\n",
    "df"
   ]
  },
  {
   "cell_type": "code",
   "execution_count": 18,
   "id": "5f734726-a19c-467c-a3b9-002b77de8a25",
   "metadata": {},
   "outputs": [
    {
     "data": {
      "text/html": [
       "<div>\n",
       "<style scoped>\n",
       "    .dataframe tbody tr th:only-of-type {\n",
       "        vertical-align: middle;\n",
       "    }\n",
       "\n",
       "    .dataframe tbody tr th {\n",
       "        vertical-align: top;\n",
       "    }\n",
       "\n",
       "    .dataframe thead th {\n",
       "        text-align: right;\n",
       "    }\n",
       "</style>\n",
       "<table border=\"1\" class=\"dataframe\">\n",
       "  <thead>\n",
       "    <tr style=\"text-align: right;\">\n",
       "      <th></th>\n",
       "      <th>Categoría</th>\n",
       "      <th>Enlace</th>\n",
       "    </tr>\n",
       "  </thead>\n",
       "  <tbody>\n",
       "    <tr>\n",
       "      <th>0</th>\n",
       "      <td>ciencia</td>\n",
       "      <td>https://www.20minutos.es/noticia/4978880/0/que...</td>\n",
       "    </tr>\n",
       "    <tr>\n",
       "      <th>1</th>\n",
       "      <td>ciencia</td>\n",
       "      <td>https://www.20minutos.es/noticia/4978811/0/eae...</td>\n",
       "    </tr>\n",
       "    <tr>\n",
       "      <th>2</th>\n",
       "      <td>ciencia</td>\n",
       "      <td>https://www.20minutos.es/noticia/4978683/0/la-...</td>\n",
       "    </tr>\n",
       "    <tr>\n",
       "      <th>3</th>\n",
       "      <td>ciencia</td>\n",
       "      <td>https://www.20minutos.es/noticia/4978283/0/los...</td>\n",
       "    </tr>\n",
       "    <tr>\n",
       "      <th>4</th>\n",
       "      <td>ciencia</td>\n",
       "      <td>https://www.20minutos.es/noticia/4978185/0/un-...</td>\n",
       "    </tr>\n",
       "    <tr>\n",
       "      <th>...</th>\n",
       "      <td>...</td>\n",
       "      <td>...</td>\n",
       "    </tr>\n",
       "    <tr>\n",
       "      <th>521</th>\n",
       "      <td>opinion</td>\n",
       "      <td>https://www.20minutos.es/opinion/el-meme-mas-r...</td>\n",
       "    </tr>\n",
       "    <tr>\n",
       "      <th>522</th>\n",
       "      <td>opinion</td>\n",
       "      <td>https://www.20minutos.es/opinion/isabel-serran...</td>\n",
       "    </tr>\n",
       "    <tr>\n",
       "      <th>523</th>\n",
       "      <td>opinion</td>\n",
       "      <td>https://www.20minutos.es/opinion/belen-molleda...</td>\n",
       "    </tr>\n",
       "    <tr>\n",
       "      <th>524</th>\n",
       "      <td>opinion</td>\n",
       "      <td>https://www.20minutos.es/opinion/mario-garces-...</td>\n",
       "    </tr>\n",
       "    <tr>\n",
       "      <th>525</th>\n",
       "      <td>opinion</td>\n",
       "      <td>https://www.20minutos.es/opinion/esclavos-de-t...</td>\n",
       "    </tr>\n",
       "  </tbody>\n",
       "</table>\n",
       "<p>526 rows × 2 columns</p>\n",
       "</div>"
      ],
      "text/plain": [
       "    Categoría                                             Enlace\n",
       "0     ciencia  https://www.20minutos.es/noticia/4978880/0/que...\n",
       "1     ciencia  https://www.20minutos.es/noticia/4978811/0/eae...\n",
       "2     ciencia  https://www.20minutos.es/noticia/4978683/0/la-...\n",
       "3     ciencia  https://www.20minutos.es/noticia/4978283/0/los...\n",
       "4     ciencia  https://www.20minutos.es/noticia/4978185/0/un-...\n",
       "..        ...                                                ...\n",
       "521   opinion  https://www.20minutos.es/opinion/el-meme-mas-r...\n",
       "522   opinion  https://www.20minutos.es/opinion/isabel-serran...\n",
       "523   opinion  https://www.20minutos.es/opinion/belen-molleda...\n",
       "524   opinion  https://www.20minutos.es/opinion/mario-garces-...\n",
       "525   opinion  https://www.20minutos.es/opinion/esclavos-de-t...\n",
       "\n",
       "[526 rows x 2 columns]"
      ]
     },
     "execution_count": 18,
     "metadata": {},
     "output_type": "execute_result"
    }
   ],
   "source": [
    "# Para utilizar como índice la columna Enlace.\n",
    "df = df.explode(\"Enlace\").reset_index(drop = True)\n",
    "df"
   ]
  },
  {
   "cell_type": "code",
   "execution_count": 19,
   "id": "77333d20-057b-4659-aed1-48d89d433faf",
   "metadata": {},
   "outputs": [],
   "source": [
    "# Para guardar en un archivo csv.\n",
    "df.to_csv(\"urls_ejercicio1_parte1.csv\", index = False, sep = \",\")"
   ]
  },
  {
   "cell_type": "code",
   "execution_count": 5,
   "id": "63551a6a-372f-4e61-8f8e-e53c6c6041fa",
   "metadata": {},
   "outputs": [
    {
     "data": {
      "text/html": [
       "<div>\n",
       "<style scoped>\n",
       "    .dataframe tbody tr th:only-of-type {\n",
       "        vertical-align: middle;\n",
       "    }\n",
       "\n",
       "    .dataframe tbody tr th {\n",
       "        vertical-align: top;\n",
       "    }\n",
       "\n",
       "    .dataframe thead th {\n",
       "        text-align: right;\n",
       "    }\n",
       "</style>\n",
       "<table border=\"1\" class=\"dataframe\">\n",
       "  <thead>\n",
       "    <tr style=\"text-align: right;\">\n",
       "      <th></th>\n",
       "      <th>Categoría</th>\n",
       "      <th>Enlace</th>\n",
       "    </tr>\n",
       "  </thead>\n",
       "  <tbody>\n",
       "    <tr>\n",
       "      <th>0</th>\n",
       "      <td>ciencia</td>\n",
       "      <td>https://www.20minutos.es/noticia/4978880/0/que...</td>\n",
       "    </tr>\n",
       "    <tr>\n",
       "      <th>1</th>\n",
       "      <td>ciencia</td>\n",
       "      <td>https://www.20minutos.es/noticia/4978811/0/eae...</td>\n",
       "    </tr>\n",
       "    <tr>\n",
       "      <th>2</th>\n",
       "      <td>ciencia</td>\n",
       "      <td>https://www.20minutos.es/noticia/4978683/0/la-...</td>\n",
       "    </tr>\n",
       "    <tr>\n",
       "      <th>3</th>\n",
       "      <td>ciencia</td>\n",
       "      <td>https://www.20minutos.es/noticia/4978283/0/los...</td>\n",
       "    </tr>\n",
       "    <tr>\n",
       "      <th>4</th>\n",
       "      <td>ciencia</td>\n",
       "      <td>https://www.20minutos.es/noticia/4978185/0/un-...</td>\n",
       "    </tr>\n",
       "    <tr>\n",
       "      <th>...</th>\n",
       "      <td>...</td>\n",
       "      <td>...</td>\n",
       "    </tr>\n",
       "    <tr>\n",
       "      <th>521</th>\n",
       "      <td>opinion</td>\n",
       "      <td>https://www.20minutos.es/opinion/el-meme-mas-r...</td>\n",
       "    </tr>\n",
       "    <tr>\n",
       "      <th>522</th>\n",
       "      <td>opinion</td>\n",
       "      <td>https://www.20minutos.es/opinion/isabel-serran...</td>\n",
       "    </tr>\n",
       "    <tr>\n",
       "      <th>523</th>\n",
       "      <td>opinion</td>\n",
       "      <td>https://www.20minutos.es/opinion/belen-molleda...</td>\n",
       "    </tr>\n",
       "    <tr>\n",
       "      <th>524</th>\n",
       "      <td>opinion</td>\n",
       "      <td>https://www.20minutos.es/opinion/mario-garces-...</td>\n",
       "    </tr>\n",
       "    <tr>\n",
       "      <th>525</th>\n",
       "      <td>opinion</td>\n",
       "      <td>https://www.20minutos.es/opinion/esclavos-de-t...</td>\n",
       "    </tr>\n",
       "  </tbody>\n",
       "</table>\n",
       "<p>526 rows × 2 columns</p>\n",
       "</div>"
      ],
      "text/plain": [
       "    Categoría                                             Enlace\n",
       "0     ciencia  https://www.20minutos.es/noticia/4978880/0/que...\n",
       "1     ciencia  https://www.20minutos.es/noticia/4978811/0/eae...\n",
       "2     ciencia  https://www.20minutos.es/noticia/4978683/0/la-...\n",
       "3     ciencia  https://www.20minutos.es/noticia/4978283/0/los...\n",
       "4     ciencia  https://www.20minutos.es/noticia/4978185/0/un-...\n",
       "..        ...                                                ...\n",
       "521   opinion  https://www.20minutos.es/opinion/el-meme-mas-r...\n",
       "522   opinion  https://www.20minutos.es/opinion/isabel-serran...\n",
       "523   opinion  https://www.20minutos.es/opinion/belen-molleda...\n",
       "524   opinion  https://www.20minutos.es/opinion/mario-garces-...\n",
       "525   opinion  https://www.20minutos.es/opinion/esclavos-de-t...\n",
       "\n",
       "[526 rows x 2 columns]"
      ]
     },
     "execution_count": 5,
     "metadata": {},
     "output_type": "execute_result"
    }
   ],
   "source": [
    "df = pd.read_csv(\"urls_ejercicio1_parte1.csv\")\n",
    "\n",
    "df"
   ]
  },
  {
   "cell_type": "code",
   "execution_count": 9,
   "id": "b1bfc6f7-eee4-4fa4-8782-0b3667ff23d8",
   "metadata": {},
   "outputs": [],
   "source": [
    "# En este grupo de celdas, para seleccionar los elementos que pide el enunciado, para\n",
    "# la primera página.\n",
    "# Aquí, para seleccionar la primera página.\n",
    "url = df[\"Enlace\"][0]\n",
    "\n",
    "browser = helium.start_chrome(url, headless = True)\n",
    "sleep(1)\n",
    "\n",
    "soup = BeautifulSoup(browser.page_source, \"html.parser\")"
   ]
  },
  {
   "cell_type": "code",
   "execution_count": 10,
   "id": "cd109463-0075-442d-a377-18df83bf6d45",
   "metadata": {},
   "outputs": [
    {
     "data": {
      "text/plain": [
       "'Qué es un meteotsunami y sus consecuencias destructivas en la costa'"
      ]
     },
     "execution_count": 10,
     "metadata": {},
     "output_type": "execute_result"
    }
   ],
   "source": [
    "# Para el título.\n",
    "soup.find(\"h1\", class_ = \"notice-title\").text.strip()"
   ]
  },
  {
   "cell_type": "code",
   "execution_count": 13,
   "id": "c26ca29a-cb6a-4a54-ad9c-b822cf719c1d",
   "metadata": {},
   "outputs": [
    {
     "data": {
      "text/plain": [
       "'30.03.2022'"
      ]
     },
     "execution_count": 13,
     "metadata": {},
     "output_type": "execute_result"
    }
   ],
   "source": [
    "# Para la fecha.\n",
    "soup.find(\"span\", class_ = \"article-date\").text.split(\"-\")[0].strip()"
   ]
  },
  {
   "cell_type": "code",
   "execution_count": 11,
   "id": "d6ae09a3-7bcd-42f9-b0b5-1b1ed133e309",
   "metadata": {},
   "outputs": [
    {
     "data": {
      "text/plain": [
       "'18:17h'"
      ]
     },
     "execution_count": 11,
     "metadata": {},
     "output_type": "execute_result"
    }
   ],
   "source": [
    "# Para la hora.\n",
    "soup.find(\"span\", class_ = \"article-date\").text.split(\"-\")[1].strip()"
   ]
  },
  {
   "cell_type": "code",
   "execution_count": 14,
   "id": "de35fbf2-5894-41bd-8974-58babab69d11",
   "metadata": {},
   "outputs": [
    {
     "data": {
      "text/plain": [
       "'\\n20minutos\\n\\xa0'"
      ]
     },
     "execution_count": 14,
     "metadata": {},
     "output_type": "execute_result"
    }
   ],
   "source": [
    "# Para el autor.\n",
    "soup.find(\"span\", class_ = \"article-author\").text"
   ]
  },
  {
   "cell_type": "code",
   "execution_count": 21,
   "id": "d122f8e0-e9fe-446a-943a-221dcfce6c04",
   "metadata": {},
   "outputs": [
    {
     "name": "stdout",
     "output_type": "stream",
     "text": [
      "Un meteotsunami es un fenómeno climatológico que consiste en una serie de ondas oceánicas destructivas que tienen las mismas escalas temporales y espaciales que los tsunamis ordinarios, pero tienen varias diferencias.\n",
      "Mientras que los tsunamis ordinarios tienen un origen sísmico, los meteotsunamis no, es decir, no surgen como resultado de terremotos en el suelo del mar y tampoco por desplazamientos de tierra marina ni por el impacto de meteoritos en el mar, como recogen desde la Agencia Estatal de Meteorología (AEMET).\n",
      "Por otro lado, tampoco guardan relación con las olas más habituales que son generadas por la acción del viento, lo que quiere decir que la causa de que se produzcan estos meteotsunamis hay que buscarla en los cambios de la presión atmosférica (1-3 hPa).\n",
      "Estos cambios de presión están \"derivados del paso de frentes, ondas gravitatorias, líneas de turbonada y en general fenómenos asociados con la convección\", lo que los convierte en responsables de estas pequeñas olas que van creciendo \"por resonancia hasta alcanzar proporciones que pueden causar daños considerables en determinadas zonas costeras\", explica la AEMET.\n",
      "Este fenómeno puede causar en las zonas de costa efectos socioeconómicos, al igual que un tsunami ordinario, lo que se puede evitar con la construcción de sistemas de alerta temprana, aunque es cierto que está considerado un \"fenómeno raro y local\", aunque se ha demostrado que cada vez son más comunes, sobre todo, en las Islas Baleares, en Sicilia o en Malta.\n"
     ]
    }
   ],
   "source": [
    "# Para el texto completo de la noticia.\n",
    "textos = list()\n",
    "\n",
    "# Para incluir todos los párrafos de la noticia.\n",
    "for bs in soup.find_all(\"p\", class_ = \"paragraph\"):\n",
    "    textos.append(bs.text.strip())\n",
    "    \n",
    "# Para unir los párrafos de la noticia.   \n",
    "textos = \"\\n\".join(textos)\n",
    "\n",
    "print(textos)"
   ]
  },
  {
   "cell_type": "code",
   "execution_count": 22,
   "id": "8d1f3651-052f-48a6-841c-fc68b6062243",
   "metadata": {},
   "outputs": [],
   "source": [
    "# Función que permite extraer la información requerida en el ejercicio.\n",
    "def info_noticias(enlace):\n",
    "    browser = helium.start_chrome(enlace, headless = True)\n",
    "    sleep(1)\n",
    "    soup = BeautifulSoup(browser.page_source, \"html.parser\")\n",
    "    \n",
    "    # Para el título.\n",
    "    # Los try, except están para que el código no se detenga si no encuentra algún\n",
    "    # elemento (en cuyo caso se coloca en su lugar un NaN) \n",
    "    try:\n",
    "        titulo = soup.find(\"h1\", class_ = \"notice-title\").text.strip()\n",
    "    except:\n",
    "        titulo = np.nan\n",
    "        \n",
    "    # Para la fecha.\n",
    "    try:\n",
    "        fecha = soup.find(\"span\", class_ = \"article-date\").text.split(\"-\")[0].strip()\n",
    "    except:\n",
    "        fecha = np.nan\n",
    "        \n",
    "    # Para la hora.\n",
    "    try:\n",
    "        hora = soup.find(\"span\", class_ = \"article-date\").text.split(\"-\")[1].strip()\n",
    "    except:\n",
    "        hora = np.nan\n",
    "        \n",
    "    # Para el autor.\n",
    "    try:\n",
    "        autor = soup.find(\"span\", class_ = \"article-author\").text\n",
    "    except:\n",
    "        autor = np.nan\n",
    "        \n",
    "    # Para el texto completo.\n",
    "    try:\n",
    "        texto_completo = list()\n",
    "\n",
    "        for bs in soup.find_all(\"p\", class_ = \"paragraph\"):\n",
    "            texto_completo.append(bs.text.strip())\n",
    "\n",
    "        texto_completo = \"\\n\".join(texto_completo)\n",
    "\n",
    "    except:\n",
    "        texto = np.nan\n",
    "        \n",
    "    return [titulo, fecha, hora, autor, texto_completo]"
   ]
  },
  {
   "cell_type": "code",
   "execution_count": 23,
   "id": "483aa84b-c1a4-4201-83a1-f8530a454956",
   "metadata": {},
   "outputs": [
    {
     "name": "stdout",
     "output_type": "stream",
     "text": [
      "0\n",
      "1\n",
      "2\n",
      "3\n",
      "4\n",
      "5\n",
      "6\n",
      "7\n",
      "8\n",
      "9\n",
      "10\n",
      "11\n",
      "12\n",
      "13\n",
      "14\n",
      "15\n",
      "16\n",
      "17\n",
      "18\n",
      "19\n",
      "20\n",
      "21\n",
      "22\n",
      "23\n",
      "24\n",
      "25\n",
      "26\n",
      "27\n",
      "28\n",
      "29\n",
      "30\n",
      "31\n",
      "32\n",
      "33\n",
      "34\n",
      "35\n",
      "36\n",
      "37\n",
      "38\n",
      "39\n",
      "40\n",
      "41\n",
      "42\n",
      "43\n",
      "44\n",
      "45\n",
      "46\n"
     ]
    },
    {
     "ename": "TimeoutException",
     "evalue": "Message: timeout: Timed out receiving message from renderer: 102.804\n  (Session info: headless chrome=100.0.4896.60)\n",
     "output_type": "error",
     "traceback": [
      "\u001b[1;31m---------------------------------------------------------------------------\u001b[0m",
      "\u001b[1;31mTimeoutException\u001b[0m                          Traceback (most recent call last)",
      "\u001b[1;32m<ipython-input-23-ab029bb8be58>\u001b[0m in \u001b[0;36m<module>\u001b[1;34m\u001b[0m\n\u001b[0;32m      3\u001b[0m \u001b[1;32mfor\u001b[0m \u001b[0mindice\u001b[0m\u001b[1;33m,\u001b[0m \u001b[0menlace\u001b[0m \u001b[1;32min\u001b[0m \u001b[0menumerate\u001b[0m\u001b[1;33m(\u001b[0m\u001b[0mdf\u001b[0m\u001b[1;33m[\u001b[0m\u001b[1;34m\"Enlace\"\u001b[0m\u001b[1;33m]\u001b[0m\u001b[1;33m)\u001b[0m\u001b[1;33m:\u001b[0m\u001b[1;33m\u001b[0m\u001b[1;33m\u001b[0m\u001b[0m\n\u001b[0;32m      4\u001b[0m     \u001b[0mprint\u001b[0m\u001b[1;33m(\u001b[0m\u001b[0mindice\u001b[0m\u001b[1;33m)\u001b[0m\u001b[1;33m\u001b[0m\u001b[1;33m\u001b[0m\u001b[0m\n\u001b[1;32m----> 5\u001b[1;33m     \u001b[0minfo\u001b[0m\u001b[1;33m.\u001b[0m\u001b[0mappend\u001b[0m\u001b[1;33m(\u001b[0m\u001b[0minfo_noticias\u001b[0m\u001b[1;33m(\u001b[0m\u001b[0menlace\u001b[0m\u001b[1;33m)\u001b[0m\u001b[1;33m)\u001b[0m\u001b[1;33m\u001b[0m\u001b[1;33m\u001b[0m\u001b[0m\n\u001b[0m\u001b[0;32m      6\u001b[0m \u001b[1;33m\u001b[0m\u001b[0m\n\u001b[0;32m      7\u001b[0m \u001b[0minfo\u001b[0m\u001b[1;33m\u001b[0m\u001b[1;33m\u001b[0m\u001b[0m\n",
      "\u001b[1;32m<ipython-input-22-ba2ae528055a>\u001b[0m in \u001b[0;36minfo_noticias\u001b[1;34m(enlace)\u001b[0m\n\u001b[0;32m      1\u001b[0m \u001b[1;31m# Función que permite extraer la información requerida en el ejercicio.\u001b[0m\u001b[1;33m\u001b[0m\u001b[1;33m\u001b[0m\u001b[1;33m\u001b[0m\u001b[0m\n\u001b[0;32m      2\u001b[0m \u001b[1;32mdef\u001b[0m \u001b[0minfo_noticias\u001b[0m\u001b[1;33m(\u001b[0m\u001b[0menlace\u001b[0m\u001b[1;33m)\u001b[0m\u001b[1;33m:\u001b[0m\u001b[1;33m\u001b[0m\u001b[1;33m\u001b[0m\u001b[0m\n\u001b[1;32m----> 3\u001b[1;33m     \u001b[0mbrowser\u001b[0m \u001b[1;33m=\u001b[0m \u001b[0mhelium\u001b[0m\u001b[1;33m.\u001b[0m\u001b[0mstart_chrome\u001b[0m\u001b[1;33m(\u001b[0m\u001b[0menlace\u001b[0m\u001b[1;33m,\u001b[0m \u001b[0mheadless\u001b[0m \u001b[1;33m=\u001b[0m \u001b[1;32mTrue\u001b[0m\u001b[1;33m)\u001b[0m\u001b[1;33m\u001b[0m\u001b[1;33m\u001b[0m\u001b[0m\n\u001b[0m\u001b[0;32m      4\u001b[0m     \u001b[0msleep\u001b[0m\u001b[1;33m(\u001b[0m\u001b[1;36m1\u001b[0m\u001b[1;33m)\u001b[0m\u001b[1;33m\u001b[0m\u001b[1;33m\u001b[0m\u001b[0m\n\u001b[0;32m      5\u001b[0m     \u001b[0msoup\u001b[0m \u001b[1;33m=\u001b[0m \u001b[0mBeautifulSoup\u001b[0m\u001b[1;33m(\u001b[0m\u001b[0mbrowser\u001b[0m\u001b[1;33m.\u001b[0m\u001b[0mpage_source\u001b[0m\u001b[1;33m,\u001b[0m \u001b[1;34m\"html.parser\"\u001b[0m\u001b[1;33m)\u001b[0m\u001b[1;33m\u001b[0m\u001b[1;33m\u001b[0m\u001b[0m\n",
      "\u001b[1;32m~\\anaconda3\\lib\\site-packages\\helium\\__init__.py\u001b[0m in \u001b[0;36mstart_chrome\u001b[1;34m(url, headless, maximize, options, capabilities)\u001b[0m\n\u001b[0;32m     74\u001b[0m                 \u001b[0mkill_browser\u001b[0m\u001b[1;33m(\u001b[0m\u001b[1;33m)\u001b[0m\u001b[1;33m\u001b[0m\u001b[1;33m\u001b[0m\u001b[0m\n\u001b[0;32m     75\u001b[0m \t\"\"\"\n\u001b[1;32m---> 76\u001b[1;33m \treturn _get_api_impl().start_chrome_impl(\n\u001b[0m\u001b[0;32m     77\u001b[0m                 \u001b[0murl\u001b[0m\u001b[1;33m,\u001b[0m \u001b[0mheadless\u001b[0m\u001b[1;33m,\u001b[0m \u001b[0mmaximize\u001b[0m\u001b[1;33m,\u001b[0m \u001b[0moptions\u001b[0m\u001b[1;33m,\u001b[0m \u001b[0mcapabilities\u001b[0m\u001b[1;33m\u001b[0m\u001b[1;33m\u001b[0m\u001b[0m\n\u001b[0;32m     78\u001b[0m \t)\n",
      "\u001b[1;32m~\\anaconda3\\lib\\site-packages\\helium\\_impl\\__init__.py\u001b[0m in \u001b[0;36mstart_chrome_impl\u001b[1;34m(self, url, headless, maximize, options, capabilities)\u001b[0m\n\u001b[0;32m    100\u001b[0m                 \u001b[0mchrome_driver\u001b[0m \u001b[1;33m=\u001b[0m\u001b[0;31m \u001b[0m\u001b[0;31m\\\u001b[0m\u001b[1;33m\u001b[0m\u001b[1;33m\u001b[0m\u001b[0m\n\u001b[0;32m    101\u001b[0m                         \u001b[0mself\u001b[0m\u001b[1;33m.\u001b[0m\u001b[0m_start_chrome_driver\u001b[0m\u001b[1;33m(\u001b[0m\u001b[0mheadless\u001b[0m\u001b[1;33m,\u001b[0m \u001b[0mmaximize\u001b[0m\u001b[1;33m,\u001b[0m \u001b[0moptions\u001b[0m\u001b[1;33m,\u001b[0m \u001b[0mcapabilities\u001b[0m\u001b[1;33m)\u001b[0m\u001b[1;33m\u001b[0m\u001b[1;33m\u001b[0m\u001b[0m\n\u001b[1;32m--> 102\u001b[1;33m                 \u001b[1;32mreturn\u001b[0m \u001b[0mself\u001b[0m\u001b[1;33m.\u001b[0m\u001b[0m_start\u001b[0m\u001b[1;33m(\u001b[0m\u001b[0mchrome_driver\u001b[0m\u001b[1;33m,\u001b[0m \u001b[0murl\u001b[0m\u001b[1;33m)\u001b[0m\u001b[1;33m\u001b[0m\u001b[1;33m\u001b[0m\u001b[0m\n\u001b[0m\u001b[0;32m    103\u001b[0m         \u001b[1;32mdef\u001b[0m \u001b[0m_start_chrome_driver\u001b[0m\u001b[1;33m(\u001b[0m\u001b[0mself\u001b[0m\u001b[1;33m,\u001b[0m \u001b[0mheadless\u001b[0m\u001b[1;33m,\u001b[0m \u001b[0mmaximize\u001b[0m\u001b[1;33m,\u001b[0m \u001b[0moptions\u001b[0m\u001b[1;33m,\u001b[0m \u001b[0mcapabilities\u001b[0m\u001b[1;33m)\u001b[0m\u001b[1;33m:\u001b[0m\u001b[1;33m\u001b[0m\u001b[1;33m\u001b[0m\u001b[0m\n\u001b[0;32m    104\u001b[0m                 \u001b[0mchrome_options\u001b[0m \u001b[1;33m=\u001b[0m \u001b[0mself\u001b[0m\u001b[1;33m.\u001b[0m\u001b[0m_get_chrome_options\u001b[0m\u001b[1;33m(\u001b[0m\u001b[0mheadless\u001b[0m\u001b[1;33m,\u001b[0m \u001b[0mmaximize\u001b[0m\u001b[1;33m,\u001b[0m \u001b[0moptions\u001b[0m\u001b[1;33m)\u001b[0m\u001b[1;33m\u001b[0m\u001b[1;33m\u001b[0m\u001b[0m\n",
      "\u001b[1;32m~\\anaconda3\\lib\\site-packages\\helium\\_impl\\__init__.py\u001b[0m in \u001b[0;36m_start\u001b[1;34m(self, browser, url)\u001b[0m\n\u001b[0;32m    148\u001b[0m                 \u001b[0mself\u001b[0m\u001b[1;33m.\u001b[0m\u001b[0mset_driver_impl\u001b[0m\u001b[1;33m(\u001b[0m\u001b[0mbrowser\u001b[0m\u001b[1;33m)\u001b[0m\u001b[1;33m\u001b[0m\u001b[1;33m\u001b[0m\u001b[0m\n\u001b[0;32m    149\u001b[0m                 \u001b[1;32mif\u001b[0m \u001b[0murl\u001b[0m \u001b[1;32mis\u001b[0m \u001b[1;32mnot\u001b[0m \u001b[1;32mNone\u001b[0m\u001b[1;33m:\u001b[0m\u001b[1;33m\u001b[0m\u001b[1;33m\u001b[0m\u001b[0m\n\u001b[1;32m--> 150\u001b[1;33m                         \u001b[0mself\u001b[0m\u001b[1;33m.\u001b[0m\u001b[0mgo_to_impl\u001b[0m\u001b[1;33m(\u001b[0m\u001b[0murl\u001b[0m\u001b[1;33m)\u001b[0m\u001b[1;33m\u001b[0m\u001b[1;33m\u001b[0m\u001b[0m\n\u001b[0m\u001b[0;32m    151\u001b[0m                 \u001b[1;32mreturn\u001b[0m \u001b[0mself\u001b[0m\u001b[1;33m.\u001b[0m\u001b[0mget_driver_impl\u001b[0m\u001b[1;33m(\u001b[0m\u001b[1;33m)\u001b[0m\u001b[1;33m\u001b[0m\u001b[1;33m\u001b[0m\u001b[0m\n\u001b[0;32m    152\u001b[0m         \u001b[1;33m@\u001b[0m\u001b[0mmight_spawn_window\u001b[0m\u001b[1;33m\u001b[0m\u001b[1;33m\u001b[0m\u001b[0m\n",
      "\u001b[1;32m~\\anaconda3\\lib\\site-packages\\helium\\_impl\\__init__.py\u001b[0m in \u001b[0;36mf_decorated\u001b[1;34m(self, *args, **kwargs)\u001b[0m\n\u001b[0;32m     35\u001b[0m                         \u001b[1;32mreturn\u001b[0m \u001b[0mf\u001b[0m\u001b[1;33m(\u001b[0m\u001b[0mself\u001b[0m\u001b[1;33m,\u001b[0m \u001b[1;33m*\u001b[0m\u001b[0margs\u001b[0m\u001b[1;33m,\u001b[0m \u001b[1;33m**\u001b[0m\u001b[0mkwargs\u001b[0m\u001b[1;33m)\u001b[0m\u001b[1;33m\u001b[0m\u001b[1;33m\u001b[0m\u001b[0m\n\u001b[0;32m     36\u001b[0m                 \u001b[0mwindow_handles_before\u001b[0m \u001b[1;33m=\u001b[0m \u001b[0mdriver\u001b[0m\u001b[1;33m.\u001b[0m\u001b[0mwindow_handles\u001b[0m\u001b[1;33m[\u001b[0m\u001b[1;33m:\u001b[0m\u001b[1;33m]\u001b[0m\u001b[1;33m\u001b[0m\u001b[1;33m\u001b[0m\u001b[0m\n\u001b[1;32m---> 37\u001b[1;33m                 \u001b[0mresult\u001b[0m \u001b[1;33m=\u001b[0m \u001b[0mf\u001b[0m\u001b[1;33m(\u001b[0m\u001b[0mself\u001b[0m\u001b[1;33m,\u001b[0m \u001b[1;33m*\u001b[0m\u001b[0margs\u001b[0m\u001b[1;33m,\u001b[0m \u001b[1;33m**\u001b[0m\u001b[0mkwargs\u001b[0m\u001b[1;33m)\u001b[0m\u001b[1;33m\u001b[0m\u001b[1;33m\u001b[0m\u001b[0m\n\u001b[0m\u001b[0;32m     38\u001b[0m                 \u001b[1;31m# As above, don't access .window_handles in IE if an alert is present:\u001b[0m\u001b[1;33m\u001b[0m\u001b[1;33m\u001b[0m\u001b[1;33m\u001b[0m\u001b[0m\n\u001b[0;32m     39\u001b[0m                 \u001b[1;32mif\u001b[0m \u001b[1;32mnot\u001b[0m \u001b[1;33m(\u001b[0m\u001b[0mdriver\u001b[0m\u001b[1;33m.\u001b[0m\u001b[0mis_ie\u001b[0m\u001b[1;33m(\u001b[0m\u001b[1;33m)\u001b[0m \u001b[1;32mand\u001b[0m \u001b[0mAlertImpl\u001b[0m\u001b[1;33m(\u001b[0m\u001b[0mdriver\u001b[0m\u001b[1;33m)\u001b[0m\u001b[1;33m.\u001b[0m\u001b[0mexists\u001b[0m\u001b[1;33m(\u001b[0m\u001b[1;33m)\u001b[0m\u001b[1;33m)\u001b[0m\u001b[1;33m:\u001b[0m\u001b[1;33m\u001b[0m\u001b[1;33m\u001b[0m\u001b[0m\n",
      "\u001b[1;32m~\\anaconda3\\lib\\site-packages\\helium\\_impl\\__init__.py\u001b[0m in \u001b[0;36mf_decorated\u001b[1;34m(*args, **kwargs)\u001b[0m\n\u001b[0;32m     54\u001b[0m         \u001b[1;32mdef\u001b[0m \u001b[0mf_decorated\u001b[0m\u001b[1;33m(\u001b[0m\u001b[1;33m*\u001b[0m\u001b[0margs\u001b[0m\u001b[1;33m,\u001b[0m \u001b[1;33m**\u001b[0m\u001b[0mkwargs\u001b[0m\u001b[1;33m)\u001b[0m\u001b[1;33m:\u001b[0m\u001b[1;33m\u001b[0m\u001b[1;33m\u001b[0m\u001b[0m\n\u001b[0;32m     55\u001b[0m                 \u001b[1;32mtry\u001b[0m\u001b[1;33m:\u001b[0m\u001b[1;33m\u001b[0m\u001b[1;33m\u001b[0m\u001b[0m\n\u001b[1;32m---> 56\u001b[1;33m                         \u001b[1;32mreturn\u001b[0m \u001b[0mf\u001b[0m\u001b[1;33m(\u001b[0m\u001b[1;33m*\u001b[0m\u001b[0margs\u001b[0m\u001b[1;33m,\u001b[0m \u001b[1;33m**\u001b[0m\u001b[0mkwargs\u001b[0m\u001b[1;33m)\u001b[0m\u001b[1;33m\u001b[0m\u001b[1;33m\u001b[0m\u001b[0m\n\u001b[0m\u001b[0;32m     57\u001b[0m                 \u001b[1;32mexcept\u001b[0m \u001b[0mUnexpectedAlertPresentException\u001b[0m\u001b[1;33m:\u001b[0m\u001b[1;33m\u001b[0m\u001b[1;33m\u001b[0m\u001b[0m\n\u001b[0;32m     58\u001b[0m \t\t\traise UnexpectedAlertPresentException(\n",
      "\u001b[1;32m~\\anaconda3\\lib\\site-packages\\helium\\_impl\\__init__.py\u001b[0m in \u001b[0;36mgo_to_impl\u001b[1;34m(self, url)\u001b[0m\n\u001b[0;32m    155\u001b[0m                 \u001b[1;32mif\u001b[0m \u001b[1;34m'://'\u001b[0m \u001b[1;32mnot\u001b[0m \u001b[1;32min\u001b[0m \u001b[0murl\u001b[0m\u001b[1;33m:\u001b[0m\u001b[1;33m\u001b[0m\u001b[1;33m\u001b[0m\u001b[0m\n\u001b[0;32m    156\u001b[0m                         \u001b[0murl\u001b[0m \u001b[1;33m=\u001b[0m \u001b[1;34m'http://'\u001b[0m \u001b[1;33m+\u001b[0m \u001b[0murl\u001b[0m\u001b[1;33m\u001b[0m\u001b[1;33m\u001b[0m\u001b[0m\n\u001b[1;32m--> 157\u001b[1;33m                 \u001b[0mself\u001b[0m\u001b[1;33m.\u001b[0m\u001b[0mrequire_driver\u001b[0m\u001b[1;33m(\u001b[0m\u001b[1;33m)\u001b[0m\u001b[1;33m.\u001b[0m\u001b[0mget\u001b[0m\u001b[1;33m(\u001b[0m\u001b[0murl\u001b[0m\u001b[1;33m)\u001b[0m\u001b[1;33m\u001b[0m\u001b[1;33m\u001b[0m\u001b[0m\n\u001b[0m\u001b[0;32m    158\u001b[0m         \u001b[1;32mdef\u001b[0m \u001b[0mset_driver_impl\u001b[0m\u001b[1;33m(\u001b[0m\u001b[0mself\u001b[0m\u001b[1;33m,\u001b[0m \u001b[0mdriver\u001b[0m\u001b[1;33m)\u001b[0m\u001b[1;33m:\u001b[0m\u001b[1;33m\u001b[0m\u001b[1;33m\u001b[0m\u001b[0m\n\u001b[0;32m    159\u001b[0m                 \u001b[0mself\u001b[0m\u001b[1;33m.\u001b[0m\u001b[0mdriver\u001b[0m \u001b[1;33m=\u001b[0m \u001b[0mWebDriverWrapper\u001b[0m\u001b[1;33m(\u001b[0m\u001b[0mdriver\u001b[0m\u001b[1;33m)\u001b[0m\u001b[1;33m\u001b[0m\u001b[1;33m\u001b[0m\u001b[0m\n",
      "\u001b[1;32m~\\anaconda3\\lib\\site-packages\\selenium\\webdriver\\remote\\webdriver.py\u001b[0m in \u001b[0;36mget\u001b[1;34m(self, url)\u001b[0m\n\u001b[0;32m    331\u001b[0m         \u001b[0mLoads\u001b[0m \u001b[0ma\u001b[0m \u001b[0mweb\u001b[0m \u001b[0mpage\u001b[0m \u001b[1;32min\u001b[0m \u001b[0mthe\u001b[0m \u001b[0mcurrent\u001b[0m \u001b[0mbrowser\u001b[0m \u001b[0msession\u001b[0m\u001b[1;33m.\u001b[0m\u001b[1;33m\u001b[0m\u001b[1;33m\u001b[0m\u001b[0m\n\u001b[0;32m    332\u001b[0m         \"\"\"\n\u001b[1;32m--> 333\u001b[1;33m         \u001b[0mself\u001b[0m\u001b[1;33m.\u001b[0m\u001b[0mexecute\u001b[0m\u001b[1;33m(\u001b[0m\u001b[0mCommand\u001b[0m\u001b[1;33m.\u001b[0m\u001b[0mGET\u001b[0m\u001b[1;33m,\u001b[0m \u001b[1;33m{\u001b[0m\u001b[1;34m'url'\u001b[0m\u001b[1;33m:\u001b[0m \u001b[0murl\u001b[0m\u001b[1;33m}\u001b[0m\u001b[1;33m)\u001b[0m\u001b[1;33m\u001b[0m\u001b[1;33m\u001b[0m\u001b[0m\n\u001b[0m\u001b[0;32m    334\u001b[0m \u001b[1;33m\u001b[0m\u001b[0m\n\u001b[0;32m    335\u001b[0m     \u001b[1;33m@\u001b[0m\u001b[0mproperty\u001b[0m\u001b[1;33m\u001b[0m\u001b[1;33m\u001b[0m\u001b[0m\n",
      "\u001b[1;32m~\\anaconda3\\lib\\site-packages\\selenium\\webdriver\\remote\\webdriver.py\u001b[0m in \u001b[0;36mexecute\u001b[1;34m(self, driver_command, params)\u001b[0m\n\u001b[0;32m    319\u001b[0m         \u001b[0mresponse\u001b[0m \u001b[1;33m=\u001b[0m \u001b[0mself\u001b[0m\u001b[1;33m.\u001b[0m\u001b[0mcommand_executor\u001b[0m\u001b[1;33m.\u001b[0m\u001b[0mexecute\u001b[0m\u001b[1;33m(\u001b[0m\u001b[0mdriver_command\u001b[0m\u001b[1;33m,\u001b[0m \u001b[0mparams\u001b[0m\u001b[1;33m)\u001b[0m\u001b[1;33m\u001b[0m\u001b[1;33m\u001b[0m\u001b[0m\n\u001b[0;32m    320\u001b[0m         \u001b[1;32mif\u001b[0m \u001b[0mresponse\u001b[0m\u001b[1;33m:\u001b[0m\u001b[1;33m\u001b[0m\u001b[1;33m\u001b[0m\u001b[0m\n\u001b[1;32m--> 321\u001b[1;33m             \u001b[0mself\u001b[0m\u001b[1;33m.\u001b[0m\u001b[0merror_handler\u001b[0m\u001b[1;33m.\u001b[0m\u001b[0mcheck_response\u001b[0m\u001b[1;33m(\u001b[0m\u001b[0mresponse\u001b[0m\u001b[1;33m)\u001b[0m\u001b[1;33m\u001b[0m\u001b[1;33m\u001b[0m\u001b[0m\n\u001b[0m\u001b[0;32m    322\u001b[0m             response['value'] = self._unwrap_value(\n\u001b[0;32m    323\u001b[0m                 response.get('value', None))\n",
      "\u001b[1;32m~\\anaconda3\\lib\\site-packages\\selenium\\webdriver\\remote\\errorhandler.py\u001b[0m in \u001b[0;36mcheck_response\u001b[1;34m(self, response)\u001b[0m\n\u001b[0;32m    240\u001b[0m                 \u001b[0malert_text\u001b[0m \u001b[1;33m=\u001b[0m \u001b[0mvalue\u001b[0m\u001b[1;33m[\u001b[0m\u001b[1;34m'alert'\u001b[0m\u001b[1;33m]\u001b[0m\u001b[1;33m.\u001b[0m\u001b[0mget\u001b[0m\u001b[1;33m(\u001b[0m\u001b[1;34m'text'\u001b[0m\u001b[1;33m)\u001b[0m\u001b[1;33m\u001b[0m\u001b[1;33m\u001b[0m\u001b[0m\n\u001b[0;32m    241\u001b[0m             \u001b[1;32mraise\u001b[0m \u001b[0mexception_class\u001b[0m\u001b[1;33m(\u001b[0m\u001b[0mmessage\u001b[0m\u001b[1;33m,\u001b[0m \u001b[0mscreen\u001b[0m\u001b[1;33m,\u001b[0m \u001b[0mstacktrace\u001b[0m\u001b[1;33m,\u001b[0m \u001b[0malert_text\u001b[0m\u001b[1;33m)\u001b[0m\u001b[1;33m\u001b[0m\u001b[1;33m\u001b[0m\u001b[0m\n\u001b[1;32m--> 242\u001b[1;33m         \u001b[1;32mraise\u001b[0m \u001b[0mexception_class\u001b[0m\u001b[1;33m(\u001b[0m\u001b[0mmessage\u001b[0m\u001b[1;33m,\u001b[0m \u001b[0mscreen\u001b[0m\u001b[1;33m,\u001b[0m \u001b[0mstacktrace\u001b[0m\u001b[1;33m)\u001b[0m\u001b[1;33m\u001b[0m\u001b[1;33m\u001b[0m\u001b[0m\n\u001b[0m\u001b[0;32m    243\u001b[0m \u001b[1;33m\u001b[0m\u001b[0m\n\u001b[0;32m    244\u001b[0m     \u001b[1;32mdef\u001b[0m \u001b[0m_value_or_default\u001b[0m\u001b[1;33m(\u001b[0m\u001b[0mself\u001b[0m\u001b[1;33m,\u001b[0m \u001b[0mobj\u001b[0m\u001b[1;33m,\u001b[0m \u001b[0mkey\u001b[0m\u001b[1;33m,\u001b[0m \u001b[0mdefault\u001b[0m\u001b[1;33m)\u001b[0m\u001b[1;33m:\u001b[0m\u001b[1;33m\u001b[0m\u001b[1;33m\u001b[0m\u001b[0m\n",
      "\u001b[1;31mTimeoutException\u001b[0m: Message: timeout: Timed out receiving message from renderer: 102.804\n  (Session info: headless chrome=100.0.4896.60)\n"
     ]
    }
   ],
   "source": [
    "# Finalmente, usando la función anterior, se llena la lista info con toda la información\n",
    "# solicitada en el enunciado. Con el print(indice) unicamente se constata el progreso de la \n",
    "# ejecución del código. Tras esto se muestra la lista info.\n",
    "info = list()\n",
    "\n",
    "for indice, enlace in enumerate(df[\"Enlace\"]):\n",
    "    print(indice)\n",
    "    info.append(info_noticias(enlace))\n",
    "    \n",
    "info"
   ]
  },
  {
   "cell_type": "code",
   "execution_count": null,
   "id": "eaf1d6c4-1c6f-4bc7-93a1-c969e5d2f4dd",
   "metadata": {},
   "outputs": [],
   "source": [
    "# Para crear un nuevo DataFrame, con toda la información.\n",
    "df_info = pd.DataFrame(info, columns = [\"Título\", \"Fecha\", \"Hora\", \"Autor\", \"Texto\"])\n",
    "df_info"
   ]
  },
  {
   "cell_type": "code",
   "execution_count": null,
   "id": "45e3e8ad-7e4b-465c-9ff8-a5fa5950c3cd",
   "metadata": {},
   "outputs": [],
   "source": [
    "# Para concatenar el primer DataFrame (con las categorías y los enlaces), y el segundo\n",
    "# con el resto de información.\n",
    "df = pd.concat([df, df_info], axis = 1)\n",
    "df"
   ]
  },
  {
   "cell_type": "code",
   "execution_count": null,
   "id": "2590e372-df04-4ad5-96d0-0d4348f119ed",
   "metadata": {},
   "outputs": [],
   "source": [
    "# Para guardarlo todo en un archivo csv.\n",
    "df.to_csv(\"20minutos_1.csv\", index = False, sep = \",\")"
   ]
  },
  {
   "cell_type": "markdown",
   "id": "b90547ae",
   "metadata": {},
   "source": [
    "- Escribe el código para sacar la información de las primeras 5 páginas de todas las categorias:\n",
    "    - **Andalucia**, **Valencia**, **Animaleros**, **Cataluña**, **Nacional**, **Vivienda**, **Internacional**, **Cultura**, **Empleo**, **Ciencia**, **Deporte**, **Gente**, **Economía**, **Madrid** y **Opinión**.\n",
    "\n",
    ". Guarda esta información en el archivo **`20minutos_2.csv`**."
   ]
  },
  {
   "cell_type": "code",
   "execution_count": null,
   "id": "a5a7b514",
   "metadata": {},
   "outputs": [],
   "source": [
    "# Este ejercicio sería igual que el anterior, pero con más categorías,\n",
    "# y para 5 páginas, así que se puede modificar el código anterior para\n",
    "# conseguirlo."
   ]
  },
  {
   "cell_type": "code",
   "execution_count": null,
   "id": "cf4c7713",
   "metadata": {},
   "outputs": [],
   "source": [
    "%%time\n",
    "\n",
    "# En esta ocasión todo el código, que antes estaba hecho en varias celdas, se ha incluido\n",
    "# en esta celda.\n",
    "\n",
    "# Aquí se añaden todas las categorías, tal y como están escritas en la url de la web.\n",
    "categorias = [\"andalucia\", \"comunidad-valenciana\", \"animaleros\", \"cataluna\", \"nacional\", \"vivienda\", \"internacional\",\n",
    "              \"cultura\", \"empleo\", \"ciencia\", \"deportes\", \"gente\", \"economia\", \"madrid\", \"opinion\"]\n",
    "\n",
    "dict_enlaces = {}\n",
    "\n",
    "# Se indica el número de páginas.\n",
    "numero_paginas = 5\n",
    "\n",
    "for categoria in categorias:\n",
    "    \n",
    "    dict_enlaces[categoria] = noticiasCategoria(\"https://www.20minutos.es/\", categoria, numero_paginas)\n",
    "    \n",
    "# Se crea el DataFrame con los enlaces y las categorías    \n",
    "df = pd.DataFrame(dict_enlaces.items(), columns = [\"Categoría\", \"Enlace\"])   \n",
    "\n",
    "df = df.explode(\"Enlace\")\n",
    "\n",
    "# Se extrae la información.\n",
    "info = list()\n",
    "\n",
    "for indice, enlace in enumerate(df[\"Enlace\"]):\n",
    "    print(indice)\n",
    "    info.append(info_noticias(enlace))\n",
    "    \n",
    "# Se crea el DataFrame con la información, y se une con el de los enlaces.\n",
    "df_info = pd.DataFrame(info, columns = [\"Título\", \"Fecha\", \"Hora\", \"Autor\", \"Texto\"])\n",
    "df = pd.concat([df, df_info], axis = 1)\n",
    "\n",
    "# Por último, se guarda como csv.\n",
    "df.to_csv(\"20minutos_2.csv\", index = False, sep = \",\")"
   ]
  },
  {
   "cell_type": "markdown",
   "id": "a07f6af0",
   "metadata": {},
   "source": [
    "- **Escribe el código para sacar la información de todas las categorias del ejercicio anterior pero solo del mes de marzo. Guarda esta información en el archivo `20minutos_3.csv`.**"
   ]
  },
  {
   "cell_type": "code",
   "execution_count": null,
   "id": "224a9026",
   "metadata": {},
   "outputs": [],
   "source": []
  },
  {
   "cell_type": "code",
   "execution_count": null,
   "id": "1af70a48",
   "metadata": {},
   "outputs": [],
   "source": []
  },
  {
   "cell_type": "code",
   "execution_count": null,
   "id": "7358a572",
   "metadata": {},
   "outputs": [],
   "source": []
  },
  {
   "cell_type": "code",
   "execution_count": null,
   "id": "8c66ea4e",
   "metadata": {},
   "outputs": [],
   "source": []
  },
  {
   "cell_type": "code",
   "execution_count": null,
   "id": "2edc3495",
   "metadata": {},
   "outputs": [],
   "source": []
  },
  {
   "cell_type": "code",
   "execution_count": null,
   "id": "8d27d08b",
   "metadata": {},
   "outputs": [],
   "source": []
  },
  {
   "cell_type": "code",
   "execution_count": null,
   "id": "af7ad271",
   "metadata": {},
   "outputs": [],
   "source": []
  },
  {
   "cell_type": "code",
   "execution_count": null,
   "id": "3dc1c7a2",
   "metadata": {},
   "outputs": [],
   "source": []
  },
  {
   "cell_type": "markdown",
   "id": "38dfd63c",
   "metadata": {},
   "source": [
    "- **Elige el articulo que más te interese de todos los articulos extraidos, muestra en un WordCloud las palabras más repetidas eliminando los stopwords.**"
   ]
  },
  {
   "cell_type": "code",
   "execution_count": null,
   "id": "b4bd5adc",
   "metadata": {},
   "outputs": [],
   "source": []
  },
  {
   "cell_type": "code",
   "execution_count": null,
   "id": "ebcbe124",
   "metadata": {},
   "outputs": [],
   "source": []
  },
  {
   "cell_type": "code",
   "execution_count": null,
   "id": "6d8ab5ae",
   "metadata": {},
   "outputs": [],
   "source": []
  },
  {
   "cell_type": "code",
   "execution_count": null,
   "id": "dfd4524d",
   "metadata": {},
   "outputs": [],
   "source": []
  },
  {
   "cell_type": "code",
   "execution_count": null,
   "id": "c0c4c825",
   "metadata": {},
   "outputs": [],
   "source": []
  },
  {
   "cell_type": "code",
   "execution_count": null,
   "id": "0b9f9e74",
   "metadata": {},
   "outputs": [],
   "source": []
  },
  {
   "cell_type": "markdown",
   "id": "1dc79fd7",
   "metadata": {},
   "source": [
    "- Define una función que eliga al azar **`n`** artículos al azar del fichero **`20minutos_1.csv`** y que muestre para cada articulo:\n",
    "    - **Titulo, fecha y el WordCloud.**\n",
    "    \n",
    "Prueba la función con **`n = 5`**"
   ]
  },
  {
   "cell_type": "code",
   "execution_count": null,
   "id": "8547b105",
   "metadata": {},
   "outputs": [],
   "source": []
  }
 ],
 "metadata": {
  "kernelspec": {
   "display_name": "Python 3",
   "language": "python",
   "name": "python3"
  },
  "language_info": {
   "codemirror_mode": {
    "name": "ipython",
    "version": 3
   },
   "file_extension": ".py",
   "mimetype": "text/x-python",
   "name": "python",
   "nbconvert_exporter": "python",
   "pygments_lexer": "ipython3",
   "version": "3.8.8"
  }
 },
 "nbformat": 4,
 "nbformat_minor": 5
}
