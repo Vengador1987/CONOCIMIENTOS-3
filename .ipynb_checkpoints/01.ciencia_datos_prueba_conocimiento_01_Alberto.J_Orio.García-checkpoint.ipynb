{
 "cells": [
  {
   "cell_type": "markdown",
   "id": "b327cbaa",
   "metadata": {},
   "source": [
    "## Prueba de Conocimientos Ciencia de Datos 01\n",
    "\n",
    "En este notebook puedes utilizar todas las librerias con las que hemos trabajado."
   ]
  },
  {
   "cell_type": "code",
   "execution_count": 1,
   "id": "b9b55356-99a1-4277-a28e-a65bd05bd9ac",
   "metadata": {},
   "outputs": [
    {
     "ename": "KeyboardInterrupt",
     "evalue": "",
     "output_type": "error",
     "traceback": [
      "\u001b[1;31m---------------------------------------------------------------------------\u001b[0m",
      "\u001b[1;31mKeyboardInterrupt\u001b[0m                         Traceback (most recent call last)",
      "\u001b[1;32m<ipython-input-1-d71cf651fc45>\u001b[0m in \u001b[0;36m<module>\u001b[1;34m\u001b[0m\n\u001b[0;32m      9\u001b[0m \u001b[1;32mimport\u001b[0m \u001b[0mhelium\u001b[0m\u001b[1;33m\u001b[0m\u001b[1;33m\u001b[0m\u001b[0m\n\u001b[0;32m     10\u001b[0m \u001b[1;33m\u001b[0m\u001b[0m\n\u001b[1;32m---> 11\u001b[1;33m \u001b[1;32mimport\u001b[0m \u001b[0mpandas\u001b[0m \u001b[1;32mas\u001b[0m \u001b[0mpd\u001b[0m\u001b[1;33m\u001b[0m\u001b[1;33m\u001b[0m\u001b[0m\n\u001b[0m\u001b[0;32m     12\u001b[0m \u001b[1;32mimport\u001b[0m \u001b[0mnumpy\u001b[0m \u001b[1;32mas\u001b[0m \u001b[0mnp\u001b[0m\u001b[1;33m\u001b[0m\u001b[1;33m\u001b[0m\u001b[0m\n",
      "\u001b[1;32m~\\anaconda3\\lib\\site-packages\\pandas\\__init__.py\u001b[0m in \u001b[0;36m<module>\u001b[1;34m\u001b[0m\n\u001b[0;32m      9\u001b[0m \u001b[1;32mfor\u001b[0m \u001b[0mdependency\u001b[0m \u001b[1;32min\u001b[0m \u001b[0mhard_dependencies\u001b[0m\u001b[1;33m:\u001b[0m\u001b[1;33m\u001b[0m\u001b[1;33m\u001b[0m\u001b[0m\n\u001b[0;32m     10\u001b[0m     \u001b[1;32mtry\u001b[0m\u001b[1;33m:\u001b[0m\u001b[1;33m\u001b[0m\u001b[1;33m\u001b[0m\u001b[0m\n\u001b[1;32m---> 11\u001b[1;33m         \u001b[0m__import__\u001b[0m\u001b[1;33m(\u001b[0m\u001b[0mdependency\u001b[0m\u001b[1;33m)\u001b[0m\u001b[1;33m\u001b[0m\u001b[1;33m\u001b[0m\u001b[0m\n\u001b[0m\u001b[0;32m     12\u001b[0m     \u001b[1;32mexcept\u001b[0m \u001b[0mImportError\u001b[0m \u001b[1;32mas\u001b[0m \u001b[0me\u001b[0m\u001b[1;33m:\u001b[0m\u001b[1;33m\u001b[0m\u001b[1;33m\u001b[0m\u001b[0m\n\u001b[0;32m     13\u001b[0m         \u001b[0mmissing_dependencies\u001b[0m\u001b[1;33m.\u001b[0m\u001b[0mappend\u001b[0m\u001b[1;33m(\u001b[0m\u001b[1;34mf\"{dependency}: {e}\"\u001b[0m\u001b[1;33m)\u001b[0m\u001b[1;33m\u001b[0m\u001b[1;33m\u001b[0m\u001b[0m\n",
      "\u001b[1;32m~\\anaconda3\\lib\\site-packages\\numpy\\__init__.py\u001b[0m in \u001b[0;36m<module>\u001b[1;34m\u001b[0m\n\u001b[0;32m    143\u001b[0m     \u001b[1;32mfrom\u001b[0m \u001b[1;33m.\u001b[0m \u001b[1;32mimport\u001b[0m \u001b[0m_distributor_init\u001b[0m\u001b[1;33m\u001b[0m\u001b[1;33m\u001b[0m\u001b[0m\n\u001b[0;32m    144\u001b[0m \u001b[1;33m\u001b[0m\u001b[0m\n\u001b[1;32m--> 145\u001b[1;33m     \u001b[1;32mfrom\u001b[0m \u001b[1;33m.\u001b[0m \u001b[1;32mimport\u001b[0m \u001b[0mcore\u001b[0m\u001b[1;33m\u001b[0m\u001b[1;33m\u001b[0m\u001b[0m\n\u001b[0m\u001b[0;32m    146\u001b[0m     \u001b[1;32mfrom\u001b[0m \u001b[1;33m.\u001b[0m\u001b[0mcore\u001b[0m \u001b[1;32mimport\u001b[0m \u001b[1;33m*\u001b[0m\u001b[1;33m\u001b[0m\u001b[1;33m\u001b[0m\u001b[0m\n\u001b[0;32m    147\u001b[0m     \u001b[1;32mfrom\u001b[0m \u001b[1;33m.\u001b[0m \u001b[1;32mimport\u001b[0m \u001b[0mcompat\u001b[0m\u001b[1;33m\u001b[0m\u001b[1;33m\u001b[0m\u001b[0m\n",
      "\u001b[1;32m~\\anaconda3\\lib\\site-packages\\numpy\\core\\__init__.py\u001b[0m in \u001b[0;36m<module>\u001b[1;34m\u001b[0m\n\u001b[0;32m     96\u001b[0m \u001b[1;31m# do this after everything else, to minimize the chance of this misleadingly\u001b[0m\u001b[1;33m\u001b[0m\u001b[1;33m\u001b[0m\u001b[1;33m\u001b[0m\u001b[0m\n\u001b[0;32m     97\u001b[0m \u001b[1;31m# appearing in an import-time traceback\u001b[0m\u001b[1;33m\u001b[0m\u001b[1;33m\u001b[0m\u001b[1;33m\u001b[0m\u001b[0m\n\u001b[1;32m---> 98\u001b[1;33m \u001b[1;32mfrom\u001b[0m \u001b[1;33m.\u001b[0m \u001b[1;32mimport\u001b[0m \u001b[0m_add_newdocs\u001b[0m\u001b[1;33m\u001b[0m\u001b[1;33m\u001b[0m\u001b[0m\n\u001b[0m\u001b[0;32m     99\u001b[0m \u001b[1;32mfrom\u001b[0m \u001b[1;33m.\u001b[0m \u001b[1;32mimport\u001b[0m \u001b[0m_add_newdocs_scalars\u001b[0m\u001b[1;33m\u001b[0m\u001b[1;33m\u001b[0m\u001b[0m\n\u001b[0;32m    100\u001b[0m \u001b[1;31m# add these for module-freeze analysis (like PyInstaller)\u001b[0m\u001b[1;33m\u001b[0m\u001b[1;33m\u001b[0m\u001b[1;33m\u001b[0m\u001b[0m\n",
      "\u001b[1;32m~\\anaconda3\\lib\\importlib\\_bootstrap.py\u001b[0m in \u001b[0;36m_find_and_load\u001b[1;34m(name, import_)\u001b[0m\n",
      "\u001b[1;32m~\\anaconda3\\lib\\importlib\\_bootstrap.py\u001b[0m in \u001b[0;36m_find_and_load_unlocked\u001b[1;34m(name, import_)\u001b[0m\n",
      "\u001b[1;32m~\\anaconda3\\lib\\importlib\\_bootstrap.py\u001b[0m in \u001b[0;36m_load_unlocked\u001b[1;34m(spec)\u001b[0m\n",
      "\u001b[1;32m~\\anaconda3\\lib\\importlib\\_bootstrap_external.py\u001b[0m in \u001b[0;36mexec_module\u001b[1;34m(self, module)\u001b[0m\n",
      "\u001b[1;32m~\\anaconda3\\lib\\importlib\\_bootstrap_external.py\u001b[0m in \u001b[0;36mget_code\u001b[1;34m(self, fullname)\u001b[0m\n",
      "\u001b[1;32m~\\anaconda3\\lib\\importlib\\_bootstrap_external.py\u001b[0m in \u001b[0;36mget_data\u001b[1;34m(self, path)\u001b[0m\n",
      "\u001b[1;31mKeyboardInterrupt\u001b[0m: "
     ]
    }
   ],
   "source": [
    "import requests \n",
    "\n",
    "from bs4 import BeautifulSoup\n",
    "\n",
    "from selenium import webdriver\n",
    "\n",
    "from time import sleep\n",
    "\n",
    "import helium\n",
    "\n",
    "import pandas as pd\n",
    "import numpy as np"
   ]
  },
  {
   "cell_type": "markdown",
   "id": "dc998db4",
   "metadata": {},
   "source": [
    "### Ejercicio 1:\n",
    "\n",
    "_**url** = https://www.20minutos.es/_\n",
    "\n",
    "Vamos a hacer Web Scraping de las primeras 3 paginas de las categorias de noticias: **Ciencia**, **Deporte**, **Gente**, **Economía**, **Madrid** y **Opinión**.\n",
    "\n",
    "Y de cada noticia/articulo vamos a obtener:\n",
    "\n",
    "- **Titulo**\n",
    "- **Hora**\n",
    "- **Fecha**\n",
    "- **Autor**\n",
    "- **Texto completo**\n",
    "- **Categoria (columna objetivo)**\n",
    "\n",
    "**Sustituir con NaN's en el caso de que no se pueda extraer alguno de esos datos anteriores.**\n",
    "\n",
    "Genera un DataFrame con esta información y guardalo en el archivo **`20minutos_1.csv`**."
   ]
  },
  {
   "cell_type": "code",
   "execution_count": null,
   "id": "0ee42b78",
   "metadata": {},
   "outputs": [],
   "source": [
    "# Driver de Chrome.\n",
    "chrome_driver = \"chromedriver.exe\""
   ]
  },
  {
   "cell_type": "code",
   "execution_count": null,
   "id": "75b1d362",
   "metadata": {},
   "outputs": [],
   "source": [
    "browser = webdriver.Chrome(executable_path = chrome_driver) # Abre el navegador.\n",
    "\n",
    "browser.get(\"https://www.20minutos.es/\") # Entra en 20minutos.\n",
    "\n",
    "browser.maximize_window() # Maximiza la ventana del navegador."
   ]
  },
  {
   "cell_type": "code",
   "execution_count": null,
   "id": "ec0d81b7",
   "metadata": {},
   "outputs": [],
   "source": [
    "# Para aceptar las cookies.\n",
    "browser.find_element_by_id(\"didomi-notice-agree-button\").click()\n",
    "sleep(3)"
   ]
  },
  {
   "cell_type": "code",
   "execution_count": null,
   "id": "b1c9bbf0",
   "metadata": {},
   "outputs": [],
   "source": [
    "# Para acceder a categorías. \n",
    "browser.find_element_by_css_selector(\"#ui-header-land > div.section-menu > nav > ul > li.primary-more.link.current.no-expandable.last\").click()\n",
    "sleep(3)"
   ]
  },
  {
   "cell_type": "code",
   "execution_count": null,
   "id": "d8d78b70",
   "metadata": {},
   "outputs": [],
   "source": [
    "# Para entrar en la categoría \"Ciencia\".\n",
    "browser.find_element_by_link_text(\"Ciencia\").click()\n",
    "sleep(3)"
   ]
  },
  {
   "cell_type": "code",
   "execution_count": null,
   "id": "7678e6c3",
   "metadata": {},
   "outputs": [],
   "source": [
    "#Extraemos el html y lo pasamos a objeto bs4\n",
    "soup = BeautifulSoup(browser.page_source, \"html.parser\")"
   ]
  },
  {
   "cell_type": "code",
   "execution_count": null,
   "id": "8aeaa319-0f0c-48ec-acbd-980b86a616dc",
   "metadata": {},
   "outputs": [],
   "source": [
    "def noticiasCategoria(url_original, categoría, número_páginas):\n",
    "    lista_urls = []\n",
    "    \n",
    "    # Para recorrer las páginas.\n",
    "    for i in range(1, número_páginas + 1):\n",
    "        \n",
    "        url = f\"{url_original}{categoría}/{i}/\"\n",
    "        print(url)\n",
    "        \n",
    "        # EL response con Helium.\n",
    "        browser = helium.start_chrome(url, headless = True)\n",
    "        sleep(5)\n",
    "        \n",
    "        soup = BeautifulSoup(browser.page_source, \"html.parser\")\n",
    "        \n",
    "        # Para recorrer las noticias.\n",
    "        for bs in soup.find_all(\"div\", class_ = \"media-content\"):\n",
    "\n",
    "            # De esta forma se accede al enlace.\n",
    "            enlace = bs.find(\"a\")[\"href\"]\n",
    "\n",
    "            # Para incluir en la lista, solo cuando el enlace incluye el string \"noticia\", o la categoría se encuentr en \n",
    "            # el enlace, además de no tener el string \"imagenes\".\n",
    "            if ((\"noticia\" in enlace) or (categoría in enlace)) and (\"/imagenes/\" not in enlace):\n",
    "                lista_urls.append(enlace)\n",
    "    \n",
    "    return lista_urls"
   ]
  },
  {
   "cell_type": "code",
   "execution_count": null,
   "id": "66cb255f-8f2e-487b-9f2b-794ff2d0a989",
   "metadata": {},
   "outputs": [],
   "source": [
    "# Con esto, se extraen las noticias de las 3 primeras páginas, y se guardan en una variable.\n",
    "# Con el len del final, se comprueba su número.\n",
    "resultado = noticiasCategoria(\"https://www.20minutos.es/\", \"ciencia\", 3)\n",
    "len(resultado)"
   ]
  },
  {
   "cell_type": "code",
   "execution_count": null,
   "id": "cb5715ef-6766-4ce4-8db7-8b9e1b71a7b8",
   "metadata": {},
   "outputs": [],
   "source": [
    "%%time\n",
    "\n",
    "# Con este código, lo mismo de antes, pero para todas las categorías que pide el ejercicio.\n",
    "\n",
    "categorias = [\"ciencia\", \"deportes\", \"gente\", \"economia\", \"madrid\", \"opinion\"]\n",
    "\n",
    "dict_enlaces = {}\n",
    "\n",
    "numero_paginas = 3\n",
    "\n",
    "for categoria in categorias:\n",
    "    \n",
    "    dict_enlaces[categoria] = noticiasCategoria(\"https://www.20minutos.es/\", categoria, numero_paginas)"
   ]
  },
  {
   "cell_type": "code",
   "execution_count": null,
   "id": "762a0fe2-39f3-4e5a-865a-c1276aaff5ac",
   "metadata": {},
   "outputs": [],
   "source": [
    "# Para ver cuantas noticias son.\n",
    "len(dict_enlaces[categoria])"
   ]
  },
  {
   "cell_type": "code",
   "execution_count": null,
   "id": "fadc4c6d-9c3b-4837-87a2-c0bf4d38fcdf",
   "metadata": {},
   "outputs": [],
   "source": [
    "df = pd.DataFrame(dict_enlaces.items(), columns = [\"Categoría\", \"Enlace\"])\n",
    "df"
   ]
  },
  {
   "cell_type": "code",
   "execution_count": null,
   "id": "5f734726-a19c-467c-a3b9-002b77de8a25",
   "metadata": {},
   "outputs": [],
   "source": [
    "df = df.explode(\"Url\").reset_index(drop = True)\n",
    "df"
   ]
  },
  {
   "cell_type": "code",
   "execution_count": null,
   "id": "77333d20-057b-4659-aed1-48d89d433faf",
   "metadata": {},
   "outputs": [],
   "source": [
    "df.to_csv(\"urls_ejercicio1_parte1.csv\", index = False, sep = \",\")"
   ]
  },
  {
   "cell_type": "code",
   "execution_count": null,
   "id": "63551a6a-372f-4e61-8f8e-e53c6c6041fa",
   "metadata": {},
   "outputs": [],
   "source": []
  },
  {
   "cell_type": "code",
   "execution_count": null,
   "id": "b1bfc6f7-eee4-4fa4-8782-0b3667ff23d8",
   "metadata": {},
   "outputs": [],
   "source": []
  },
  {
   "cell_type": "markdown",
   "id": "b90547ae",
   "metadata": {},
   "source": [
    "- Escribe el código para sacar la información de las primeras 5 páginas de todas las categorias:\n",
    "    - **Andalucia**, **Valencia**, **Animaleros**, **Cataluña**, **Nacional**, **Vivienda**, **Internacional**, **Cultura**, **Empleo**, **Ciencia**, **Deporte**, **Gente**, **Economía**, **Madrid** y **Opinión**.\n",
    "\n",
    ". Guarda esta información en el archivo **`20minutos_2.csv`**."
   ]
  },
  {
   "cell_type": "code",
   "execution_count": null,
   "id": "a5a7b514",
   "metadata": {},
   "outputs": [],
   "source": []
  },
  {
   "cell_type": "code",
   "execution_count": null,
   "id": "33b33b71",
   "metadata": {},
   "outputs": [],
   "source": []
  },
  {
   "cell_type": "code",
   "execution_count": null,
   "id": "7cde76e0",
   "metadata": {},
   "outputs": [],
   "source": []
  },
  {
   "cell_type": "code",
   "execution_count": null,
   "id": "cf4c7713",
   "metadata": {},
   "outputs": [],
   "source": []
  },
  {
   "cell_type": "code",
   "execution_count": null,
   "id": "94b802c7",
   "metadata": {},
   "outputs": [],
   "source": []
  },
  {
   "cell_type": "markdown",
   "id": "a07f6af0",
   "metadata": {},
   "source": [
    "- **Escribe el código para sacar la información de todas las categorias del ejercicio anterior pero solo del mes de marzo. Guarda esta información en el archivo `20minutos_3.csv`.**"
   ]
  },
  {
   "cell_type": "code",
   "execution_count": null,
   "id": "224a9026",
   "metadata": {},
   "outputs": [],
   "source": []
  },
  {
   "cell_type": "code",
   "execution_count": null,
   "id": "1af70a48",
   "metadata": {},
   "outputs": [],
   "source": []
  },
  {
   "cell_type": "code",
   "execution_count": null,
   "id": "7358a572",
   "metadata": {},
   "outputs": [],
   "source": []
  },
  {
   "cell_type": "code",
   "execution_count": null,
   "id": "8c66ea4e",
   "metadata": {},
   "outputs": [],
   "source": []
  },
  {
   "cell_type": "code",
   "execution_count": null,
   "id": "2edc3495",
   "metadata": {},
   "outputs": [],
   "source": []
  },
  {
   "cell_type": "code",
   "execution_count": null,
   "id": "8d27d08b",
   "metadata": {},
   "outputs": [],
   "source": []
  },
  {
   "cell_type": "code",
   "execution_count": null,
   "id": "af7ad271",
   "metadata": {},
   "outputs": [],
   "source": []
  },
  {
   "cell_type": "code",
   "execution_count": null,
   "id": "3dc1c7a2",
   "metadata": {},
   "outputs": [],
   "source": []
  },
  {
   "cell_type": "markdown",
   "id": "38dfd63c",
   "metadata": {},
   "source": [
    "- **Elige el articulo que más te interese de todos los articulos extraidos, muestra en un WordCloud las palabras más repetidas eliminando los stopwords.**"
   ]
  },
  {
   "cell_type": "code",
   "execution_count": null,
   "id": "b4bd5adc",
   "metadata": {},
   "outputs": [],
   "source": []
  },
  {
   "cell_type": "code",
   "execution_count": null,
   "id": "ebcbe124",
   "metadata": {},
   "outputs": [],
   "source": []
  },
  {
   "cell_type": "code",
   "execution_count": null,
   "id": "6d8ab5ae",
   "metadata": {},
   "outputs": [],
   "source": []
  },
  {
   "cell_type": "code",
   "execution_count": null,
   "id": "dfd4524d",
   "metadata": {},
   "outputs": [],
   "source": []
  },
  {
   "cell_type": "code",
   "execution_count": null,
   "id": "c0c4c825",
   "metadata": {},
   "outputs": [],
   "source": []
  },
  {
   "cell_type": "code",
   "execution_count": null,
   "id": "0b9f9e74",
   "metadata": {},
   "outputs": [],
   "source": []
  },
  {
   "cell_type": "markdown",
   "id": "1dc79fd7",
   "metadata": {},
   "source": [
    "- Define una función que eliga al azar **`n`** artículos al azar del fichero **`20minutos_1.csv`** y que muestre para cada articulo:\n",
    "    - **Titulo, fecha y el WordCloud.**\n",
    "    \n",
    "Prueba la función con **`n = 5`**"
   ]
  },
  {
   "cell_type": "code",
   "execution_count": null,
   "id": "8547b105",
   "metadata": {},
   "outputs": [],
   "source": []
  }
 ],
 "metadata": {
  "kernelspec": {
   "display_name": "Python 3",
   "language": "python",
   "name": "python3"
  },
  "language_info": {
   "codemirror_mode": {
    "name": "ipython",
    "version": 3
   },
   "file_extension": ".py",
   "mimetype": "text/x-python",
   "name": "python",
   "nbconvert_exporter": "python",
   "pygments_lexer": "ipython3",
   "version": "3.8.8"
  }
 },
 "nbformat": 4,
 "nbformat_minor": 5
}
