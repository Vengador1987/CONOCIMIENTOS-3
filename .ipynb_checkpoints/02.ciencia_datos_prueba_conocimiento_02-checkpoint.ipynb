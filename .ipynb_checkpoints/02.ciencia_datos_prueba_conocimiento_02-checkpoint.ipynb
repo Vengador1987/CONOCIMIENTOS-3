{
 "cells": [
  {
   "cell_type": "markdown",
   "id": "84e9f09b",
   "metadata": {},
   "source": [
    "## Prueba de Conocimientos Ciencia de Datos 02\n",
    "\n",
    "En este notebook puedes utilizar todas las librerias con las que hemos trabajado."
   ]
  },
  {
   "cell_type": "markdown",
   "id": "a732f7e3",
   "metadata": {},
   "source": [
    "Utilizando el dataset de **`201114COVID19MEXICO.csv`**:\n",
    "\n",
    "### Ejercicio 0:\n",
    "- Obten las estadísticas del dataset:\n",
    "1. **Número de filas y columnas.**\n",
    "2. **Tipo de dato de cada columna.**\n",
    "3. **Las estadísticas de cada columna.**"
   ]
  },
  {
   "cell_type": "markdown",
   "id": "f3078bbb",
   "metadata": {},
   "source": [
    "### Ejercicio 1:\n",
    "- Obten la siguiente información:\n",
    "1. **Número de positivos.**\n",
    "2. **Número de defunciones.**\n",
    "3. **Número de positivos en cada estado.**\n",
    "4. **Los nombres de los 3 estados con mayor número de positivos.**\n",
    "5. **Edad promedio de los positivos.**\n",
    "6. **Edad promedio de los que han fallecido.**\n",
    "7. **Tiempo entre la columna `FECHA_SINTOMA` y la columna `FECHA_DEF` para los que han fallecido.**\n",
    "8. **¿Cuál es la enfermedad con más prevalencia en los positivos?**\n",
    "9. **¿Cuál es la enfermedad con más prevalencia en los que han fallecido?**\n",
    "10. **¿Es la misma enfermedad?**\n",
    "\n",
    "___\n",
    "\n",
    "\n",
    "- **¿Que otra información podrias extraer del dataset?**\n",
    "    - **Analiza el dataset y muestra 5 conclusiones.**"
   ]
  },
  {
   "cell_type": "markdown",
   "id": "96c6545b",
   "metadata": {},
   "source": [
    "### Ejercicio 2:\n",
    "- Obten las siguientes graficas:\n",
    "1. **Gráfica de barras del número de hombres y mujeres**\n",
    "2. **Grafica de barras de los positivos y no positivos**\n",
    "3. **Gráfica de barras del número de positivos por estado**\n",
    "4. **Gráfica de barras del número de fallecidos por estado**\n",
    "5. **Gráfica de barras del número de positivos por la columna `SECTOR`**\n",
    "6. **Histograma de la edad de los positivos**\n",
    "7. **Histograma de la edad de los no positivos**\n",
    "8. **Mapa de calor de México con el número de positivos por estado utilizando folium**\n",
    "9. **Mapa de calor de México con el número de fallecidos por estado utilizando folium**\n",
    "\n",
    "___\n",
    "\n",
    "\n",
    "- **¿Que otras graficas podrias extraer del dataset?**\n",
    "    - **Analiza el dataset y muestra 5 graficas, pueden ser cualquiera de las vistas en clases.**"
   ]
  },
  {
   "cell_type": "code",
   "execution_count": null,
   "id": "9db94149",
   "metadata": {},
   "outputs": [],
   "source": [
    "import numpy as np\n",
    "import pandas as pd\n",
    "import matplotlib.pyplot as plt\n",
    "import seaborn as sns"
   ]
  },
  {
   "cell_type": "code",
   "execution_count": null,
   "id": "672b0e44",
   "metadata": {},
   "outputs": [],
   "source": [
    "df = pd.read_csv(\"201114COVID19MEXICO.csv\", encoding = \"ISO-8859-1\")\n",
    "\n",
    "df.head()"
   ]
  },
  {
   "cell_type": "code",
   "execution_count": null,
   "id": "29625ea2",
   "metadata": {},
   "outputs": [],
   "source": []
  },
  {
   "cell_type": "code",
   "execution_count": null,
   "id": "f9cb7b3e",
   "metadata": {},
   "outputs": [],
   "source": []
  },
  {
   "cell_type": "code",
   "execution_count": null,
   "id": "2467f8ec",
   "metadata": {},
   "outputs": [],
   "source": []
  },
  {
   "cell_type": "code",
   "execution_count": null,
   "id": "914a385d",
   "metadata": {},
   "outputs": [],
   "source": []
  },
  {
   "cell_type": "code",
   "execution_count": null,
   "id": "c9a40389",
   "metadata": {},
   "outputs": [],
   "source": []
  },
  {
   "cell_type": "code",
   "execution_count": null,
   "id": "0025d1f3",
   "metadata": {},
   "outputs": [],
   "source": []
  },
  {
   "cell_type": "code",
   "execution_count": null,
   "id": "4f08a519",
   "metadata": {},
   "outputs": [],
   "source": []
  },
  {
   "cell_type": "code",
   "execution_count": null,
   "id": "981e7fac",
   "metadata": {},
   "outputs": [],
   "source": []
  },
  {
   "cell_type": "code",
   "execution_count": null,
   "id": "0eeacf87",
   "metadata": {},
   "outputs": [],
   "source": []
  },
  {
   "cell_type": "code",
   "execution_count": null,
   "id": "03df61e1",
   "metadata": {},
   "outputs": [],
   "source": []
  },
  {
   "cell_type": "code",
   "execution_count": null,
   "id": "a5b9e32a",
   "metadata": {},
   "outputs": [],
   "source": []
  },
  {
   "cell_type": "code",
   "execution_count": null,
   "id": "b2e18dbf",
   "metadata": {},
   "outputs": [],
   "source": []
  },
  {
   "cell_type": "code",
   "execution_count": null,
   "id": "bf4ca951",
   "metadata": {},
   "outputs": [],
   "source": []
  }
 ],
 "metadata": {
  "kernelspec": {
   "display_name": "Python 3",
   "language": "python",
   "name": "python3"
  },
  "language_info": {
   "codemirror_mode": {
    "name": "ipython",
    "version": 3
   },
   "file_extension": ".py",
   "mimetype": "text/x-python",
   "name": "python",
   "nbconvert_exporter": "python",
   "pygments_lexer": "ipython3",
   "version": "3.8.8"
  }
 },
 "nbformat": 4,
 "nbformat_minor": 5
}
