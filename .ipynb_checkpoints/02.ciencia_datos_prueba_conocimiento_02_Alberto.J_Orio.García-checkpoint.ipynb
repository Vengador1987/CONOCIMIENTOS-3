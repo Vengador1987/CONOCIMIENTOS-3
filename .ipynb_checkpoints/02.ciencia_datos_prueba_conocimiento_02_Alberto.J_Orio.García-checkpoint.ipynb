{
 "cells": [
  {
   "cell_type": "markdown",
   "id": "54d3145f-77ea-493b-b5d3-60ed29b0cd73",
   "metadata": {},
   "source": [
    "# Alberto J. Orio García."
   ]
  },
  {
   "cell_type": "markdown",
   "id": "84e9f09b",
   "metadata": {},
   "source": [
    "## Prueba de Conocimientos Ciencia de Datos 02\n",
    "\n",
    "En este notebook puedes utilizar todas las librerias con las que hemos trabajado."
   ]
  },
  {
   "cell_type": "markdown",
   "id": "a732f7e3",
   "metadata": {},
   "source": [
    "Utilizando el dataset de **`201114COVID19MEXICO.csv`**:\n",
    "\n",
    "### Ejercicio 0:\n",
    "- Obten las estadísticas del dataset:\n",
    "1. **Número de filas y columnas.**\n",
    "2. **Tipo de dato de cada columna.**\n",
    "3. **Las estadísticas de cada columna.**"
   ]
  },
  {
   "cell_type": "markdown",
   "id": "f3078bbb",
   "metadata": {},
   "source": [
    "### Ejercicio 1:\n",
    "- Obten la siguiente información:\n",
    "1. **Número de positivos.**\n",
    "2. **Número de defunciones.**\n",
    "3. **Número de positivos en cada estado.**\n",
    "4. **Los nombres de los 3 estados con mayor número de positivos.**\n",
    "5. **Edad promedio de los positivos.**\n",
    "6. **Edad promedio de los que han fallecido.**\n",
    "7. **Tiempo entre la columna `FECHA_SINTOMA` y la columna `FECHA_DEF` para los que han fallecido.**\n",
    "8. **¿Cuál es la enfermedad con más prevalencia en los positivos?**\n",
    "9. **¿Cuál es la enfermedad con más prevalencia en los que han fallecido?**\n",
    "10. **¿Es la misma enfermedad?**\n",
    "\n",
    "___\n",
    "\n",
    "\n",
    "- **¿Que otra información podrias extraer del dataset?**\n",
    "    - **Analiza el dataset y muestra 5 conclusiones.**"
   ]
  },
  {
   "cell_type": "markdown",
   "id": "96c6545b",
   "metadata": {},
   "source": [
    "### Ejercicio 2:\n",
    "- Obten las siguientes graficas:\n",
    "1. **Gráfica de barras del número de hombres y mujeres**\n",
    "2. **Grafica de barras de los positivos y no positivos**\n",
    "3. **Gráfica de barras del número de positivos por estado**\n",
    "4. **Gráfica de barras del número de fallecidos por estado**\n",
    "5. **Gráfica de barras del número de positivos por la columna `SECTOR`**\n",
    "6. **Histograma de la edad de los positivos**\n",
    "7. **Histograma de la edad de los no positivos**\n",
    "8. **Mapa de calor de México con el número de positivos por estado utilizando folium**\n",
    "9. **Mapa de calor de México con el número de fallecidos por estado utilizando folium**\n",
    "\n",
    "___\n",
    "\n",
    "\n",
    "- **¿Que otras graficas podrias extraer del dataset?**\n",
    "    - **Analiza el dataset y muestra 5 graficas, pueden ser cualquiera de las vistas en clases.**"
   ]
  },
  {
   "cell_type": "code",
   "execution_count": 1,
   "id": "9db94149",
   "metadata": {},
   "outputs": [],
   "source": [
    "import numpy as np\n",
    "import pandas as pd\n",
    "import matplotlib.pyplot as plt\n",
    "import seaborn as sns"
   ]
  },
  {
   "cell_type": "markdown",
   "id": "415eff68-8a97-418b-8f07-f0f68a83b453",
   "metadata": {},
   "source": [
    "# Ejercicio 0"
   ]
  },
  {
   "cell_type": "code",
   "execution_count": 2,
   "id": "672b0e44",
   "metadata": {},
   "outputs": [
    {
     "data": {
      "text/html": [
       "<div>\n",
       "<style scoped>\n",
       "    .dataframe tbody tr th:only-of-type {\n",
       "        vertical-align: middle;\n",
       "    }\n",
       "\n",
       "    .dataframe tbody tr th {\n",
       "        vertical-align: top;\n",
       "    }\n",
       "\n",
       "    .dataframe thead th {\n",
       "        text-align: right;\n",
       "    }\n",
       "</style>\n",
       "<table border=\"1\" class=\"dataframe\">\n",
       "  <thead>\n",
       "    <tr style=\"text-align: right;\">\n",
       "      <th></th>\n",
       "      <th>FECHA_ACTUALIZACION</th>\n",
       "      <th>ID_REGISTRO</th>\n",
       "      <th>ORIGEN</th>\n",
       "      <th>SECTOR</th>\n",
       "      <th>ENTIDAD_UM</th>\n",
       "      <th>SEXO</th>\n",
       "      <th>ENTIDAD_NAC</th>\n",
       "      <th>ENTIDAD_RES</th>\n",
       "      <th>MUNICIPIO_RES</th>\n",
       "      <th>TIPO_PACIENTE</th>\n",
       "      <th>...</th>\n",
       "      <th>RENAL_CRONICA</th>\n",
       "      <th>TABAQUISMO</th>\n",
       "      <th>OTRO_CASO</th>\n",
       "      <th>TOMA_MUESTRA</th>\n",
       "      <th>RESULTADO_LAB</th>\n",
       "      <th>CLASIFICACION_FINAL</th>\n",
       "      <th>MIGRANTE</th>\n",
       "      <th>PAIS_NACIONALIDAD</th>\n",
       "      <th>PAIS_ORIGEN</th>\n",
       "      <th>UCI</th>\n",
       "    </tr>\n",
       "  </thead>\n",
       "  <tbody>\n",
       "    <tr>\n",
       "      <th>0</th>\n",
       "      <td>2020-11-14</td>\n",
       "      <td>071735</td>\n",
       "      <td>2</td>\n",
       "      <td>9</td>\n",
       "      <td>21</td>\n",
       "      <td>2</td>\n",
       "      <td>21</td>\n",
       "      <td>21</td>\n",
       "      <td>114</td>\n",
       "      <td>1</td>\n",
       "      <td>...</td>\n",
       "      <td>2</td>\n",
       "      <td>2</td>\n",
       "      <td>2</td>\n",
       "      <td>1</td>\n",
       "      <td>1</td>\n",
       "      <td>3</td>\n",
       "      <td>99</td>\n",
       "      <td>MÃ©xico</td>\n",
       "      <td>97</td>\n",
       "      <td>97</td>\n",
       "    </tr>\n",
       "    <tr>\n",
       "      <th>1</th>\n",
       "      <td>2020-11-14</td>\n",
       "      <td>1468a5</td>\n",
       "      <td>1</td>\n",
       "      <td>4</td>\n",
       "      <td>5</td>\n",
       "      <td>1</td>\n",
       "      <td>15</td>\n",
       "      <td>5</td>\n",
       "      <td>18</td>\n",
       "      <td>1</td>\n",
       "      <td>...</td>\n",
       "      <td>2</td>\n",
       "      <td>2</td>\n",
       "      <td>1</td>\n",
       "      <td>1</td>\n",
       "      <td>1</td>\n",
       "      <td>3</td>\n",
       "      <td>99</td>\n",
       "      <td>MÃ©xico</td>\n",
       "      <td>97</td>\n",
       "      <td>97</td>\n",
       "    </tr>\n",
       "    <tr>\n",
       "      <th>2</th>\n",
       "      <td>2020-11-14</td>\n",
       "      <td>043f64</td>\n",
       "      <td>2</td>\n",
       "      <td>4</td>\n",
       "      <td>9</td>\n",
       "      <td>2</td>\n",
       "      <td>9</td>\n",
       "      <td>9</td>\n",
       "      <td>10</td>\n",
       "      <td>2</td>\n",
       "      <td>...</td>\n",
       "      <td>1</td>\n",
       "      <td>2</td>\n",
       "      <td>99</td>\n",
       "      <td>1</td>\n",
       "      <td>1</td>\n",
       "      <td>3</td>\n",
       "      <td>99</td>\n",
       "      <td>MÃ©xico</td>\n",
       "      <td>97</td>\n",
       "      <td>1</td>\n",
       "    </tr>\n",
       "    <tr>\n",
       "      <th>3</th>\n",
       "      <td>2020-11-14</td>\n",
       "      <td>0e07d8</td>\n",
       "      <td>1</td>\n",
       "      <td>4</td>\n",
       "      <td>15</td>\n",
       "      <td>2</td>\n",
       "      <td>15</td>\n",
       "      <td>15</td>\n",
       "      <td>104</td>\n",
       "      <td>2</td>\n",
       "      <td>...</td>\n",
       "      <td>2</td>\n",
       "      <td>2</td>\n",
       "      <td>99</td>\n",
       "      <td>1</td>\n",
       "      <td>1</td>\n",
       "      <td>3</td>\n",
       "      <td>99</td>\n",
       "      <td>MÃ©xico</td>\n",
       "      <td>97</td>\n",
       "      <td>2</td>\n",
       "    </tr>\n",
       "    <tr>\n",
       "      <th>4</th>\n",
       "      <td>2020-11-14</td>\n",
       "      <td>13757c</td>\n",
       "      <td>1</td>\n",
       "      <td>12</td>\n",
       "      <td>15</td>\n",
       "      <td>1</td>\n",
       "      <td>15</td>\n",
       "      <td>15</td>\n",
       "      <td>106</td>\n",
       "      <td>1</td>\n",
       "      <td>...</td>\n",
       "      <td>2</td>\n",
       "      <td>2</td>\n",
       "      <td>1</td>\n",
       "      <td>1</td>\n",
       "      <td>1</td>\n",
       "      <td>3</td>\n",
       "      <td>99</td>\n",
       "      <td>MÃ©xico</td>\n",
       "      <td>97</td>\n",
       "      <td>97</td>\n",
       "    </tr>\n",
       "  </tbody>\n",
       "</table>\n",
       "<p>5 rows × 38 columns</p>\n",
       "</div>"
      ],
      "text/plain": [
       "  FECHA_ACTUALIZACION ID_REGISTRO  ORIGEN  SECTOR  ENTIDAD_UM  SEXO  \\\n",
       "0          2020-11-14      071735       2       9          21     2   \n",
       "1          2020-11-14      1468a5       1       4           5     1   \n",
       "2          2020-11-14      043f64       2       4           9     2   \n",
       "3          2020-11-14      0e07d8       1       4          15     2   \n",
       "4          2020-11-14      13757c       1      12          15     1   \n",
       "\n",
       "   ENTIDAD_NAC  ENTIDAD_RES  MUNICIPIO_RES  TIPO_PACIENTE  ... RENAL_CRONICA  \\\n",
       "0           21           21            114              1  ...             2   \n",
       "1           15            5             18              1  ...             2   \n",
       "2            9            9             10              2  ...             1   \n",
       "3           15           15            104              2  ...             2   \n",
       "4           15           15            106              1  ...             2   \n",
       "\n",
       "  TABAQUISMO OTRO_CASO  TOMA_MUESTRA  RESULTADO_LAB  CLASIFICACION_FINAL  \\\n",
       "0          2         2             1              1                    3   \n",
       "1          2         1             1              1                    3   \n",
       "2          2        99             1              1                    3   \n",
       "3          2        99             1              1                    3   \n",
       "4          2         1             1              1                    3   \n",
       "\n",
       "   MIGRANTE  PAIS_NACIONALIDAD  PAIS_ORIGEN  UCI  \n",
       "0        99            MÃ©xico           97   97  \n",
       "1        99            MÃ©xico           97   97  \n",
       "2        99            MÃ©xico           97    1  \n",
       "3        99            MÃ©xico           97    2  \n",
       "4        99            MÃ©xico           97   97  \n",
       "\n",
       "[5 rows x 38 columns]"
      ]
     },
     "execution_count": 2,
     "metadata": {},
     "output_type": "execute_result"
    }
   ],
   "source": [
    "df = pd.read_csv(\"201114COVID19MEXICO.csv\", encoding = \"ISO-8859-1\")\n",
    "\n",
    "df.head()"
   ]
  },
  {
   "cell_type": "code",
   "execution_count": 3,
   "id": "853e55b2-2561-40a1-ba3e-fb6a0b1bf891",
   "metadata": {},
   "outputs": [],
   "source": [
    "# 1.- Para conocer el número de filas y columnas."
   ]
  },
  {
   "cell_type": "code",
   "execution_count": 4,
   "id": "29625ea2",
   "metadata": {},
   "outputs": [
    {
     "data": {
      "text/plain": [
       "(2604659, 38)"
      ]
     },
     "execution_count": 4,
     "metadata": {},
     "output_type": "execute_result"
    }
   ],
   "source": [
    "# Vemos que tiene 2.604.659 filas y 38 columnas.\n",
    "df.shape"
   ]
  },
  {
   "cell_type": "code",
   "execution_count": 5,
   "id": "f3dfdea1-8db8-4d32-8912-6a39beb5e2dd",
   "metadata": {},
   "outputs": [],
   "source": [
    "# 2.- Para averiguar el tipo de dato de cada columna."
   ]
  },
  {
   "cell_type": "code",
   "execution_count": 6,
   "id": "f9cb7b3e",
   "metadata": {},
   "outputs": [
    {
     "name": "stdout",
     "output_type": "stream",
     "text": [
      "<class 'pandas.core.frame.DataFrame'>\n",
      "RangeIndex: 2604659 entries, 0 to 2604658\n",
      "Data columns (total 38 columns):\n",
      " #   Column               Dtype \n",
      "---  ------               ----- \n",
      " 0   FECHA_ACTUALIZACION  object\n",
      " 1   ID_REGISTRO          object\n",
      " 2   ORIGEN               int64 \n",
      " 3   SECTOR               int64 \n",
      " 4   ENTIDAD_UM           int64 \n",
      " 5   SEXO                 int64 \n",
      " 6   ENTIDAD_NAC          int64 \n",
      " 7   ENTIDAD_RES          int64 \n",
      " 8   MUNICIPIO_RES        int64 \n",
      " 9   TIPO_PACIENTE        int64 \n",
      " 10  FECHA_INGRESO        object\n",
      " 11  FECHA_SINTOMAS       object\n",
      " 12  FECHA_DEF            object\n",
      " 13  INTUBADO             int64 \n",
      " 14  NEUMONIA             int64 \n",
      " 15  EDAD                 int64 \n",
      " 16  NACIONALIDAD         int64 \n",
      " 17  EMBARAZO             int64 \n",
      " 18  HABLA_LENGUA_INDIG   int64 \n",
      " 19  INDIGENA             int64 \n",
      " 20  DIABETES             int64 \n",
      " 21  EPOC                 int64 \n",
      " 22  ASMA                 int64 \n",
      " 23  INMUSUPR             int64 \n",
      " 24  HIPERTENSION         int64 \n",
      " 25  OTRA_COM             int64 \n",
      " 26  CARDIOVASCULAR       int64 \n",
      " 27  OBESIDAD             int64 \n",
      " 28  RENAL_CRONICA        int64 \n",
      " 29  TABAQUISMO           int64 \n",
      " 30  OTRO_CASO            int64 \n",
      " 31  TOMA_MUESTRA         int64 \n",
      " 32  RESULTADO_LAB        int64 \n",
      " 33  CLASIFICACION_FINAL  int64 \n",
      " 34  MIGRANTE             int64 \n",
      " 35  PAIS_NACIONALIDAD    object\n",
      " 36  PAIS_ORIGEN          object\n",
      " 37  UCI                  int64 \n",
      "dtypes: int64(31), object(7)\n",
      "memory usage: 755.1+ MB\n"
     ]
    }
   ],
   "source": [
    "# Se ven datos de dos tipos: números enteros y objetos.\n",
    "df.info()"
   ]
  },
  {
   "cell_type": "code",
   "execution_count": 7,
   "id": "6b18983c-2b52-4882-bce6-89a6258283f3",
   "metadata": {},
   "outputs": [],
   "source": [
    "# 3.- Para ver las estadísticas, por columnas."
   ]
  },
  {
   "cell_type": "code",
   "execution_count": 8,
   "id": "2467f8ec",
   "metadata": {},
   "outputs": [
    {
     "data": {
      "text/html": [
       "<div>\n",
       "<style scoped>\n",
       "    .dataframe tbody tr th:only-of-type {\n",
       "        vertical-align: middle;\n",
       "    }\n",
       "\n",
       "    .dataframe tbody tr th {\n",
       "        vertical-align: top;\n",
       "    }\n",
       "\n",
       "    .dataframe thead th {\n",
       "        text-align: right;\n",
       "    }\n",
       "</style>\n",
       "<table border=\"1\" class=\"dataframe\">\n",
       "  <thead>\n",
       "    <tr style=\"text-align: right;\">\n",
       "      <th></th>\n",
       "      <th>ORIGEN</th>\n",
       "      <th>SECTOR</th>\n",
       "      <th>ENTIDAD_UM</th>\n",
       "      <th>SEXO</th>\n",
       "      <th>ENTIDAD_NAC</th>\n",
       "      <th>ENTIDAD_RES</th>\n",
       "      <th>MUNICIPIO_RES</th>\n",
       "      <th>TIPO_PACIENTE</th>\n",
       "      <th>INTUBADO</th>\n",
       "      <th>NEUMONIA</th>\n",
       "      <th>...</th>\n",
       "      <th>CARDIOVASCULAR</th>\n",
       "      <th>OBESIDAD</th>\n",
       "      <th>RENAL_CRONICA</th>\n",
       "      <th>TABAQUISMO</th>\n",
       "      <th>OTRO_CASO</th>\n",
       "      <th>TOMA_MUESTRA</th>\n",
       "      <th>RESULTADO_LAB</th>\n",
       "      <th>CLASIFICACION_FINAL</th>\n",
       "      <th>MIGRANTE</th>\n",
       "      <th>UCI</th>\n",
       "    </tr>\n",
       "  </thead>\n",
       "  <tbody>\n",
       "    <tr>\n",
       "      <th>count</th>\n",
       "      <td>2.604659e+06</td>\n",
       "      <td>2.604659e+06</td>\n",
       "      <td>2.604659e+06</td>\n",
       "      <td>2.604659e+06</td>\n",
       "      <td>2.604659e+06</td>\n",
       "      <td>2.604659e+06</td>\n",
       "      <td>2.604659e+06</td>\n",
       "      <td>2.604659e+06</td>\n",
       "      <td>2.604659e+06</td>\n",
       "      <td>2.604659e+06</td>\n",
       "      <td>...</td>\n",
       "      <td>2.604659e+06</td>\n",
       "      <td>2.604659e+06</td>\n",
       "      <td>2.604659e+06</td>\n",
       "      <td>2.604659e+06</td>\n",
       "      <td>2.604659e+06</td>\n",
       "      <td>2.604659e+06</td>\n",
       "      <td>2.604659e+06</td>\n",
       "      <td>2.604659e+06</td>\n",
       "      <td>2.604659e+06</td>\n",
       "      <td>2.604659e+06</td>\n",
       "    </tr>\n",
       "    <tr>\n",
       "      <th>mean</th>\n",
       "      <td>1.653697e+00</td>\n",
       "      <td>9.305706e+00</td>\n",
       "      <td>1.497912e+01</td>\n",
       "      <td>1.485867e+00</td>\n",
       "      <td>1.593824e+01</td>\n",
       "      <td>1.521911e+01</td>\n",
       "      <td>3.572881e+01</td>\n",
       "      <td>1.152521e+00</td>\n",
       "      <td>8.273965e+01</td>\n",
       "      <td>2.574456e+00</td>\n",
       "      <td>...</td>\n",
       "      <td>2.275956e+00</td>\n",
       "      <td>2.140302e+00</td>\n",
       "      <td>2.272887e+00</td>\n",
       "      <td>2.224780e+00</td>\n",
       "      <td>1.239754e+01</td>\n",
       "      <td>1.083095e+00</td>\n",
       "      <td>9.638235e+00</td>\n",
       "      <td>5.268265e+00</td>\n",
       "      <td>9.860378e+01</td>\n",
       "      <td>8.276828e+01</td>\n",
       "    </tr>\n",
       "    <tr>\n",
       "      <th>std</th>\n",
       "      <td>4.757912e-01</td>\n",
       "      <td>3.632421e+00</td>\n",
       "      <td>8.130242e+00</td>\n",
       "      <td>4.998003e-01</td>\n",
       "      <td>9.908850e+00</td>\n",
       "      <td>8.069411e+00</td>\n",
       "      <td>4.663257e+01</td>\n",
       "      <td>3.595252e-01</td>\n",
       "      <td>3.396808e+01</td>\n",
       "      <td>8.118889e+00</td>\n",
       "      <td>...</td>\n",
       "      <td>5.301842e+00</td>\n",
       "      <td>5.230812e+00</td>\n",
       "      <td>5.261679e+00</td>\n",
       "      <td>5.427951e+00</td>\n",
       "      <td>3.073970e+01</td>\n",
       "      <td>2.760257e-01</td>\n",
       "      <td>2.630911e+01</td>\n",
       "      <td>1.899884e+00</td>\n",
       "      <td>6.195444e+00</td>\n",
       "      <td>3.392957e+01</td>\n",
       "    </tr>\n",
       "    <tr>\n",
       "      <th>min</th>\n",
       "      <td>1.000000e+00</td>\n",
       "      <td>1.000000e+00</td>\n",
       "      <td>1.000000e+00</td>\n",
       "      <td>1.000000e+00</td>\n",
       "      <td>1.000000e+00</td>\n",
       "      <td>1.000000e+00</td>\n",
       "      <td>1.000000e+00</td>\n",
       "      <td>1.000000e+00</td>\n",
       "      <td>1.000000e+00</td>\n",
       "      <td>1.000000e+00</td>\n",
       "      <td>...</td>\n",
       "      <td>1.000000e+00</td>\n",
       "      <td>1.000000e+00</td>\n",
       "      <td>1.000000e+00</td>\n",
       "      <td>1.000000e+00</td>\n",
       "      <td>1.000000e+00</td>\n",
       "      <td>1.000000e+00</td>\n",
       "      <td>1.000000e+00</td>\n",
       "      <td>1.000000e+00</td>\n",
       "      <td>1.000000e+00</td>\n",
       "      <td>1.000000e+00</td>\n",
       "    </tr>\n",
       "    <tr>\n",
       "      <th>25%</th>\n",
       "      <td>1.000000e+00</td>\n",
       "      <td>4.000000e+00</td>\n",
       "      <td>9.000000e+00</td>\n",
       "      <td>1.000000e+00</td>\n",
       "      <td>9.000000e+00</td>\n",
       "      <td>9.000000e+00</td>\n",
       "      <td>7.000000e+00</td>\n",
       "      <td>1.000000e+00</td>\n",
       "      <td>9.700000e+01</td>\n",
       "      <td>2.000000e+00</td>\n",
       "      <td>...</td>\n",
       "      <td>2.000000e+00</td>\n",
       "      <td>2.000000e+00</td>\n",
       "      <td>2.000000e+00</td>\n",
       "      <td>2.000000e+00</td>\n",
       "      <td>1.000000e+00</td>\n",
       "      <td>1.000000e+00</td>\n",
       "      <td>1.000000e+00</td>\n",
       "      <td>3.000000e+00</td>\n",
       "      <td>9.900000e+01</td>\n",
       "      <td>9.700000e+01</td>\n",
       "    </tr>\n",
       "    <tr>\n",
       "      <th>50%</th>\n",
       "      <td>2.000000e+00</td>\n",
       "      <td>1.200000e+01</td>\n",
       "      <td>1.400000e+01</td>\n",
       "      <td>1.000000e+00</td>\n",
       "      <td>1.500000e+01</td>\n",
       "      <td>1.400000e+01</td>\n",
       "      <td>2.000000e+01</td>\n",
       "      <td>1.000000e+00</td>\n",
       "      <td>9.700000e+01</td>\n",
       "      <td>2.000000e+00</td>\n",
       "      <td>...</td>\n",
       "      <td>2.000000e+00</td>\n",
       "      <td>2.000000e+00</td>\n",
       "      <td>2.000000e+00</td>\n",
       "      <td>2.000000e+00</td>\n",
       "      <td>2.000000e+00</td>\n",
       "      <td>1.000000e+00</td>\n",
       "      <td>2.000000e+00</td>\n",
       "      <td>6.000000e+00</td>\n",
       "      <td>9.900000e+01</td>\n",
       "      <td>9.700000e+01</td>\n",
       "    </tr>\n",
       "    <tr>\n",
       "      <th>75%</th>\n",
       "      <td>2.000000e+00</td>\n",
       "      <td>1.200000e+01</td>\n",
       "      <td>2.100000e+01</td>\n",
       "      <td>2.000000e+00</td>\n",
       "      <td>2.200000e+01</td>\n",
       "      <td>2.100000e+01</td>\n",
       "      <td>4.300000e+01</td>\n",
       "      <td>1.000000e+00</td>\n",
       "      <td>9.700000e+01</td>\n",
       "      <td>2.000000e+00</td>\n",
       "      <td>...</td>\n",
       "      <td>2.000000e+00</td>\n",
       "      <td>2.000000e+00</td>\n",
       "      <td>2.000000e+00</td>\n",
       "      <td>2.000000e+00</td>\n",
       "      <td>2.000000e+00</td>\n",
       "      <td>1.000000e+00</td>\n",
       "      <td>2.000000e+00</td>\n",
       "      <td>7.000000e+00</td>\n",
       "      <td>9.900000e+01</td>\n",
       "      <td>9.700000e+01</td>\n",
       "    </tr>\n",
       "    <tr>\n",
       "      <th>max</th>\n",
       "      <td>2.000000e+00</td>\n",
       "      <td>9.900000e+01</td>\n",
       "      <td>3.200000e+01</td>\n",
       "      <td>2.000000e+00</td>\n",
       "      <td>9.900000e+01</td>\n",
       "      <td>3.200000e+01</td>\n",
       "      <td>9.990000e+02</td>\n",
       "      <td>2.000000e+00</td>\n",
       "      <td>9.900000e+01</td>\n",
       "      <td>9.900000e+01</td>\n",
       "      <td>...</td>\n",
       "      <td>9.800000e+01</td>\n",
       "      <td>9.800000e+01</td>\n",
       "      <td>9.800000e+01</td>\n",
       "      <td>9.800000e+01</td>\n",
       "      <td>9.900000e+01</td>\n",
       "      <td>2.000000e+00</td>\n",
       "      <td>9.700000e+01</td>\n",
       "      <td>7.000000e+00</td>\n",
       "      <td>9.900000e+01</td>\n",
       "      <td>9.900000e+01</td>\n",
       "    </tr>\n",
       "  </tbody>\n",
       "</table>\n",
       "<p>8 rows × 31 columns</p>\n",
       "</div>"
      ],
      "text/plain": [
       "             ORIGEN        SECTOR    ENTIDAD_UM          SEXO   ENTIDAD_NAC  \\\n",
       "count  2.604659e+06  2.604659e+06  2.604659e+06  2.604659e+06  2.604659e+06   \n",
       "mean   1.653697e+00  9.305706e+00  1.497912e+01  1.485867e+00  1.593824e+01   \n",
       "std    4.757912e-01  3.632421e+00  8.130242e+00  4.998003e-01  9.908850e+00   \n",
       "min    1.000000e+00  1.000000e+00  1.000000e+00  1.000000e+00  1.000000e+00   \n",
       "25%    1.000000e+00  4.000000e+00  9.000000e+00  1.000000e+00  9.000000e+00   \n",
       "50%    2.000000e+00  1.200000e+01  1.400000e+01  1.000000e+00  1.500000e+01   \n",
       "75%    2.000000e+00  1.200000e+01  2.100000e+01  2.000000e+00  2.200000e+01   \n",
       "max    2.000000e+00  9.900000e+01  3.200000e+01  2.000000e+00  9.900000e+01   \n",
       "\n",
       "        ENTIDAD_RES  MUNICIPIO_RES  TIPO_PACIENTE      INTUBADO      NEUMONIA  \\\n",
       "count  2.604659e+06   2.604659e+06   2.604659e+06  2.604659e+06  2.604659e+06   \n",
       "mean   1.521911e+01   3.572881e+01   1.152521e+00  8.273965e+01  2.574456e+00   \n",
       "std    8.069411e+00   4.663257e+01   3.595252e-01  3.396808e+01  8.118889e+00   \n",
       "min    1.000000e+00   1.000000e+00   1.000000e+00  1.000000e+00  1.000000e+00   \n",
       "25%    9.000000e+00   7.000000e+00   1.000000e+00  9.700000e+01  2.000000e+00   \n",
       "50%    1.400000e+01   2.000000e+01   1.000000e+00  9.700000e+01  2.000000e+00   \n",
       "75%    2.100000e+01   4.300000e+01   1.000000e+00  9.700000e+01  2.000000e+00   \n",
       "max    3.200000e+01   9.990000e+02   2.000000e+00  9.900000e+01  9.900000e+01   \n",
       "\n",
       "       ...  CARDIOVASCULAR      OBESIDAD  RENAL_CRONICA    TABAQUISMO  \\\n",
       "count  ...    2.604659e+06  2.604659e+06   2.604659e+06  2.604659e+06   \n",
       "mean   ...    2.275956e+00  2.140302e+00   2.272887e+00  2.224780e+00   \n",
       "std    ...    5.301842e+00  5.230812e+00   5.261679e+00  5.427951e+00   \n",
       "min    ...    1.000000e+00  1.000000e+00   1.000000e+00  1.000000e+00   \n",
       "25%    ...    2.000000e+00  2.000000e+00   2.000000e+00  2.000000e+00   \n",
       "50%    ...    2.000000e+00  2.000000e+00   2.000000e+00  2.000000e+00   \n",
       "75%    ...    2.000000e+00  2.000000e+00   2.000000e+00  2.000000e+00   \n",
       "max    ...    9.800000e+01  9.800000e+01   9.800000e+01  9.800000e+01   \n",
       "\n",
       "          OTRO_CASO  TOMA_MUESTRA  RESULTADO_LAB  CLASIFICACION_FINAL  \\\n",
       "count  2.604659e+06  2.604659e+06   2.604659e+06         2.604659e+06   \n",
       "mean   1.239754e+01  1.083095e+00   9.638235e+00         5.268265e+00   \n",
       "std    3.073970e+01  2.760257e-01   2.630911e+01         1.899884e+00   \n",
       "min    1.000000e+00  1.000000e+00   1.000000e+00         1.000000e+00   \n",
       "25%    1.000000e+00  1.000000e+00   1.000000e+00         3.000000e+00   \n",
       "50%    2.000000e+00  1.000000e+00   2.000000e+00         6.000000e+00   \n",
       "75%    2.000000e+00  1.000000e+00   2.000000e+00         7.000000e+00   \n",
       "max    9.900000e+01  2.000000e+00   9.700000e+01         7.000000e+00   \n",
       "\n",
       "           MIGRANTE           UCI  \n",
       "count  2.604659e+06  2.604659e+06  \n",
       "mean   9.860378e+01  8.276828e+01  \n",
       "std    6.195444e+00  3.392957e+01  \n",
       "min    1.000000e+00  1.000000e+00  \n",
       "25%    9.900000e+01  9.700000e+01  \n",
       "50%    9.900000e+01  9.700000e+01  \n",
       "75%    9.900000e+01  9.700000e+01  \n",
       "max    9.900000e+01  9.900000e+01  \n",
       "\n",
       "[8 rows x 31 columns]"
      ]
     },
     "execution_count": 8,
     "metadata": {},
     "output_type": "execute_result"
    }
   ],
   "source": [
    "# Solo se aplica para los datos numéricos.\n",
    "df.describe()"
   ]
  },
  {
   "cell_type": "markdown",
   "id": "b3def45e-057a-4e81-a425-707f100f65cd",
   "metadata": {},
   "source": [
    "# Ejercicio 1"
   ]
  },
  {
   "cell_type": "code",
   "execution_count": 9,
   "id": "6af63da2-c8d8-42ac-9cc4-0a521553770a",
   "metadata": {},
   "outputs": [],
   "source": [
    "# 1.- Para sacar el número de positivos."
   ]
  },
  {
   "cell_type": "code",
   "execution_count": 10,
   "id": "c9a40389",
   "metadata": {},
   "outputs": [],
   "source": [
    "# CLASIFICACION_FINAL contiene los datos de los contagiadoss por COVID-19,\n",
    "# siendo los valores 1, 2 y 3 los casos confirmados.\n",
    "df_positivos = df[df[\"CLASIFICACION_FINAL\"].isin([1, 2, 3])]"
   ]
  },
  {
   "cell_type": "code",
   "execution_count": 11,
   "id": "a727aa03-499c-4b8c-b6cc-3ef47f92d337",
   "metadata": {},
   "outputs": [
    {
     "data": {
      "text/html": [
       "<div>\n",
       "<style scoped>\n",
       "    .dataframe tbody tr th:only-of-type {\n",
       "        vertical-align: middle;\n",
       "    }\n",
       "\n",
       "    .dataframe tbody tr th {\n",
       "        vertical-align: top;\n",
       "    }\n",
       "\n",
       "    .dataframe thead th {\n",
       "        text-align: right;\n",
       "    }\n",
       "</style>\n",
       "<table border=\"1\" class=\"dataframe\">\n",
       "  <thead>\n",
       "    <tr style=\"text-align: right;\">\n",
       "      <th></th>\n",
       "      <th>FECHA_ACTUALIZACION</th>\n",
       "      <th>ID_REGISTRO</th>\n",
       "      <th>ORIGEN</th>\n",
       "      <th>SECTOR</th>\n",
       "      <th>ENTIDAD_UM</th>\n",
       "      <th>SEXO</th>\n",
       "      <th>ENTIDAD_NAC</th>\n",
       "      <th>ENTIDAD_RES</th>\n",
       "      <th>MUNICIPIO_RES</th>\n",
       "      <th>TIPO_PACIENTE</th>\n",
       "      <th>...</th>\n",
       "      <th>RENAL_CRONICA</th>\n",
       "      <th>TABAQUISMO</th>\n",
       "      <th>OTRO_CASO</th>\n",
       "      <th>TOMA_MUESTRA</th>\n",
       "      <th>RESULTADO_LAB</th>\n",
       "      <th>CLASIFICACION_FINAL</th>\n",
       "      <th>MIGRANTE</th>\n",
       "      <th>PAIS_NACIONALIDAD</th>\n",
       "      <th>PAIS_ORIGEN</th>\n",
       "      <th>UCI</th>\n",
       "    </tr>\n",
       "  </thead>\n",
       "  <tbody>\n",
       "    <tr>\n",
       "      <th>0</th>\n",
       "      <td>2020-11-14</td>\n",
       "      <td>071735</td>\n",
       "      <td>2</td>\n",
       "      <td>9</td>\n",
       "      <td>21</td>\n",
       "      <td>2</td>\n",
       "      <td>21</td>\n",
       "      <td>21</td>\n",
       "      <td>114</td>\n",
       "      <td>1</td>\n",
       "      <td>...</td>\n",
       "      <td>2</td>\n",
       "      <td>2</td>\n",
       "      <td>2</td>\n",
       "      <td>1</td>\n",
       "      <td>1</td>\n",
       "      <td>3</td>\n",
       "      <td>99</td>\n",
       "      <td>MÃ©xico</td>\n",
       "      <td>97</td>\n",
       "      <td>97</td>\n",
       "    </tr>\n",
       "    <tr>\n",
       "      <th>1</th>\n",
       "      <td>2020-11-14</td>\n",
       "      <td>1468a5</td>\n",
       "      <td>1</td>\n",
       "      <td>4</td>\n",
       "      <td>5</td>\n",
       "      <td>1</td>\n",
       "      <td>15</td>\n",
       "      <td>5</td>\n",
       "      <td>18</td>\n",
       "      <td>1</td>\n",
       "      <td>...</td>\n",
       "      <td>2</td>\n",
       "      <td>2</td>\n",
       "      <td>1</td>\n",
       "      <td>1</td>\n",
       "      <td>1</td>\n",
       "      <td>3</td>\n",
       "      <td>99</td>\n",
       "      <td>MÃ©xico</td>\n",
       "      <td>97</td>\n",
       "      <td>97</td>\n",
       "    </tr>\n",
       "    <tr>\n",
       "      <th>2</th>\n",
       "      <td>2020-11-14</td>\n",
       "      <td>043f64</td>\n",
       "      <td>2</td>\n",
       "      <td>4</td>\n",
       "      <td>9</td>\n",
       "      <td>2</td>\n",
       "      <td>9</td>\n",
       "      <td>9</td>\n",
       "      <td>10</td>\n",
       "      <td>2</td>\n",
       "      <td>...</td>\n",
       "      <td>1</td>\n",
       "      <td>2</td>\n",
       "      <td>99</td>\n",
       "      <td>1</td>\n",
       "      <td>1</td>\n",
       "      <td>3</td>\n",
       "      <td>99</td>\n",
       "      <td>MÃ©xico</td>\n",
       "      <td>97</td>\n",
       "      <td>1</td>\n",
       "    </tr>\n",
       "    <tr>\n",
       "      <th>3</th>\n",
       "      <td>2020-11-14</td>\n",
       "      <td>0e07d8</td>\n",
       "      <td>1</td>\n",
       "      <td>4</td>\n",
       "      <td>15</td>\n",
       "      <td>2</td>\n",
       "      <td>15</td>\n",
       "      <td>15</td>\n",
       "      <td>104</td>\n",
       "      <td>2</td>\n",
       "      <td>...</td>\n",
       "      <td>2</td>\n",
       "      <td>2</td>\n",
       "      <td>99</td>\n",
       "      <td>1</td>\n",
       "      <td>1</td>\n",
       "      <td>3</td>\n",
       "      <td>99</td>\n",
       "      <td>MÃ©xico</td>\n",
       "      <td>97</td>\n",
       "      <td>2</td>\n",
       "    </tr>\n",
       "    <tr>\n",
       "      <th>4</th>\n",
       "      <td>2020-11-14</td>\n",
       "      <td>13757c</td>\n",
       "      <td>1</td>\n",
       "      <td>12</td>\n",
       "      <td>15</td>\n",
       "      <td>1</td>\n",
       "      <td>15</td>\n",
       "      <td>15</td>\n",
       "      <td>106</td>\n",
       "      <td>1</td>\n",
       "      <td>...</td>\n",
       "      <td>2</td>\n",
       "      <td>2</td>\n",
       "      <td>1</td>\n",
       "      <td>1</td>\n",
       "      <td>1</td>\n",
       "      <td>3</td>\n",
       "      <td>99</td>\n",
       "      <td>MÃ©xico</td>\n",
       "      <td>97</td>\n",
       "      <td>97</td>\n",
       "    </tr>\n",
       "    <tr>\n",
       "      <th>...</th>\n",
       "      <td>...</td>\n",
       "      <td>...</td>\n",
       "      <td>...</td>\n",
       "      <td>...</td>\n",
       "      <td>...</td>\n",
       "      <td>...</td>\n",
       "      <td>...</td>\n",
       "      <td>...</td>\n",
       "      <td>...</td>\n",
       "      <td>...</td>\n",
       "      <td>...</td>\n",
       "      <td>...</td>\n",
       "      <td>...</td>\n",
       "      <td>...</td>\n",
       "      <td>...</td>\n",
       "      <td>...</td>\n",
       "      <td>...</td>\n",
       "      <td>...</td>\n",
       "      <td>...</td>\n",
       "      <td>...</td>\n",
       "      <td>...</td>\n",
       "    </tr>\n",
       "    <tr>\n",
       "      <th>2604469</th>\n",
       "      <td>2020-11-14</td>\n",
       "      <td>36f81d</td>\n",
       "      <td>1</td>\n",
       "      <td>6</td>\n",
       "      <td>9</td>\n",
       "      <td>2</td>\n",
       "      <td>21</td>\n",
       "      <td>15</td>\n",
       "      <td>58</td>\n",
       "      <td>2</td>\n",
       "      <td>...</td>\n",
       "      <td>98</td>\n",
       "      <td>98</td>\n",
       "      <td>2</td>\n",
       "      <td>2</td>\n",
       "      <td>97</td>\n",
       "      <td>1</td>\n",
       "      <td>99</td>\n",
       "      <td>MÃ©xico</td>\n",
       "      <td>97</td>\n",
       "      <td>2</td>\n",
       "    </tr>\n",
       "    <tr>\n",
       "      <th>2604517</th>\n",
       "      <td>2020-11-14</td>\n",
       "      <td>2598d1</td>\n",
       "      <td>1</td>\n",
       "      <td>12</td>\n",
       "      <td>26</td>\n",
       "      <td>2</td>\n",
       "      <td>26</td>\n",
       "      <td>26</td>\n",
       "      <td>19</td>\n",
       "      <td>1</td>\n",
       "      <td>...</td>\n",
       "      <td>2</td>\n",
       "      <td>2</td>\n",
       "      <td>1</td>\n",
       "      <td>2</td>\n",
       "      <td>97</td>\n",
       "      <td>1</td>\n",
       "      <td>99</td>\n",
       "      <td>MÃ©xico</td>\n",
       "      <td>97</td>\n",
       "      <td>97</td>\n",
       "    </tr>\n",
       "    <tr>\n",
       "      <th>2604538</th>\n",
       "      <td>2020-11-14</td>\n",
       "      <td>343aea</td>\n",
       "      <td>1</td>\n",
       "      <td>6</td>\n",
       "      <td>9</td>\n",
       "      <td>1</td>\n",
       "      <td>29</td>\n",
       "      <td>15</td>\n",
       "      <td>70</td>\n",
       "      <td>2</td>\n",
       "      <td>...</td>\n",
       "      <td>2</td>\n",
       "      <td>2</td>\n",
       "      <td>2</td>\n",
       "      <td>2</td>\n",
       "      <td>97</td>\n",
       "      <td>1</td>\n",
       "      <td>99</td>\n",
       "      <td>MÃ©xico</td>\n",
       "      <td>97</td>\n",
       "      <td>2</td>\n",
       "    </tr>\n",
       "    <tr>\n",
       "      <th>2604545</th>\n",
       "      <td>2020-11-14</td>\n",
       "      <td>2cdf5c</td>\n",
       "      <td>2</td>\n",
       "      <td>10</td>\n",
       "      <td>9</td>\n",
       "      <td>2</td>\n",
       "      <td>11</td>\n",
       "      <td>15</td>\n",
       "      <td>57</td>\n",
       "      <td>2</td>\n",
       "      <td>...</td>\n",
       "      <td>2</td>\n",
       "      <td>2</td>\n",
       "      <td>2</td>\n",
       "      <td>2</td>\n",
       "      <td>97</td>\n",
       "      <td>1</td>\n",
       "      <td>99</td>\n",
       "      <td>MÃ©xico</td>\n",
       "      <td>97</td>\n",
       "      <td>2</td>\n",
       "    </tr>\n",
       "    <tr>\n",
       "      <th>2604656</th>\n",
       "      <td>2020-11-14</td>\n",
       "      <td>1ef034</td>\n",
       "      <td>2</td>\n",
       "      <td>10</td>\n",
       "      <td>9</td>\n",
       "      <td>1</td>\n",
       "      <td>13</td>\n",
       "      <td>15</td>\n",
       "      <td>58</td>\n",
       "      <td>2</td>\n",
       "      <td>...</td>\n",
       "      <td>2</td>\n",
       "      <td>2</td>\n",
       "      <td>2</td>\n",
       "      <td>2</td>\n",
       "      <td>97</td>\n",
       "      <td>1</td>\n",
       "      <td>99</td>\n",
       "      <td>MÃ©xico</td>\n",
       "      <td>97</td>\n",
       "      <td>2</td>\n",
       "    </tr>\n",
       "  </tbody>\n",
       "</table>\n",
       "<p>1003253 rows × 38 columns</p>\n",
       "</div>"
      ],
      "text/plain": [
       "        FECHA_ACTUALIZACION ID_REGISTRO  ORIGEN  SECTOR  ENTIDAD_UM  SEXO  \\\n",
       "0                2020-11-14      071735       2       9          21     2   \n",
       "1                2020-11-14      1468a5       1       4           5     1   \n",
       "2                2020-11-14      043f64       2       4           9     2   \n",
       "3                2020-11-14      0e07d8       1       4          15     2   \n",
       "4                2020-11-14      13757c       1      12          15     1   \n",
       "...                     ...         ...     ...     ...         ...   ...   \n",
       "2604469          2020-11-14      36f81d       1       6           9     2   \n",
       "2604517          2020-11-14      2598d1       1      12          26     2   \n",
       "2604538          2020-11-14      343aea       1       6           9     1   \n",
       "2604545          2020-11-14      2cdf5c       2      10           9     2   \n",
       "2604656          2020-11-14      1ef034       2      10           9     1   \n",
       "\n",
       "         ENTIDAD_NAC  ENTIDAD_RES  MUNICIPIO_RES  TIPO_PACIENTE  ...  \\\n",
       "0                 21           21            114              1  ...   \n",
       "1                 15            5             18              1  ...   \n",
       "2                  9            9             10              2  ...   \n",
       "3                 15           15            104              2  ...   \n",
       "4                 15           15            106              1  ...   \n",
       "...              ...          ...            ...            ...  ...   \n",
       "2604469           21           15             58              2  ...   \n",
       "2604517           26           26             19              1  ...   \n",
       "2604538           29           15             70              2  ...   \n",
       "2604545           11           15             57              2  ...   \n",
       "2604656           13           15             58              2  ...   \n",
       "\n",
       "        RENAL_CRONICA TABAQUISMO OTRO_CASO  TOMA_MUESTRA  RESULTADO_LAB  \\\n",
       "0                   2          2         2             1              1   \n",
       "1                   2          2         1             1              1   \n",
       "2                   1          2        99             1              1   \n",
       "3                   2          2        99             1              1   \n",
       "4                   2          2         1             1              1   \n",
       "...               ...        ...       ...           ...            ...   \n",
       "2604469            98         98         2             2             97   \n",
       "2604517             2          2         1             2             97   \n",
       "2604538             2          2         2             2             97   \n",
       "2604545             2          2         2             2             97   \n",
       "2604656             2          2         2             2             97   \n",
       "\n",
       "         CLASIFICACION_FINAL  MIGRANTE  PAIS_NACIONALIDAD  PAIS_ORIGEN  UCI  \n",
       "0                          3        99            MÃ©xico           97   97  \n",
       "1                          3        99            MÃ©xico           97   97  \n",
       "2                          3        99            MÃ©xico           97    1  \n",
       "3                          3        99            MÃ©xico           97    2  \n",
       "4                          3        99            MÃ©xico           97   97  \n",
       "...                      ...       ...                ...          ...  ...  \n",
       "2604469                    1        99            MÃ©xico           97    2  \n",
       "2604517                    1        99            MÃ©xico           97   97  \n",
       "2604538                    1        99            MÃ©xico           97    2  \n",
       "2604545                    1        99            MÃ©xico           97    2  \n",
       "2604656                    1        99            MÃ©xico           97    2  \n",
       "\n",
       "[1003253 rows x 38 columns]"
      ]
     },
     "execution_count": 11,
     "metadata": {},
     "output_type": "execute_result"
    }
   ],
   "source": [
    "df_positivos"
   ]
  },
  {
   "cell_type": "code",
   "execution_count": 12,
   "id": "abfcb1e6-d084-485f-97b3-7c8041a1517e",
   "metadata": {},
   "outputs": [
    {
     "data": {
      "text/plain": [
       "1003253"
      ]
     },
     "execution_count": 12,
     "metadata": {},
     "output_type": "execute_result"
    }
   ],
   "source": [
    "positivos = df_positivos.shape[0]\n",
    "positivos"
   ]
  },
  {
   "cell_type": "code",
   "execution_count": 13,
   "id": "00c5f314-1ce0-4819-a18b-bf3454ab113e",
   "metadata": {},
   "outputs": [],
   "source": [
    "# 2.- Para el número de defunciones."
   ]
  },
  {
   "cell_type": "code",
   "execution_count": 14,
   "id": "4f08a519",
   "metadata": {},
   "outputs": [
    {
     "data": {
      "text/plain": [
       "array(['9999-99-99', '2020-03-30', '2020-04-02', '2020-04-05',\n",
       "       '2020-03-31', '2020-03-28', '2020-04-20', '2020-04-01',\n",
       "       '2020-04-19', '2020-04-14', '2020-04-03', '2020-04-07',\n",
       "       '2020-04-29', '2020-04-18', '2020-04-06', '2020-04-10',\n",
       "       '2020-04-11', '2020-04-26', '2020-05-19', '2020-04-17',\n",
       "       '2020-04-08', '2020-03-23', '2020-03-26', '2020-03-29',\n",
       "       '2020-04-16', '2020-04-09', '2020-05-17', '2020-04-04',\n",
       "       '2020-05-01', '2020-04-12', '2020-04-22', '2020-05-08',\n",
       "       '2020-03-27', '2020-04-21', '2020-05-13', '2020-04-24',\n",
       "       '2020-04-13', '2020-05-03', '2020-05-14', '2020-05-02',\n",
       "       '2020-05-30', '2020-04-23', '2020-03-20', '2020-04-15',\n",
       "       '2020-03-22', '2020-05-05', '2020-09-11', '2020-05-07',\n",
       "       '2020-04-25', '2020-03-25', '2020-05-18', '2020-04-30',\n",
       "       '2020-04-28', '2020-03-18', '2020-05-04', '2020-03-24',\n",
       "       '2020-04-27', '2020-05-12', '2020-05-16', '2020-05-06',\n",
       "       '2020-06-12', '2020-06-02', '2020-05-10', '2020-05-20',\n",
       "       '2020-06-15', '2020-06-03', '2020-02-16', '2020-01-20',\n",
       "       '2020-01-21', '2020-01-24', '2020-03-11', '2020-01-10',\n",
       "       '2020-01-12', '2020-02-07', '2020-02-26', '2020-02-24',\n",
       "       '2020-02-09', '2020-02-08', '2020-01-23', '2020-02-06',\n",
       "       '2020-03-17', '2020-01-11', '2020-02-13', '2020-03-03',\n",
       "       '2020-03-10', '2020-02-27', '2020-02-19', '2020-02-01',\n",
       "       '2020-01-31', '2020-01-08', '2020-01-14', '2020-01-18',\n",
       "       '2020-03-09', '2020-02-14', '2020-03-06', '2020-03-05',\n",
       "       '2020-01-25', '2020-01-16', '2020-01-30', '2020-02-02',\n",
       "       '2020-02-18', '2020-03-01', '2020-01-29', '2020-01-13',\n",
       "       '2020-01-15', '2020-01-06', '2020-01-22', '2020-02-22',\n",
       "       '2020-03-13', '2020-03-16', '2020-01-28', '2020-03-07',\n",
       "       '2020-02-28', '2020-02-29', '2020-03-12', '2020-01-09',\n",
       "       '2020-03-15', '2020-05-23', '2020-05-11', '2020-05-15',\n",
       "       '2020-02-03', '2020-03-02', '2020-01-05', '2020-02-11',\n",
       "       '2020-01-07', '2020-01-19', '2020-02-17', '2020-02-21',\n",
       "       '2020-02-05', '2020-02-25', '2020-02-10', '2020-01-26',\n",
       "       '2020-02-20', '2020-03-14', '2020-02-23', '2020-02-04',\n",
       "       '2020-03-08', '2020-03-19', '2020-01-27', '2020-03-04',\n",
       "       '2020-02-15', '2020-02-12', '2020-01-17', '2020-08-06',\n",
       "       '2020-03-21', '2020-09-14', '2020-01-03', '2020-06-05',\n",
       "       '2020-06-08', '2020-01-04', '2020-08-05', '2020-05-25',\n",
       "       '2020-08-22', '2020-05-31', '2020-09-24', '2020-01-02',\n",
       "       '2020-07-05', '2020-05-26', '2020-06-30', '2020-05-21',\n",
       "       '2020-06-23', '2020-06-13', '2020-07-31', '2020-07-03',\n",
       "       '2020-06-06', '2020-06-09', '2020-06-20', '2020-06-29',\n",
       "       '2020-05-28', '2020-06-10', '2020-06-07', '2020-07-09',\n",
       "       '2020-06-26', '2020-07-06', '2020-05-22', '2020-06-14',\n",
       "       '2020-06-21', '2020-05-09', '2020-07-08', '2020-06-17',\n",
       "       '2020-06-28', '2020-07-14', '2020-07-07', '2020-07-16',\n",
       "       '2020-07-23', '2020-07-02', '2020-07-04', '2020-06-27',\n",
       "       '2020-07-01', '2020-07-17', '2020-07-13', '2020-06-19',\n",
       "       '2020-06-25', '2020-06-24', '2020-06-11', '2020-07-12',\n",
       "       '2020-07-27', '2020-06-16', '2020-07-18', '2020-07-22',\n",
       "       '2020-07-10', '2020-05-27', '2020-07-29', '2020-06-18',\n",
       "       '2020-07-15', '2020-07-19', '2020-05-29', '2020-06-01',\n",
       "       '2020-06-22', '2020-05-24', '2020-06-04', '2020-07-25',\n",
       "       '2020-07-20', '2020-08-02', '2020-08-01', '2020-07-11',\n",
       "       '2020-07-21', '2020-09-03', '2020-08-08', '2020-07-30',\n",
       "       '2020-07-28', '2020-08-20', '2020-08-14', '2020-08-12',\n",
       "       '2020-07-26', '2020-07-24', '2020-08-03', '2020-08-25',\n",
       "       '2020-08-11', '2020-08-07', '2020-09-02', '2020-08-04',\n",
       "       '2020-08-13', '2020-08-09', '2020-08-26', '2020-08-15',\n",
       "       '2020-08-18', '2020-08-19', '2020-08-27', '2020-10-13',\n",
       "       '2020-08-10', '2020-09-19', '2020-08-23', '2020-09-16',\n",
       "       '2020-09-20', '2020-08-17', '2020-09-28', '2020-09-05',\n",
       "       '2020-09-21', '2020-08-29', '2020-10-22', '2020-09-01',\n",
       "       '2020-08-31', '2020-09-18', '2020-08-24', '2020-08-28',\n",
       "       '2020-09-29', '2020-08-21', '2020-08-30', '2020-09-08',\n",
       "       '2020-08-16', '2020-09-27', '2020-09-17', '2020-09-04',\n",
       "       '2020-10-11', '2020-09-22', '2020-09-07', '2020-10-09',\n",
       "       '2020-09-23', '2020-09-06', '2020-10-12', '2020-11-09',\n",
       "       '2020-09-09', '2020-09-13', '2020-10-18', '2020-11-04',\n",
       "       '2020-10-05', '2020-10-20', '2020-11-08', '2020-09-12',\n",
       "       '2020-11-06', '2020-10-26', '2020-09-10', '2020-10-03',\n",
       "       '2020-10-06', '2020-10-08', '2020-09-30', '2020-10-15',\n",
       "       '2020-09-25', '2020-10-29', '2020-10-02', '2020-09-26',\n",
       "       '2020-10-07', '2020-10-10', '2020-09-15', '2020-10-04',\n",
       "       '2020-10-01', '2020-10-21', '2020-10-28', '2020-10-23',\n",
       "       '2020-10-19', '2020-10-25', '2020-11-02', '2020-10-16',\n",
       "       '2020-10-24', '2020-10-17', '2020-10-14', '2020-10-30',\n",
       "       '2020-11-03', '2020-11-10', '2020-11-11', '2020-11-01',\n",
       "       '2020-10-31', '2020-10-27', '2020-11-05', '2020-11-07',\n",
       "       '2020-11-12', '2020-11-13', '2020-11-14'], dtype=object)"
      ]
     },
     "execution_count": 14,
     "metadata": {},
     "output_type": "execute_result"
    }
   ],
   "source": [
    "# La variable FECHA_DEF contiene las fechas de las muertes.\n",
    "# Con .unique se sacan los posibles valores únicos de la variable, y\n",
    "# se ve que hay varias fechas, y un valor 999-99-99, por el que\n",
    "# se puede deducir que ese paciente no ha fallecido.\n",
    "df[\"FECHA_DEF\"].unique()"
   ]
  },
  {
   "cell_type": "code",
   "execution_count": 15,
   "id": "2760d493-af90-43b4-b971-fa1bd98c16d2",
   "metadata": {},
   "outputs": [],
   "source": [
    "df_defunciones = df[df[\"FECHA_DEF\"] != '9999-99-99']"
   ]
  },
  {
   "cell_type": "code",
   "execution_count": 16,
   "id": "7c0d8d10-3595-440b-baef-dacb1141c845",
   "metadata": {},
   "outputs": [
    {
     "data": {
      "text/html": [
       "<div>\n",
       "<style scoped>\n",
       "    .dataframe tbody tr th:only-of-type {\n",
       "        vertical-align: middle;\n",
       "    }\n",
       "\n",
       "    .dataframe tbody tr th {\n",
       "        vertical-align: top;\n",
       "    }\n",
       "\n",
       "    .dataframe thead th {\n",
       "        text-align: right;\n",
       "    }\n",
       "</style>\n",
       "<table border=\"1\" class=\"dataframe\">\n",
       "  <thead>\n",
       "    <tr style=\"text-align: right;\">\n",
       "      <th></th>\n",
       "      <th>FECHA_ACTUALIZACION</th>\n",
       "      <th>ID_REGISTRO</th>\n",
       "      <th>ORIGEN</th>\n",
       "      <th>SECTOR</th>\n",
       "      <th>ENTIDAD_UM</th>\n",
       "      <th>SEXO</th>\n",
       "      <th>ENTIDAD_NAC</th>\n",
       "      <th>ENTIDAD_RES</th>\n",
       "      <th>MUNICIPIO_RES</th>\n",
       "      <th>TIPO_PACIENTE</th>\n",
       "      <th>...</th>\n",
       "      <th>RENAL_CRONICA</th>\n",
       "      <th>TABAQUISMO</th>\n",
       "      <th>OTRO_CASO</th>\n",
       "      <th>TOMA_MUESTRA</th>\n",
       "      <th>RESULTADO_LAB</th>\n",
       "      <th>CLASIFICACION_FINAL</th>\n",
       "      <th>MIGRANTE</th>\n",
       "      <th>PAIS_NACIONALIDAD</th>\n",
       "      <th>PAIS_ORIGEN</th>\n",
       "      <th>UCI</th>\n",
       "    </tr>\n",
       "  </thead>\n",
       "  <tbody>\n",
       "    <tr>\n",
       "      <th>2</th>\n",
       "      <td>2020-11-14</td>\n",
       "      <td>043f64</td>\n",
       "      <td>2</td>\n",
       "      <td>4</td>\n",
       "      <td>9</td>\n",
       "      <td>2</td>\n",
       "      <td>9</td>\n",
       "      <td>9</td>\n",
       "      <td>10</td>\n",
       "      <td>2</td>\n",
       "      <td>...</td>\n",
       "      <td>1</td>\n",
       "      <td>2</td>\n",
       "      <td>99</td>\n",
       "      <td>1</td>\n",
       "      <td>1</td>\n",
       "      <td>3</td>\n",
       "      <td>99</td>\n",
       "      <td>MÃ©xico</td>\n",
       "      <td>97</td>\n",
       "      <td>1</td>\n",
       "    </tr>\n",
       "    <tr>\n",
       "      <th>3</th>\n",
       "      <td>2020-11-14</td>\n",
       "      <td>0e07d8</td>\n",
       "      <td>1</td>\n",
       "      <td>4</td>\n",
       "      <td>15</td>\n",
       "      <td>2</td>\n",
       "      <td>15</td>\n",
       "      <td>15</td>\n",
       "      <td>104</td>\n",
       "      <td>2</td>\n",
       "      <td>...</td>\n",
       "      <td>2</td>\n",
       "      <td>2</td>\n",
       "      <td>99</td>\n",
       "      <td>1</td>\n",
       "      <td>1</td>\n",
       "      <td>3</td>\n",
       "      <td>99</td>\n",
       "      <td>MÃ©xico</td>\n",
       "      <td>97</td>\n",
       "      <td>2</td>\n",
       "    </tr>\n",
       "    <tr>\n",
       "      <th>6</th>\n",
       "      <td>2020-11-14</td>\n",
       "      <td>11fb00</td>\n",
       "      <td>1</td>\n",
       "      <td>12</td>\n",
       "      <td>9</td>\n",
       "      <td>2</td>\n",
       "      <td>9</td>\n",
       "      <td>9</td>\n",
       "      <td>15</td>\n",
       "      <td>1</td>\n",
       "      <td>...</td>\n",
       "      <td>2</td>\n",
       "      <td>2</td>\n",
       "      <td>1</td>\n",
       "      <td>1</td>\n",
       "      <td>1</td>\n",
       "      <td>3</td>\n",
       "      <td>99</td>\n",
       "      <td>MÃ©xico</td>\n",
       "      <td>97</td>\n",
       "      <td>97</td>\n",
       "    </tr>\n",
       "    <tr>\n",
       "      <th>9</th>\n",
       "      <td>2020-11-14</td>\n",
       "      <td>1a1f12</td>\n",
       "      <td>2</td>\n",
       "      <td>4</td>\n",
       "      <td>14</td>\n",
       "      <td>2</td>\n",
       "      <td>9</td>\n",
       "      <td>14</td>\n",
       "      <td>67</td>\n",
       "      <td>2</td>\n",
       "      <td>...</td>\n",
       "      <td>2</td>\n",
       "      <td>2</td>\n",
       "      <td>2</td>\n",
       "      <td>1</td>\n",
       "      <td>1</td>\n",
       "      <td>3</td>\n",
       "      <td>99</td>\n",
       "      <td>MÃ©xico</td>\n",
       "      <td>97</td>\n",
       "      <td>2</td>\n",
       "    </tr>\n",
       "    <tr>\n",
       "      <th>17</th>\n",
       "      <td>2020-11-14</td>\n",
       "      <td>0e7853</td>\n",
       "      <td>1</td>\n",
       "      <td>13</td>\n",
       "      <td>21</td>\n",
       "      <td>1</td>\n",
       "      <td>21</td>\n",
       "      <td>21</td>\n",
       "      <td>85</td>\n",
       "      <td>2</td>\n",
       "      <td>...</td>\n",
       "      <td>2</td>\n",
       "      <td>2</td>\n",
       "      <td>2</td>\n",
       "      <td>1</td>\n",
       "      <td>1</td>\n",
       "      <td>3</td>\n",
       "      <td>99</td>\n",
       "      <td>MÃ©xico</td>\n",
       "      <td>97</td>\n",
       "      <td>2</td>\n",
       "    </tr>\n",
       "    <tr>\n",
       "      <th>...</th>\n",
       "      <td>...</td>\n",
       "      <td>...</td>\n",
       "      <td>...</td>\n",
       "      <td>...</td>\n",
       "      <td>...</td>\n",
       "      <td>...</td>\n",
       "      <td>...</td>\n",
       "      <td>...</td>\n",
       "      <td>...</td>\n",
       "      <td>...</td>\n",
       "      <td>...</td>\n",
       "      <td>...</td>\n",
       "      <td>...</td>\n",
       "      <td>...</td>\n",
       "      <td>...</td>\n",
       "      <td>...</td>\n",
       "      <td>...</td>\n",
       "      <td>...</td>\n",
       "      <td>...</td>\n",
       "      <td>...</td>\n",
       "      <td>...</td>\n",
       "    </tr>\n",
       "    <tr>\n",
       "      <th>2604249</th>\n",
       "      <td>2020-11-14</td>\n",
       "      <td>251d95</td>\n",
       "      <td>2</td>\n",
       "      <td>10</td>\n",
       "      <td>9</td>\n",
       "      <td>2</td>\n",
       "      <td>16</td>\n",
       "      <td>15</td>\n",
       "      <td>57</td>\n",
       "      <td>2</td>\n",
       "      <td>...</td>\n",
       "      <td>2</td>\n",
       "      <td>2</td>\n",
       "      <td>2</td>\n",
       "      <td>2</td>\n",
       "      <td>97</td>\n",
       "      <td>1</td>\n",
       "      <td>99</td>\n",
       "      <td>MÃ©xico</td>\n",
       "      <td>97</td>\n",
       "      <td>2</td>\n",
       "    </tr>\n",
       "    <tr>\n",
       "      <th>2604287</th>\n",
       "      <td>2020-11-14</td>\n",
       "      <td>247a55</td>\n",
       "      <td>1</td>\n",
       "      <td>4</td>\n",
       "      <td>16</td>\n",
       "      <td>1</td>\n",
       "      <td>16</td>\n",
       "      <td>16</td>\n",
       "      <td>52</td>\n",
       "      <td>2</td>\n",
       "      <td>...</td>\n",
       "      <td>2</td>\n",
       "      <td>2</td>\n",
       "      <td>2</td>\n",
       "      <td>1</td>\n",
       "      <td>4</td>\n",
       "      <td>6</td>\n",
       "      <td>99</td>\n",
       "      <td>MÃ©xico</td>\n",
       "      <td>97</td>\n",
       "      <td>2</td>\n",
       "    </tr>\n",
       "    <tr>\n",
       "      <th>2604459</th>\n",
       "      <td>2020-11-14</td>\n",
       "      <td>244ac5</td>\n",
       "      <td>2</td>\n",
       "      <td>10</td>\n",
       "      <td>9</td>\n",
       "      <td>2</td>\n",
       "      <td>15</td>\n",
       "      <td>15</td>\n",
       "      <td>15</td>\n",
       "      <td>2</td>\n",
       "      <td>...</td>\n",
       "      <td>2</td>\n",
       "      <td>2</td>\n",
       "      <td>2</td>\n",
       "      <td>2</td>\n",
       "      <td>97</td>\n",
       "      <td>1</td>\n",
       "      <td>99</td>\n",
       "      <td>MÃ©xico</td>\n",
       "      <td>97</td>\n",
       "      <td>2</td>\n",
       "    </tr>\n",
       "    <tr>\n",
       "      <th>2604469</th>\n",
       "      <td>2020-11-14</td>\n",
       "      <td>36f81d</td>\n",
       "      <td>1</td>\n",
       "      <td>6</td>\n",
       "      <td>9</td>\n",
       "      <td>2</td>\n",
       "      <td>21</td>\n",
       "      <td>15</td>\n",
       "      <td>58</td>\n",
       "      <td>2</td>\n",
       "      <td>...</td>\n",
       "      <td>98</td>\n",
       "      <td>98</td>\n",
       "      <td>2</td>\n",
       "      <td>2</td>\n",
       "      <td>97</td>\n",
       "      <td>1</td>\n",
       "      <td>99</td>\n",
       "      <td>MÃ©xico</td>\n",
       "      <td>97</td>\n",
       "      <td>2</td>\n",
       "    </tr>\n",
       "    <tr>\n",
       "      <th>2604538</th>\n",
       "      <td>2020-11-14</td>\n",
       "      <td>343aea</td>\n",
       "      <td>1</td>\n",
       "      <td>6</td>\n",
       "      <td>9</td>\n",
       "      <td>1</td>\n",
       "      <td>29</td>\n",
       "      <td>15</td>\n",
       "      <td>70</td>\n",
       "      <td>2</td>\n",
       "      <td>...</td>\n",
       "      <td>2</td>\n",
       "      <td>2</td>\n",
       "      <td>2</td>\n",
       "      <td>2</td>\n",
       "      <td>97</td>\n",
       "      <td>1</td>\n",
       "      <td>99</td>\n",
       "      <td>MÃ©xico</td>\n",
       "      <td>97</td>\n",
       "      <td>2</td>\n",
       "    </tr>\n",
       "  </tbody>\n",
       "</table>\n",
       "<p>139396 rows × 38 columns</p>\n",
       "</div>"
      ],
      "text/plain": [
       "        FECHA_ACTUALIZACION ID_REGISTRO  ORIGEN  SECTOR  ENTIDAD_UM  SEXO  \\\n",
       "2                2020-11-14      043f64       2       4           9     2   \n",
       "3                2020-11-14      0e07d8       1       4          15     2   \n",
       "6                2020-11-14      11fb00       1      12           9     2   \n",
       "9                2020-11-14      1a1f12       2       4          14     2   \n",
       "17               2020-11-14      0e7853       1      13          21     1   \n",
       "...                     ...         ...     ...     ...         ...   ...   \n",
       "2604249          2020-11-14      251d95       2      10           9     2   \n",
       "2604287          2020-11-14      247a55       1       4          16     1   \n",
       "2604459          2020-11-14      244ac5       2      10           9     2   \n",
       "2604469          2020-11-14      36f81d       1       6           9     2   \n",
       "2604538          2020-11-14      343aea       1       6           9     1   \n",
       "\n",
       "         ENTIDAD_NAC  ENTIDAD_RES  MUNICIPIO_RES  TIPO_PACIENTE  ...  \\\n",
       "2                  9            9             10              2  ...   \n",
       "3                 15           15            104              2  ...   \n",
       "6                  9            9             15              1  ...   \n",
       "9                  9           14             67              2  ...   \n",
       "17                21           21             85              2  ...   \n",
       "...              ...          ...            ...            ...  ...   \n",
       "2604249           16           15             57              2  ...   \n",
       "2604287           16           16             52              2  ...   \n",
       "2604459           15           15             15              2  ...   \n",
       "2604469           21           15             58              2  ...   \n",
       "2604538           29           15             70              2  ...   \n",
       "\n",
       "        RENAL_CRONICA TABAQUISMO OTRO_CASO  TOMA_MUESTRA  RESULTADO_LAB  \\\n",
       "2                   1          2        99             1              1   \n",
       "3                   2          2        99             1              1   \n",
       "6                   2          2         1             1              1   \n",
       "9                   2          2         2             1              1   \n",
       "17                  2          2         2             1              1   \n",
       "...               ...        ...       ...           ...            ...   \n",
       "2604249             2          2         2             2             97   \n",
       "2604287             2          2         2             1              4   \n",
       "2604459             2          2         2             2             97   \n",
       "2604469            98         98         2             2             97   \n",
       "2604538             2          2         2             2             97   \n",
       "\n",
       "         CLASIFICACION_FINAL  MIGRANTE  PAIS_NACIONALIDAD  PAIS_ORIGEN  UCI  \n",
       "2                          3        99            MÃ©xico           97    1  \n",
       "3                          3        99            MÃ©xico           97    2  \n",
       "6                          3        99            MÃ©xico           97   97  \n",
       "9                          3        99            MÃ©xico           97    2  \n",
       "17                         3        99            MÃ©xico           97    2  \n",
       "...                      ...       ...                ...          ...  ...  \n",
       "2604249                    1        99            MÃ©xico           97    2  \n",
       "2604287                    6        99            MÃ©xico           97    2  \n",
       "2604459                    1        99            MÃ©xico           97    2  \n",
       "2604469                    1        99            MÃ©xico           97    2  \n",
       "2604538                    1        99            MÃ©xico           97    2  \n",
       "\n",
       "[139396 rows x 38 columns]"
      ]
     },
     "execution_count": 16,
     "metadata": {},
     "output_type": "execute_result"
    }
   ],
   "source": [
    "df_defunciones"
   ]
  },
  {
   "cell_type": "code",
   "execution_count": 17,
   "id": "c95a9493-2596-4250-aabd-4c9d4f381c82",
   "metadata": {},
   "outputs": [
    {
     "data": {
      "text/plain": [
       "139396"
      ]
     },
     "execution_count": 17,
     "metadata": {},
     "output_type": "execute_result"
    }
   ],
   "source": [
    "defunciones = df_defunciones.shape[0]\n",
    "defunciones"
   ]
  },
  {
   "cell_type": "code",
   "execution_count": 18,
   "id": "981e7fac",
   "metadata": {},
   "outputs": [],
   "source": [
    "# 3.- Para el número de positivos por estado."
   ]
  },
  {
   "cell_type": "code",
   "execution_count": 19,
   "id": "0f8f2488-8b8c-4ee6-ae90-205e34c91de9",
   "metadata": {},
   "outputs": [
    {
     "data": {
      "text/plain": [
       "ENTIDAD_UM\n",
       "1      11280\n",
       "2      24285\n",
       "3      13456\n",
       "4       6799\n",
       "5      37327\n",
       "6       7025\n",
       "7       7236\n",
       "8      24791\n",
       "9     213432\n",
       "10     17553\n",
       "11     53961\n",
       "12     22468\n",
       "13     16531\n",
       "14     37323\n",
       "15     71267\n",
       "16     26637\n",
       "17      6894\n",
       "18      6841\n",
       "19     60247\n",
       "20     22587\n",
       "21     38740\n",
       "22     17500\n",
       "23     13753\n",
       "24     31587\n",
       "25     22954\n",
       "26     40427\n",
       "27     35847\n",
       "28     33488\n",
       "29      7581\n",
       "30     37455\n",
       "31     22689\n",
       "32     13292\n",
       "dtype: int64"
      ]
     },
     "execution_count": 19,
     "metadata": {},
     "output_type": "execute_result"
    }
   ],
   "source": [
    "# La variable ENTIDAD_UM contiene el Estado en el que el\n",
    "# paciente fue atendido. Cada número a la izquierda corresponde\n",
    "# a un Estado.\n",
    "df_positivos.groupby([\"ENTIDAD_UM\"]).size()"
   ]
  },
  {
   "cell_type": "code",
   "execution_count": 20,
   "id": "0eeacf87",
   "metadata": {},
   "outputs": [],
   "source": [
    "# 4.- Para sacar los nombres de los 3 estados con mayor número de positivos."
   ]
  },
  {
   "cell_type": "code",
   "execution_count": 21,
   "id": "d8be94a2-526c-44ff-8b60-a9147ceb677a",
   "metadata": {},
   "outputs": [
    {
     "data": {
      "text/plain": [
       "ENTIDAD_UM\n",
       "9     213432\n",
       "15     71267\n",
       "19     60247\n",
       "dtype: int64"
      ]
     },
     "execution_count": 21,
     "metadata": {},
     "output_type": "execute_result"
    }
   ],
   "source": [
    "# El Estado 9 = Ciudad de México, el Estado 15 = México , y el\n",
    "# Estado 19 = Nuevo León; son, respectivamente, los que acumulan un mayor número de positivos.\n",
    "df_positivos.groupby([\"ENTIDAD_UM\"]).size().sort_values(ascending = False).head(3)"
   ]
  },
  {
   "cell_type": "code",
   "execution_count": 22,
   "id": "03df61e1",
   "metadata": {},
   "outputs": [],
   "source": [
    "# 5.- Para obtener la edad promedio de los positivos."
   ]
  },
  {
   "cell_type": "code",
   "execution_count": 23,
   "id": "6b6eea35-a94a-4fc3-a4bf-d84213e5978b",
   "metadata": {},
   "outputs": [
    {
     "data": {
      "text/plain": [
       "44.32"
      ]
     },
     "execution_count": 23,
     "metadata": {},
     "output_type": "execute_result"
    }
   ],
   "source": [
    "media_edad_positivos = df_positivos[\"EDAD\"].mean()\n",
    "round(media_edad_positivos, 2)"
   ]
  },
  {
   "cell_type": "code",
   "execution_count": 24,
   "id": "a5b9e32a",
   "metadata": {},
   "outputs": [],
   "source": [
    "# 6.- Para averiguar la edad promedio de los fallecidos."
   ]
  },
  {
   "cell_type": "code",
   "execution_count": 25,
   "id": "8a5504c4-3be3-4961-9b4a-d64fe897d7e0",
   "metadata": {},
   "outputs": [
    {
     "data": {
      "text/plain": [
       "62.27"
      ]
     },
     "execution_count": 25,
     "metadata": {},
     "output_type": "execute_result"
    }
   ],
   "source": [
    "media_edad_fallecidos = df_defunciones[\"EDAD\"].mean()\n",
    "round(media_edad_fallecidos, 2)"
   ]
  },
  {
   "cell_type": "code",
   "execution_count": 26,
   "id": "b2e18dbf",
   "metadata": {},
   "outputs": [],
   "source": [
    "# 7.- Para sacar el tiempo entre la columna `FECHA_SINTOMA` y\n",
    "# la columna `FECHA_DEF`, para los fallecidos."
   ]
  },
  {
   "cell_type": "code",
   "execution_count": 27,
   "id": "ccf8a444-a1e3-4b96-845b-38754566a5d2",
   "metadata": {},
   "outputs": [],
   "source": [
    "# Este apartado lo dejé para el final, por ser la parte más difícil,\n",
    "# pero al final no he tenido tiempo de hacerlo."
   ]
  },
  {
   "cell_type": "code",
   "execution_count": 28,
   "id": "bf4ca951",
   "metadata": {},
   "outputs": [],
   "source": [
    "# 8.- Para averiguar cuál es la enfermedad con mayor prevalencia en los positivos."
   ]
  },
  {
   "cell_type": "code",
   "execution_count": 29,
   "id": "cc115e0d-eec4-4e9b-b22d-4e15553592b3",
   "metadata": {},
   "outputs": [
    {
     "name": "stdout",
     "output_type": "stream",
     "text": [
      "Neumonía: 168986\n",
      "Diabetes: 147867\n",
      "Epoc: 13464\n",
      "Asma: 25135\n",
      "Inmunosupresión: 10230\n",
      "Hipertensión: 188107\n",
      "Enfermedad Cardiovascular: 18672\n",
      "Enfermedad Renal crónica: 17989\n",
      "Otras enfermedades: 22737\n"
     ]
    }
   ],
   "source": [
    "# Para este apartado y para el siguiente no se tendrán en cuenta como\n",
    "# enfermedades el tabaquismo ni la obesidad. Se sabe que el valor 1 indica\n",
    "# que el paciente tiene la enfermedad.\n",
    "print(\"Neumonía:\", df_positivos[df_positivos[\"NEUMONIA\"] == 1].shape[0])\n",
    "print(\"Diabetes:\", df_positivos[df_positivos[\"DIABETES\"] == 1].shape[0])\n",
    "print(\"Epoc:\", df_positivos[df_positivos[\"EPOC\"] == 1].shape[0])\n",
    "print(\"Asma:\", df_positivos[df_positivos[\"ASMA\"] == 1].shape[0])\n",
    "print(\"Inmunosupresión:\", df_positivos[df_positivos[\"INMUSUPR\"] == 1].shape[0])\n",
    "print(\"Hipertensión:\", df_positivos[df_positivos[\"HIPERTENSION\"] == 1].shape[0])\n",
    "print(\"Enfermedad Cardiovascular:\", df_positivos[df_positivos[\"CARDIOVASCULAR\"] == 1].shape[0])\n",
    "print(\"Enfermedad Renal crónica:\", df_positivos[df_positivos[\"RENAL_CRONICA\"] == 1].shape[0])\n",
    "print(\"Otras enfermedades:\", df_positivos[df_positivos[\"OTRA_COM\"] == 1].shape[0])"
   ]
  },
  {
   "cell_type": "code",
   "execution_count": 30,
   "id": "d8ebf79c-9203-4035-94bb-60ffc4a61982",
   "metadata": {},
   "outputs": [],
   "source": [
    "# Se observa que la enfermedad con mayor prevalencia en positivos es\n",
    "# la hipertensión, con 188.107 casos positivos."
   ]
  },
  {
   "cell_type": "code",
   "execution_count": 31,
   "id": "65b86f14-722f-4893-833d-1345477a1b61",
   "metadata": {},
   "outputs": [],
   "source": [
    "# 9.- Para averiguar cuál es la enfermedad con mayor prevalencia en fallecidos."
   ]
  },
  {
   "cell_type": "code",
   "execution_count": 32,
   "id": "7ce7bdc3-ba6d-4b45-b0c0-888d637b5f90",
   "metadata": {},
   "outputs": [
    {
     "name": "stdout",
     "output_type": "stream",
     "text": [
      "Neumonía: 96732\n",
      "Diabetes: 53143\n",
      "Epoc: 7302\n",
      "Asma: 2625\n",
      "Inmunosupresión: 4368\n",
      "Hipertensión: 61973\n",
      "Enfermedad Cardiovascular: 8183\n",
      "Enfermedad Renal crónica: 11508\n",
      "Otras enfermedades: 8823\n"
     ]
    }
   ],
   "source": [
    "print(\"Neumonía:\", df_defunciones[df_defunciones[\"NEUMONIA\"] == 1].shape[0])\n",
    "print(\"Diabetes:\", df_defunciones[df_defunciones[\"DIABETES\"] == 1].shape[0])\n",
    "print(\"Epoc:\", df_defunciones[df_defunciones[\"EPOC\"] == 1].shape[0])\n",
    "print(\"Asma:\", df_defunciones[df_defunciones[\"ASMA\"] == 1].shape[0])\n",
    "print(\"Inmunosupresión:\", df_defunciones[df_defunciones[\"INMUSUPR\"] == 1].shape[0])\n",
    "print(\"Hipertensión:\", df_defunciones[df_defunciones[\"HIPERTENSION\"] == 1].shape[0])\n",
    "print(\"Enfermedad Cardiovascular:\", df_defunciones[df_defunciones[\"CARDIOVASCULAR\"] == 1].shape[0])\n",
    "print(\"Enfermedad Renal crónica:\", df_defunciones[df_defunciones[\"RENAL_CRONICA\"] == 1].shape[0])\n",
    "print(\"Otras enfermedades:\", df_defunciones[df_defunciones[\"OTRA_COM\"] == 1].shape[0])"
   ]
  },
  {
   "cell_type": "code",
   "execution_count": 33,
   "id": "d4825055-db69-4af9-aa4e-57e08ac04914",
   "metadata": {},
   "outputs": [],
   "source": [
    "# Se observa que la enfermedad con mayor prevalencia en fallecidos es\n",
    "# la neumonía, con 96.732 personas fallecidas que la padecían."
   ]
  },
  {
   "cell_type": "code",
   "execution_count": 34,
   "id": "c1a0d277-c4a5-435e-93cd-b6c81288efb3",
   "metadata": {},
   "outputs": [],
   "source": [
    "# 10.- En los dos últimos casos, ¿es la misma enfermedad?\n",
    "# No, para los positivos es la hiperensión, y para las\n",
    "# defunciones la neumonía."
   ]
  },
  {
   "cell_type": "markdown",
   "id": "bae14f8a-0680-4c2a-ae97-1297b0064f44",
   "metadata": {},
   "source": [
    "# ¿Que otra información podrias extraer del dataset?"
   ]
  },
  {
   "cell_type": "code",
   "execution_count": 35,
   "id": "ff3420e9-c34a-4b1e-bcf2-ce8452c0e3bc",
   "metadata": {},
   "outputs": [
    {
     "name": "stdout",
     "output_type": "stream",
     "text": [
      "Positivos: 1003253\n",
      "Fallecidos: 139396\n",
      "Letalidad COVID-19: 0.14\n"
     ]
    }
   ],
   "source": [
    "# De los positivos, ¿cuántos fallecieron? La respuesta es\n",
    "# que un 14 % de los contagiados, fallecieron.\n",
    "\n",
    "print(\"Positivos:\", positivos)\n",
    "print(\"Fallecidos:\", defunciones)\n",
    "letalidad_coronavirus = round(defunciones / positivos, 2)\n",
    "print(\"Letalidad COVID-19:\", letalidad_coronavirus)"
   ]
  },
  {
   "cell_type": "code",
   "execution_count": 36,
   "id": "6462efbc-13db-4370-a140-ef043e0415cb",
   "metadata": {},
   "outputs": [
    {
     "name": "stdout",
     "output_type": "stream",
     "text": [
      "Ingresados en UCI Totales: 32632\n",
      "Ingresados en UCI Fallecidos: 13933\n",
      "Letalidad COVID-19 para pacientes en UCIs: 0.43\n"
     ]
    }
   ],
   "source": [
    "# De los que ingresaron en una UCI, ¿cuántos murieron?\n",
    "# En la variable UCI, el 1 indica que el paciente ingresó en la UCI.\n",
    "# La letalidad aumenta mucho cuando el paciente requiere atención en una\n",
    "# Unidad de Cuidados Intensivos (de un 14 % a un 43 %).\n",
    "\n",
    "ingresados_UCI = df[df[\"UCI\"] == 1].shape[0]\n",
    "ingresados_UCI_fallecidos = df_defunciones[df_defunciones[\"UCI\"] == 1].shape[0]\n",
    "print(\"Ingresados en UCI Totales:\", ingresados_UCI)\n",
    "print(\"Ingresados en UCI Fallecidos:\", ingresados_UCI_fallecidos)\n",
    "mortalidad_UCIs = round(ingresados_UCI_fallecidos / ingresados_UCI, 2)\n",
    "print(\"Letalidad COVID-19 para pacientes en UCIs:\", mortalidad_UCIs)"
   ]
  },
  {
   "cell_type": "code",
   "execution_count": 37,
   "id": "aa11f6f6-46d4-4c1e-aad1-dd65b048a4cf",
   "metadata": {},
   "outputs": [
    {
     "name": "stdout",
     "output_type": "stream",
     "text": [
      "Mujeres: 1339140\n",
      "Hombres: 1265519\n",
      "Total: 2604659\n"
     ]
    }
   ],
   "source": [
    "# Evaluar si el sexo influye en el contagio y en la mortalidad. En la\n",
    "# variable SEXO, el 1 indica \"mujer\" y el 2 indica \"hombre\" Se observa\n",
    "# que hay un número ligeramente mayor de mujeres que de hombres, aunque\n",
    "# las clases estarían muy balanceadas, lo que no debería afectar al análisis posterior.\n",
    "mujeres = df[df[\"SEXO\"] == 1].shape[0]\n",
    "hombres = df[df[\"SEXO\"] == 2].shape[0]\n",
    "total = df.shape[0]\n",
    "print(\"Mujeres:\", mujeres)\n",
    "print(\"Hombres:\", hombres)\n",
    "print(\"Total:\", total)"
   ]
  },
  {
   "cell_type": "code",
   "execution_count": 38,
   "id": "43c626a1-4c20-483c-bbdf-d5c27b5c570a",
   "metadata": {},
   "outputs": [
    {
     "name": "stdout",
     "output_type": "stream",
     "text": [
      "Mujeres con COVID-19: 490532\n",
      "Hombres con COVID-19: 512721\n",
      "Personas con COVID-19: 1003253\n"
     ]
    }
   ],
   "source": [
    "# Positivos en hombres y en mujeres. Ahora se observa una pequeña\n",
    "# diferencia a favor de los hombres en los contagios, pero no parece de\n",
    "# importancia, observándose un balanceo similar al anterior. \n",
    "mujeres_contagiadas = df_positivos[df_positivos[\"SEXO\"] == 1].shape[0]\n",
    "hombres_contagiados = df_positivos[df_positivos[\"SEXO\"] == 2].shape[0]\n",
    "total_contagiados = df_positivos.shape[0]\n",
    "print(\"Mujeres con COVID-19:\", mujeres_contagiadas)\n",
    "print(\"Hombres con COVID-19:\", hombres_contagiados)\n",
    "print(\"Personas con COVID-19:\", total_contagiados)"
   ]
  },
  {
   "cell_type": "code",
   "execution_count": 39,
   "id": "e55c0397-bac4-48cb-8838-36524a04d419",
   "metadata": {},
   "outputs": [
    {
     "name": "stdout",
     "output_type": "stream",
     "text": [
      "Mujeres fallecidas: 51342\n",
      "Hombres fallecidos: 88054\n",
      "Personas fallecidas: 139396\n"
     ]
    }
   ],
   "source": [
    "# Fallecidos en función del sexo del paciente.\n",
    "mujeres_fallecidas = df_defunciones[df_defunciones[\"SEXO\"] == 1].shape[0]\n",
    "hombres_fallecidos = df_defunciones[df_defunciones[\"SEXO\"] == 2].shape[0]\n",
    "total_fallecidos = df_defunciones.shape[0]\n",
    "print(\"Mujeres fallecidas:\", mujeres_fallecidas)\n",
    "print(\"Hombres fallecidos:\", hombres_fallecidos)\n",
    "print(\"Personas fallecidas:\", total_fallecidos)"
   ]
  },
  {
   "cell_type": "code",
   "execution_count": 40,
   "id": "987e78bf-adc4-4507-a097-09fda1e121ae",
   "metadata": {},
   "outputs": [
    {
     "name": "stdout",
     "output_type": "stream",
     "text": [
      "Letalidad COVID-19 en mujeres: 0.37\n",
      "Letalidad COVID-19 en hombres: 0.63\n"
     ]
    }
   ],
   "source": [
    "# De esta información, se puede sacar la conclusión de que el coronavirus\n",
    "# es significativamente más letal en hombres (un 63 %), que en mujeres (un 37%);\n",
    "# y que no parece deberse a una mayor incidencia en hombres.\n",
    "letalidad_coronavirus_mujeres = round(mujeres_fallecidas / total_fallecidos, 2)\n",
    "letalidad_coronavirus_hombres = round(hombres_fallecidos / total_fallecidos, 2)\n",
    "print(\"Letalidad COVID-19 en mujeres:\", letalidad_coronavirus_mujeres)\n",
    "print(\"Letalidad COVID-19 en hombres:\", letalidad_coronavirus_hombres)"
   ]
  },
  {
   "cell_type": "code",
   "execution_count": 41,
   "id": "e9e86e46-9fde-4159-9615-17fd66125647",
   "metadata": {},
   "outputs": [
    {
     "data": {
      "text/plain": [
       "ENTIDAD_UM\n",
       "9     673853\n",
       "15    205372\n",
       "19    141464\n",
       "dtype: int64"
      ]
     },
     "execution_count": 41,
     "metadata": {},
     "output_type": "execute_result"
    }
   ],
   "source": [
    "# Con este código, se muestran los 3 Estados con mayor número de personas,\n",
    "# y en combinación con el del apartado 4 del ejercicio 1 (que mostraba los\n",
    "# 3 Estados en que se habían registrado un mayor número de contagios), se puede sacar\n",
    "# la conclusión de que son los mismos, existiendo por tanto una fuerte relación directa\n",
    "# entre el número de personas analizadas y el de infectados, esto es, cuándo una sube\n",
    "# la otra también lo hace, y viceversa.\n",
    "df.groupby([\"ENTIDAD_UM\"]).size().sort_values(ascending = False).head(3)"
   ]
  },
  {
   "cell_type": "code",
   "execution_count": 42,
   "id": "7ca4df13-9c44-4203-9eb6-892e23fb45ec",
   "metadata": {},
   "outputs": [
    {
     "name": "stdout",
     "output_type": "stream",
     "text": [
      "Contagiados con Neumonía: 168986\n",
      "Fallecidos con Neumonía: 96732\n",
      "Leatalidad de la Neumonía: 0.57\n"
     ]
    }
   ],
   "source": [
    "# Aquí, comparación entre positivos y fallecidos con Neumonía. La\n",
    "# letalidad es del 57 %.\n",
    "positivos_neumonia = df_positivos[df_positivos[\"NEUMONIA\"] == 1].shape[0]\n",
    "fallecidos_neumonia = df_defunciones[df_defunciones[\"NEUMONIA\"] == 1].shape[0]\n",
    "letalidad_neumonia = round(fallecidos_neumonia / positivos_neumonia, 2)\n",
    "print(\"Contagiados con Neumonía:\", positivos_neumonia)\n",
    "print(\"Fallecidos con Neumonía:\", fallecidos_neumonia)\n",
    "print(\"Leatalidad de la Neumonía:\", letalidad_neumonia)"
   ]
  },
  {
   "cell_type": "markdown",
   "id": "9e641a8c-494f-4d22-bfb3-ae2aac9a751a",
   "metadata": {},
   "source": [
    "# Anexo: 5 CONCLUSIONES TRAS ANALIZAR EL DATASET."
   ]
  },
  {
   "cell_type": "markdown",
   "id": "59de9291-197b-477e-a15e-471e1f720f91",
   "metadata": {},
   "source": [
    "1.- La letalidad es del 14 % entre los infectados, y\n",
    "del 43 % entre los que ingresaron en una UCI."
   ]
  },
  {
   "cell_type": "markdown",
   "id": "5b339196-6914-4784-bb35-51d581befa88",
   "metadata": {},
   "source": [
    "2.- La mortalidad en hombres (63%) es bastante superior que en mujeres (37 %)."
   ]
  },
  {
   "cell_type": "markdown",
   "id": "50ff0e2f-f4b8-4076-82cd-ceac4b9ce2ad",
   "metadata": {},
   "source": [
    "3.- Parece que los Estados que han registrado un mayor número de contagios son los más poblados."
   ]
  },
  {
   "cell_type": "markdown",
   "id": "ec895af5-3791-4a32-998d-c1a8f018f13d",
   "metadata": {},
   "source": [
    "4.- La edad es una variable de gran importancia, ya que mientras que la edad promedio de\n",
    "los contagiados es de 44 años, la de los fallecidos es de 62 años, lo que indica que a mayor edad,\n",
    "mayor riesgo de fallecer al contraer el virus."
   ]
  },
  {
   "cell_type": "markdown",
   "id": "b6e38259-b51a-4787-a6e9-97a889d5e29a",
   "metadata": {},
   "source": [
    "5.- Mientras que la Hipertensión, la Neumonía y la Diabetes, respectivamente, son las enfermedades o sintomatologías que más tienen los positivos en coronavirus; en cambio la Neumonía (seguida a distancia por la Hipertensión y la Diabetes en este caso), es la que más prevalencia tiene en los fallecidos. Esto parece indicar que la Neumonía, ya sea anteior al contagio o provocada por él, parece tener bastante relación con el fallecimiento del paciente. De hecho, su letalidad es del 57 % (superior incluso a la de los ingresos en UCIs, que es del 43 %), sobre el total de personas contagiadas con Neumonía. También se debe tener en cuenta que el ingreso en una UCI puede deberse en gran parte a tener una Neumonía."
   ]
  },
  {
   "cell_type": "markdown",
   "id": "cca5b682-a140-4d38-9e96-c6fa362391c7",
   "metadata": {},
   "source": [
    "# Ejercicio 2"
   ]
  },
  {
   "cell_type": "code",
   "execution_count": 43,
   "id": "43c5cd5f-acbb-432e-b374-2ffe9fd06c81",
   "metadata": {},
   "outputs": [],
   "source": [
    "# 1.- Gráfico de barras del número de hombres y mujeres."
   ]
  },
  {
   "cell_type": "code",
   "execution_count": 44,
   "id": "d0f4e940-a437-44de-bb53-9eaf854a8e44",
   "metadata": {},
   "outputs": [
    {
     "data": {
      "image/png": "[encoded data removed]",
      "text/plain": [
       "<Figure size 576x360 with 1 Axes>"
      ]
     },
     "metadata": {
      "needs_background": "light"
     },
     "output_type": "display_data"
    }
   ],
   "source": [
    "# El valor 1 (azul en la gráfica) son las mujeres y el 2 los hombres.\n",
    "plt.figure(figsize = (8, 5))\n",
    "sns.countplot(x = df[\"SEXO\"])\n",
    "\n",
    "plt.show()"
   ]
  },
  {
   "cell_type": "code",
   "execution_count": 45,
   "id": "de4f8adb-70b7-4a06-9575-51d3911741dd",
   "metadata": {},
   "outputs": [],
   "source": [
    "# 2.- Gráfico de barras de los positivos y no positivos."
   ]
  },
  {
   "cell_type": "code",
   "execution_count": 46,
   "id": "f4f6c5ec-9716-44e5-8467-1729b1ac3c53",
   "metadata": {},
   "outputs": [
    {
     "data": {
      "image/png": "[encoded data removed]",
      "text/plain": [
       "<Figure size 576x360 with 1 Axes>"
      ]
     },
     "metadata": {
      "needs_background": "light"
     },
     "output_type": "display_data"
    }
   ],
   "source": [
    "# Para filtar los positivos (claves 1, 2 y 3) y los no\n",
    "# positivos (clasves 4, 5, 6 y 7). Además, se crea la columna\n",
    "# CONTAGIADOS dentro de df.\n",
    "plt.figure(figsize = (8, 5))\n",
    "df[\"CONTAGIADOS\"] = df[\"CLASIFICACION_FINAL\"].replace({ 1 : \"Positivo\", 2 : \"Positivo\",\n",
    "                                                        3 : \"Positivo\", 4 : \"No positivo\",\n",
    "                                                        5 : \"No positivo\", 6 : \"No positivo\",\n",
    "                                                        7 : \"No positivo\"})\n",
    "\n",
    "sns.countplot(x = df[\"CONTAGIADOS\"])\n",
    "plt.show()"
   ]
  },
  {
   "cell_type": "code",
   "execution_count": 47,
   "id": "caab8737-d446-4121-9ddb-93dfbc23b641",
   "metadata": {},
   "outputs": [],
   "source": [
    "# 3.- Gráfico de barras del número de positivos por estado."
   ]
  },
  {
   "cell_type": "code",
   "execution_count": 48,
   "id": "b0ca8684-c7b9-425a-8b51-18e0938db7f5",
   "metadata": {},
   "outputs": [
    {
     "data": {
      "image/png": "[encoded data removed]",
      "text/plain": [
       "<Figure size 1440x720 with 1 Axes>"
      ]
     },
     "metadata": {
      "needs_background": "light"
     },
     "output_type": "display_data"
    }
   ],
   "source": [
    "# Como en el jercicio 1 ya se creó un DataFrmae para positivos y\n",
    "# otro para defunciones, en los siguientes apartados de este ejercicio,\n",
    "# se usan los datos, ya filtrados en ese momento, para graficar.\n",
    "plt.figure(figsize = (20, 10))\n",
    "sns.countplot(x = df_positivos[\"ENTIDAD_UM\"], palette = \"Set1\")\n",
    "plt.show()"
   ]
  },
  {
   "cell_type": "code",
   "execution_count": 49,
   "id": "e15abba9-b8b7-4744-a7da-cd64517c49fc",
   "metadata": {},
   "outputs": [],
   "source": [
    "# 4.- Gráfico de barras del número de fallecidos por estado."
   ]
  },
  {
   "cell_type": "code",
   "execution_count": 50,
   "id": "1828e4c3-ec03-45ab-8fd7-93d691a984c6",
   "metadata": {},
   "outputs": [
    {
     "data": {
      "image/png": "[encoded data removed]",
      "text/plain": [
       "<Figure size 1440x720 with 1 Axes>"
      ]
     },
     "metadata": {
      "needs_background": "light"
     },
     "output_type": "display_data"
    }
   ],
   "source": [
    "plt.figure(figsize = (20, 10))\n",
    "sns.countplot(x = df_defunciones[\"ENTIDAD_UM\"], palette = \"Set2\")\n",
    "plt.show()"
   ]
  },
  {
   "cell_type": "code",
   "execution_count": 51,
   "id": "fe7b5dd0-ff5b-4476-87a8-ef4b94345379",
   "metadata": {},
   "outputs": [],
   "source": [
    "# 5.- Gráfico de barras del número de positivos por la columna SECTOR."
   ]
  },
  {
   "cell_type": "code",
   "execution_count": 52,
   "id": "836974ad-13fa-40f4-b560-6ecb3150a5dd",
   "metadata": {},
   "outputs": [
    {
     "data": {
      "image/png": "[encoded data removed]",
      "text/plain": [
       "<Figure size 864x432 with 1 Axes>"
      ]
     },
     "metadata": {
      "needs_background": "light"
     },
     "output_type": "display_data"
    }
   ],
   "source": [
    "# Cada número en el eje de abscisas corresponde a la institución\n",
    "# del Sistema Nacional de Salud que atendió al paciente.\n",
    "plt.figure(figsize = (12, 6))\n",
    "sns.countplot(x = df_positivos[\"SECTOR\"], palette = \"Set3\")\n",
    "plt.show()"
   ]
  },
  {
   "cell_type": "code",
   "execution_count": 53,
   "id": "f2b5c246-b268-4c7e-a533-046162904a6e",
   "metadata": {},
   "outputs": [],
   "source": [
    "# 6.- Histograma de la edad de los positivos."
   ]
  },
  {
   "cell_type": "code",
   "execution_count": 54,
   "id": "150a33f3-1568-40ee-8d80-d843b2c3de8f",
   "metadata": {},
   "outputs": [
    {
     "data": {
      "image/png": "[encoded data removed]",
      "text/plain": [
       "<Figure size 864x432 with 1 Axes>"
      ]
     },
     "metadata": {
      "needs_background": "light"
     },
     "output_type": "display_data"
    }
   ],
   "source": [
    "plt.figure(figsize = (12, 6))\n",
    "sns.histplot(df_positivos[\"EDAD\"])\n",
    "plt.show()"
   ]
  },
  {
   "cell_type": "code",
   "execution_count": 55,
   "id": "9fd58e58-24d8-46fe-a53e-aa88c75ea798",
   "metadata": {},
   "outputs": [],
   "source": [
    "# 7.- Histograma de la edad de los no positivos."
   ]
  },
  {
   "cell_type": "code",
   "execution_count": 56,
   "id": "65b733e5-c1f8-4c49-b6be-f42aa03142f3",
   "metadata": {},
   "outputs": [
    {
     "data": {
      "text/html": [
       "<div>\n",
       "<style scoped>\n",
       "    .dataframe tbody tr th:only-of-type {\n",
       "        vertical-align: middle;\n",
       "    }\n",
       "\n",
       "    .dataframe tbody tr th {\n",
       "        vertical-align: top;\n",
       "    }\n",
       "\n",
       "    .dataframe thead th {\n",
       "        text-align: right;\n",
       "    }\n",
       "</style>\n",
       "<table border=\"1\" class=\"dataframe\">\n",
       "  <thead>\n",
       "    <tr style=\"text-align: right;\">\n",
       "      <th></th>\n",
       "      <th>FECHA_ACTUALIZACION</th>\n",
       "      <th>ID_REGISTRO</th>\n",
       "      <th>ORIGEN</th>\n",
       "      <th>SECTOR</th>\n",
       "      <th>ENTIDAD_UM</th>\n",
       "      <th>SEXO</th>\n",
       "      <th>ENTIDAD_NAC</th>\n",
       "      <th>ENTIDAD_RES</th>\n",
       "      <th>MUNICIPIO_RES</th>\n",
       "      <th>TIPO_PACIENTE</th>\n",
       "      <th>...</th>\n",
       "      <th>TABAQUISMO</th>\n",
       "      <th>OTRO_CASO</th>\n",
       "      <th>TOMA_MUESTRA</th>\n",
       "      <th>RESULTADO_LAB</th>\n",
       "      <th>CLASIFICACION_FINAL</th>\n",
       "      <th>MIGRANTE</th>\n",
       "      <th>PAIS_NACIONALIDAD</th>\n",
       "      <th>PAIS_ORIGEN</th>\n",
       "      <th>UCI</th>\n",
       "      <th>CONTAGIADOS</th>\n",
       "    </tr>\n",
       "  </thead>\n",
       "  <tbody>\n",
       "    <tr>\n",
       "      <th>3956</th>\n",
       "      <td>2020-11-14</td>\n",
       "      <td>122f36</td>\n",
       "      <td>1</td>\n",
       "      <td>12</td>\n",
       "      <td>9</td>\n",
       "      <td>1</td>\n",
       "      <td>9</td>\n",
       "      <td>15</td>\n",
       "      <td>37</td>\n",
       "      <td>2</td>\n",
       "      <td>...</td>\n",
       "      <td>2</td>\n",
       "      <td>1</td>\n",
       "      <td>1</td>\n",
       "      <td>2</td>\n",
       "      <td>7</td>\n",
       "      <td>99</td>\n",
       "      <td>MÃ©xico</td>\n",
       "      <td>97</td>\n",
       "      <td>1</td>\n",
       "      <td>No positivo</td>\n",
       "    </tr>\n",
       "    <tr>\n",
       "      <th>3957</th>\n",
       "      <td>2020-11-14</td>\n",
       "      <td>105be7</td>\n",
       "      <td>1</td>\n",
       "      <td>12</td>\n",
       "      <td>25</td>\n",
       "      <td>1</td>\n",
       "      <td>25</td>\n",
       "      <td>25</td>\n",
       "      <td>11</td>\n",
       "      <td>2</td>\n",
       "      <td>...</td>\n",
       "      <td>2</td>\n",
       "      <td>2</td>\n",
       "      <td>1</td>\n",
       "      <td>2</td>\n",
       "      <td>7</td>\n",
       "      <td>99</td>\n",
       "      <td>MÃ©xico</td>\n",
       "      <td>97</td>\n",
       "      <td>2</td>\n",
       "      <td>No positivo</td>\n",
       "    </tr>\n",
       "    <tr>\n",
       "      <th>3958</th>\n",
       "      <td>2020-11-14</td>\n",
       "      <td>0c67f8</td>\n",
       "      <td>1</td>\n",
       "      <td>8</td>\n",
       "      <td>13</td>\n",
       "      <td>1</td>\n",
       "      <td>13</td>\n",
       "      <td>13</td>\n",
       "      <td>70</td>\n",
       "      <td>2</td>\n",
       "      <td>...</td>\n",
       "      <td>2</td>\n",
       "      <td>2</td>\n",
       "      <td>1</td>\n",
       "      <td>2</td>\n",
       "      <td>7</td>\n",
       "      <td>99</td>\n",
       "      <td>MÃ©xico</td>\n",
       "      <td>97</td>\n",
       "      <td>99</td>\n",
       "      <td>No positivo</td>\n",
       "    </tr>\n",
       "    <tr>\n",
       "      <th>3959</th>\n",
       "      <td>2020-11-14</td>\n",
       "      <td>124c70</td>\n",
       "      <td>1</td>\n",
       "      <td>4</td>\n",
       "      <td>14</td>\n",
       "      <td>2</td>\n",
       "      <td>14</td>\n",
       "      <td>14</td>\n",
       "      <td>39</td>\n",
       "      <td>2</td>\n",
       "      <td>...</td>\n",
       "      <td>2</td>\n",
       "      <td>99</td>\n",
       "      <td>1</td>\n",
       "      <td>2</td>\n",
       "      <td>7</td>\n",
       "      <td>99</td>\n",
       "      <td>MÃ©xico</td>\n",
       "      <td>97</td>\n",
       "      <td>2</td>\n",
       "      <td>No positivo</td>\n",
       "    </tr>\n",
       "    <tr>\n",
       "      <th>3960</th>\n",
       "      <td>2020-11-14</td>\n",
       "      <td>18a3d7</td>\n",
       "      <td>1</td>\n",
       "      <td>12</td>\n",
       "      <td>32</td>\n",
       "      <td>1</td>\n",
       "      <td>32</td>\n",
       "      <td>32</td>\n",
       "      <td>17</td>\n",
       "      <td>1</td>\n",
       "      <td>...</td>\n",
       "      <td>2</td>\n",
       "      <td>99</td>\n",
       "      <td>1</td>\n",
       "      <td>2</td>\n",
       "      <td>7</td>\n",
       "      <td>99</td>\n",
       "      <td>MÃ©xico</td>\n",
       "      <td>97</td>\n",
       "      <td>97</td>\n",
       "      <td>No positivo</td>\n",
       "    </tr>\n",
       "    <tr>\n",
       "      <th>...</th>\n",
       "      <td>...</td>\n",
       "      <td>...</td>\n",
       "      <td>...</td>\n",
       "      <td>...</td>\n",
       "      <td>...</td>\n",
       "      <td>...</td>\n",
       "      <td>...</td>\n",
       "      <td>...</td>\n",
       "      <td>...</td>\n",
       "      <td>...</td>\n",
       "      <td>...</td>\n",
       "      <td>...</td>\n",
       "      <td>...</td>\n",
       "      <td>...</td>\n",
       "      <td>...</td>\n",
       "      <td>...</td>\n",
       "      <td>...</td>\n",
       "      <td>...</td>\n",
       "      <td>...</td>\n",
       "      <td>...</td>\n",
       "      <td>...</td>\n",
       "    </tr>\n",
       "    <tr>\n",
       "      <th>2604653</th>\n",
       "      <td>2020-11-14</td>\n",
       "      <td>37abfe</td>\n",
       "      <td>2</td>\n",
       "      <td>12</td>\n",
       "      <td>9</td>\n",
       "      <td>2</td>\n",
       "      <td>9</td>\n",
       "      <td>9</td>\n",
       "      <td>5</td>\n",
       "      <td>1</td>\n",
       "      <td>...</td>\n",
       "      <td>2</td>\n",
       "      <td>2</td>\n",
       "      <td>1</td>\n",
       "      <td>3</td>\n",
       "      <td>6</td>\n",
       "      <td>99</td>\n",
       "      <td>MÃ©xico</td>\n",
       "      <td>97</td>\n",
       "      <td>97</td>\n",
       "      <td>No positivo</td>\n",
       "    </tr>\n",
       "    <tr>\n",
       "      <th>2604654</th>\n",
       "      <td>2020-11-14</td>\n",
       "      <td>20edd4</td>\n",
       "      <td>2</td>\n",
       "      <td>4</td>\n",
       "      <td>30</td>\n",
       "      <td>1</td>\n",
       "      <td>30</td>\n",
       "      <td>30</td>\n",
       "      <td>44</td>\n",
       "      <td>1</td>\n",
       "      <td>...</td>\n",
       "      <td>2</td>\n",
       "      <td>2</td>\n",
       "      <td>1</td>\n",
       "      <td>4</td>\n",
       "      <td>6</td>\n",
       "      <td>99</td>\n",
       "      <td>MÃ©xico</td>\n",
       "      <td>97</td>\n",
       "      <td>97</td>\n",
       "      <td>No positivo</td>\n",
       "    </tr>\n",
       "    <tr>\n",
       "      <th>2604655</th>\n",
       "      <td>2020-11-14</td>\n",
       "      <td>3b9335</td>\n",
       "      <td>1</td>\n",
       "      <td>4</td>\n",
       "      <td>6</td>\n",
       "      <td>1</td>\n",
       "      <td>6</td>\n",
       "      <td>6</td>\n",
       "      <td>2</td>\n",
       "      <td>1</td>\n",
       "      <td>...</td>\n",
       "      <td>2</td>\n",
       "      <td>2</td>\n",
       "      <td>2</td>\n",
       "      <td>97</td>\n",
       "      <td>6</td>\n",
       "      <td>99</td>\n",
       "      <td>MÃ©xico</td>\n",
       "      <td>97</td>\n",
       "      <td>97</td>\n",
       "      <td>No positivo</td>\n",
       "    </tr>\n",
       "    <tr>\n",
       "      <th>2604657</th>\n",
       "      <td>2020-11-14</td>\n",
       "      <td>2e7cc4</td>\n",
       "      <td>2</td>\n",
       "      <td>12</td>\n",
       "      <td>15</td>\n",
       "      <td>1</td>\n",
       "      <td>15</td>\n",
       "      <td>15</td>\n",
       "      <td>63</td>\n",
       "      <td>1</td>\n",
       "      <td>...</td>\n",
       "      <td>2</td>\n",
       "      <td>1</td>\n",
       "      <td>2</td>\n",
       "      <td>97</td>\n",
       "      <td>6</td>\n",
       "      <td>99</td>\n",
       "      <td>MÃ©xico</td>\n",
       "      <td>97</td>\n",
       "      <td>97</td>\n",
       "      <td>No positivo</td>\n",
       "    </tr>\n",
       "    <tr>\n",
       "      <th>2604658</th>\n",
       "      <td>2020-11-14</td>\n",
       "      <td>3c1906</td>\n",
       "      <td>2</td>\n",
       "      <td>9</td>\n",
       "      <td>21</td>\n",
       "      <td>2</td>\n",
       "      <td>21</td>\n",
       "      <td>21</td>\n",
       "      <td>114</td>\n",
       "      <td>1</td>\n",
       "      <td>...</td>\n",
       "      <td>2</td>\n",
       "      <td>2</td>\n",
       "      <td>1</td>\n",
       "      <td>4</td>\n",
       "      <td>6</td>\n",
       "      <td>99</td>\n",
       "      <td>MÃ©xico</td>\n",
       "      <td>97</td>\n",
       "      <td>97</td>\n",
       "      <td>No positivo</td>\n",
       "    </tr>\n",
       "  </tbody>\n",
       "</table>\n",
       "<p>1601406 rows × 39 columns</p>\n",
       "</div>"
      ],
      "text/plain": [
       "        FECHA_ACTUALIZACION ID_REGISTRO  ORIGEN  SECTOR  ENTIDAD_UM  SEXO  \\\n",
       "3956             2020-11-14      122f36       1      12           9     1   \n",
       "3957             2020-11-14      105be7       1      12          25     1   \n",
       "3958             2020-11-14      0c67f8       1       8          13     1   \n",
       "3959             2020-11-14      124c70       1       4          14     2   \n",
       "3960             2020-11-14      18a3d7       1      12          32     1   \n",
       "...                     ...         ...     ...     ...         ...   ...   \n",
       "2604653          2020-11-14      37abfe       2      12           9     2   \n",
       "2604654          2020-11-14      20edd4       2       4          30     1   \n",
       "2604655          2020-11-14      3b9335       1       4           6     1   \n",
       "2604657          2020-11-14      2e7cc4       2      12          15     1   \n",
       "2604658          2020-11-14      3c1906       2       9          21     2   \n",
       "\n",
       "         ENTIDAD_NAC  ENTIDAD_RES  MUNICIPIO_RES  TIPO_PACIENTE  ...  \\\n",
       "3956               9           15             37              2  ...   \n",
       "3957              25           25             11              2  ...   \n",
       "3958              13           13             70              2  ...   \n",
       "3959              14           14             39              2  ...   \n",
       "3960              32           32             17              1  ...   \n",
       "...              ...          ...            ...            ...  ...   \n",
       "2604653            9            9              5              1  ...   \n",
       "2604654           30           30             44              1  ...   \n",
       "2604655            6            6              2              1  ...   \n",
       "2604657           15           15             63              1  ...   \n",
       "2604658           21           21            114              1  ...   \n",
       "\n",
       "        TABAQUISMO OTRO_CASO TOMA_MUESTRA  RESULTADO_LAB  CLASIFICACION_FINAL  \\\n",
       "3956             2         1            1              2                    7   \n",
       "3957             2         2            1              2                    7   \n",
       "3958             2         2            1              2                    7   \n",
       "3959             2        99            1              2                    7   \n",
       "3960             2        99            1              2                    7   \n",
       "...            ...       ...          ...            ...                  ...   \n",
       "2604653          2         2            1              3                    6   \n",
       "2604654          2         2            1              4                    6   \n",
       "2604655          2         2            2             97                    6   \n",
       "2604657          2         1            2             97                    6   \n",
       "2604658          2         2            1              4                    6   \n",
       "\n",
       "         MIGRANTE  PAIS_NACIONALIDAD  PAIS_ORIGEN  UCI  CONTAGIADOS  \n",
       "3956           99            MÃ©xico           97    1  No positivo  \n",
       "3957           99            MÃ©xico           97    2  No positivo  \n",
       "3958           99            MÃ©xico           97   99  No positivo  \n",
       "3959           99            MÃ©xico           97    2  No positivo  \n",
       "3960           99            MÃ©xico           97   97  No positivo  \n",
       "...           ...                ...          ...  ...          ...  \n",
       "2604653        99            MÃ©xico           97   97  No positivo  \n",
       "2604654        99            MÃ©xico           97   97  No positivo  \n",
       "2604655        99            MÃ©xico           97   97  No positivo  \n",
       "2604657        99            MÃ©xico           97   97  No positivo  \n",
       "2604658        99            MÃ©xico           97   97  No positivo  \n",
       "\n",
       "[1601406 rows x 39 columns]"
      ]
     },
     "execution_count": 56,
     "metadata": {},
     "output_type": "execute_result"
    }
   ],
   "source": [
    "# En este caso, se usa la nueva columana CONTAGIADOS, creada\n",
    "# en el apartado 2 del presente ejercicio, para filtrar los\n",
    "# datos y obtener un DataFrame solo con los no positivos.\n",
    "df_no_positivos = df[df[\"CONTAGIADOS\"] == \"No positivo\"]\n",
    "df_no_positivos"
   ]
  },
  {
   "cell_type": "code",
   "execution_count": 57,
   "id": "00d6390f-96f7-4030-acd2-ebfd08e9c93e",
   "metadata": {},
   "outputs": [
    {
     "data": {
      "image/png": "[encoded data removed]",
      "text/plain": [
       "<Figure size 864x432 with 1 Axes>"
      ]
     },
     "metadata": {
      "needs_background": "light"
     },
     "output_type": "display_data"
    }
   ],
   "source": [
    "plt.figure(figsize = (12, 6))\n",
    "sns.histplot(df_no_positivos[\"EDAD\"])\n",
    "plt.show()"
   ]
  },
  {
   "cell_type": "code",
   "execution_count": 58,
   "id": "4c6d8c3f-5a1f-4873-aa9a-67a193d23bb9",
   "metadata": {},
   "outputs": [],
   "source": [
    "# 8.- Mapa de calor de México con el número de positivos por estado utilizando folium."
   ]
  },
  {
   "cell_type": "code",
   "execution_count": 60,
   "id": "ad48ac53-96e9-48a8-8417-f0b18aab2448",
   "metadata": {},
   "outputs": [],
   "source": [
    "# 9.- Mapa de calor de México con el número de fallecidos por estado utilizando folium."
   ]
  },
  {
   "cell_type": "code",
   "execution_count": 59,
   "id": "383a1f86-3277-4ecd-a1d6-b13302dc84a1",
   "metadata": {},
   "outputs": [],
   "source": [
    "# Los apartados 8  y 9 los he dejado para el final (por considerarlo lo más complicado)\n",
    "# , por si me daba tiempo, pero al final no he podido hacerlo."
   ]
  },
  {
   "cell_type": "markdown",
   "id": "a4b20b95-5180-43a0-8bcd-5b0398b89276",
   "metadata": {},
   "source": [
    "# ¿Que otras graficas podrias extraer del dataset? Analiza el dataset y muestra 5 graficas, pueden ser cualquiera de las vistas en clases."
   ]
  },
  {
   "cell_type": "code",
   "execution_count": 61,
   "id": "6847b5d6-5b5b-43cc-824a-ae48fab28f40",
   "metadata": {},
   "outputs": [
    {
     "data": {
      "image/png": "[encoded data removed]",
      "text/plain": [
       "<Figure size 720x432 with 1 Axes>"
      ]
     },
     "metadata": {
      "needs_background": "light"
     },
     "output_type": "display_data"
    }
   ],
   "source": [
    "# Para analizar, para los positivos, el Tipo de paciente (1: no fue hospitalizado,\n",
    "# 2: fue hospitalizado), con la edad. Se puede ver que las personas hospitalizadas\n",
    "# tienden a ser más mayores. \n",
    "plt.figure(figsize = (10, 6))\n",
    "\n",
    "sns.barplot(x = \"TIPO_PACIENTE\", y = \"EDAD\", data = df_positivos, palette = \"Blues_r\")\n",
    "\n",
    "plt.show()"
   ]
  },
  {
   "cell_type": "code",
   "execution_count": 62,
   "id": "fbfb1ca6-d156-4cbe-add3-2f5dfe29c88d",
   "metadata": {},
   "outputs": [
    {
     "data": {
      "image/png": "[encoded data removed]",
      "text/plain": [
       "<Figure size 576x360 with 1 Axes>"
      ]
     },
     "metadata": {
      "needs_background": "light"
     },
     "output_type": "display_data"
    }
   ],
   "source": [
    "# En este caso, para analizar los muertos en hospitales y fuera de ellos.\n",
    "# Como era de prever, la mayoría de fallecimientos se dieron en hospitales.\n",
    "plt.figure(figsize = (8, 5))\n",
    "sns.countplot(x = df_defunciones[\"TIPO_PACIENTE\"])\n",
    "\n",
    "plt.show()"
   ]
  },
  {
   "cell_type": "code",
   "execution_count": 63,
   "id": "ff566ae4-0ab9-43a1-a933-cf59527bfa4a",
   "metadata": {},
   "outputs": [
    {
     "data": {
      "image/png": "[encoded data removed]",
      "text/plain": [
       "<Figure size 576x360 with 1 Axes>"
      ]
     },
     "metadata": {
      "needs_background": "light"
     },
     "output_type": "display_data"
    }
   ],
   "source": [
    "# Para ver la obesidad, para los positivos (1: obeso, 2: no obeso, 98: se ignora).\n",
    "plt.figure(figsize = (8, 5))\n",
    "sns.countplot(x = df_positivos[\"OBESIDAD\"])\n",
    "\n",
    "plt.show()"
   ]
  },
  {
   "cell_type": "code",
   "execution_count": 64,
   "id": "bb1b6c15-c754-4fc7-b9c5-1fc40808c73b",
   "metadata": {},
   "outputs": [
    {
     "data": {
      "image/png": "[encoded data removed]",
      "text/plain": [
       "<Figure size 576x360 with 1 Axes>"
      ]
     },
     "metadata": {
      "needs_background": "light"
     },
     "output_type": "display_data"
    }
   ],
   "source": [
    "# Lo mismo de antes, pero para los fallecidos. Se observa un aumento entre los\n",
    "# fallecidos de los obesos con respecto a los contagiados.\n",
    "plt.figure(figsize = (8, 5))\n",
    "sns.countplot(x = df_defunciones[\"OBESIDAD\"])\n",
    "\n",
    "plt.show()"
   ]
  },
  {
   "cell_type": "code",
   "execution_count": 65,
   "id": "311f860b-dc44-4201-817e-ff372ef012ac",
   "metadata": {},
   "outputs": [
    {
     "data": {
      "image/png": "[encoded data removed]",
      "text/plain": [
       "<Figure size 576x360 with 1 Axes>"
      ]
     },
     "metadata": {
      "needs_background": "light"
     },
     "output_type": "display_data"
    }
   ],
   "source": [
    "# Para ver la incidencia entre los intubados, para los \n",
    "# positivos (1: requirió intubación, 2: no la requirió,\n",
    "# 97 y 98: se ignora ó no aplica).\n",
    "plt.figure(figsize = (8, 5))\n",
    "sns.countplot(x = df_positivos[\"INTUBADO\"])\n",
    "\n",
    "plt.show()"
   ]
  },
  {
   "cell_type": "code",
   "execution_count": 66,
   "id": "55247c11-ff27-4059-8dec-e25110001ea8",
   "metadata": {},
   "outputs": [
    {
     "data": {
      "image/png": "[encoded data removed]",
      "text/plain": [
       "<Figure size 576x360 with 1 Axes>"
      ]
     },
     "metadata": {
      "needs_background": "light"
     },
     "output_type": "display_data"
    }
   ],
   "source": [
    "# Lo mismo de antes, pero para los fallecidos. Se observa un aumento entre los\n",
    "# fallecidos de los intubados con respecto a los contagiados.\n",
    "plt.figure(figsize = (8, 5))\n",
    "sns.countplot(x = df_defunciones[\"INTUBADO\"])\n",
    "\n",
    "plt.show()"
   ]
  },
  {
   "cell_type": "code",
   "execution_count": 67,
   "id": "a533cd3f-c163-459d-a59b-253a3b5672a1",
   "metadata": {},
   "outputs": [
    {
     "data": {
      "image/png": "[encoded data removed]",
      "text/plain": [
       "<Figure size 576x360 with 1 Axes>"
      ]
     },
     "metadata": {
      "needs_background": "light"
     },
     "output_type": "display_data"
    }
   ],
   "source": [
    "# Para ver la incidencia entre los fumadores, para los \n",
    "# positivos (1: fumador, 2: no fumador, 98: se ignora).\n",
    "plt.figure(figsize = (8, 5))\n",
    "sns.countplot(x = df_positivos[\"TABAQUISMO\"])\n",
    "\n",
    "plt.show()"
   ]
  },
  {
   "cell_type": "code",
   "execution_count": 68,
   "id": "6af6c55b-be31-4821-8238-1de4d5876a67",
   "metadata": {},
   "outputs": [
    {
     "data": {
      "image/png": "[encoded data removed]",
      "text/plain": [
       "<Figure size 576x360 with 1 Axes>"
      ]
     },
     "metadata": {
      "needs_background": "light"
     },
     "output_type": "display_data"
    }
   ],
   "source": [
    "# Lo mismo de antes, pero para los fallecidos. NO se observa un aumento\n",
    "# de los fumadores entre los fallecidos con respecto a los contagiados.\n",
    "plt.figure(figsize = (8, 5))\n",
    "sns.countplot(x = df_defunciones[\"TABAQUISMO\"])\n",
    "\n",
    "plt.show()"
   ]
  },
  {
   "cell_type": "code",
   "execution_count": 69,
   "id": "280b84ce-9507-4072-acc2-d61427608a26",
   "metadata": {},
   "outputs": [
    {
     "data": {
      "image/png": "[encoded data removed]",
      "text/plain": [
       "<Figure size 1440x720 with 2 Axes>"
      ]
     },
     "metadata": {
      "needs_background": "light"
     },
     "output_type": "display_data"
    }
   ],
   "source": [
    "# Por último, un mapa de correlación, del DataFrame de los contagiados.\n",
    "plt.figure(figsize = (20, 10))\n",
    "\n",
    "sns.heatmap(data = df_positivos.loc[:, [\"SEXO\", \"TIPO_PACIENTE\", \"EDAD\", \"OBESIDAD\"]].corr(), annot = True)\n",
    "\n",
    "plt.show()"
   ]
  },
  {
   "cell_type": "code",
   "execution_count": 70,
   "id": "2243da08-3d34-4a66-87a4-d16f60bc38f2",
   "metadata": {},
   "outputs": [],
   "source": [
    "# Como conclusión a este mapa de calor, se observa una relación directa (0,4), aunque no muy grande,\n",
    "# entre la edad y el tipo de paciente (hospitalizado o no)."
   ]
  }
 ],
 "metadata": {
  "kernelspec": {
   "display_name": "Python 3",
   "language": "python",
   "name": "python3"
  },
  "language_info": {
   "codemirror_mode": {
    "name": "ipython",
    "version": 3
   },
   "file_extension": ".py",
   "mimetype": "text/x-python",
   "name": "python",
   "nbconvert_exporter": "python",
   "pygments_lexer": "ipython3",
   "version": "3.8.8"
  }
 },
 "nbformat": 4,
 "nbformat_minor": 5
}
